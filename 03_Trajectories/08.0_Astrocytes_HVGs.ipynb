{
 "cells": [
  {
   "cell_type": "code",
   "execution_count": 1,
   "id": "90b1372d-c7c6-4ff8-a7f7-bfd30319ff47",
   "metadata": {
    "execution": {
     "iopub.execute_input": "2023-07-26T06:40:47.728226Z",
     "iopub.status.busy": "2023-07-26T06:40:47.727842Z",
     "iopub.status.idle": "2023-07-26T06:40:49.159805Z",
     "shell.execute_reply": "2023-07-26T06:40:49.159346Z"
    }
   },
   "outputs": [],
   "source": [
    "import scanpy as sc\n",
    "import pandas as pd\n",
    "import anndata as ad\n",
    "import yaml\n",
    "import socket\n",
    "import os\n",
    "import warnings"
   ]
  },
  {
   "cell_type": "code",
   "execution_count": 2,
   "id": "18e07e9b-c82b-4190-8d15-08595eb8ab2e",
   "metadata": {
    "execution": {
     "iopub.execute_input": "2023-07-26T06:40:49.162876Z",
     "iopub.status.busy": "2023-07-26T06:40:49.162530Z",
     "iopub.status.idle": "2023-07-26T06:40:49.177676Z",
     "shell.execute_reply": "2023-07-26T06:40:49.177306Z"
    }
   },
   "outputs": [],
   "source": [
    "\n",
    "outdir = \"../data/output\"\n",
    "if not os.path.exists(outdir):\n",
    "   # Create a new directory because it does not exist\n",
    "   os.makedirs(outdir)\n",
    "\n",
    "with open(\"../data/resources/iPSC_lines_map.yaml\", 'r') as f:\n",
    "    iPSC_lines_map = yaml.load(f, Loader=yaml.FullLoader)[\"lines\"]\n",
    "\n",
    "indir = \"../data\""
   ]
  },
  {
   "cell_type": "code",
   "execution_count": 3,
   "id": "acef09ee-cf41-481f-98de-6a30e5eb2d9c",
   "metadata": {
    "execution": {
     "iopub.execute_input": "2023-07-26T06:40:49.180558Z",
     "iopub.status.busy": "2023-07-26T06:40:49.180076Z",
     "iopub.status.idle": "2023-07-26T06:40:49.182243Z",
     "shell.execute_reply": "2023-07-26T06:40:49.181926Z"
    }
   },
   "outputs": [],
   "source": [
    "UpD50Path = \"../data/Sample_S20272_157/filtered_feature_bc_matrix/\"\n",
    "DownD50Path = \"../data/Sample_S20273_158/filtered_feature_bc_matrix/\"\n",
    "\n",
    "\n",
    "UpD100_1Path = \"../data/Sample_S20812_258/filtered_feature_bc_matrix/\"\n",
    "UpD100_2Path =  \"../data/Sample_S20813_259/filtered_feature_bc_matrix/\"\n",
    "DownD100Path = \"../data/Sample_S31807_MET6_GEX/filtered_feature_bc_matrix/\"\n",
    "\n",
    "\n",
    "UpD300Path = \"../data/Sample_S33846_C_GEX/filtered_feature_bc_matrix/\"\n",
    "DownD250Path = \"../data/Sample_S20814_260/filtered_feature_bc_matrix/\""
   ]
  },
  {
   "cell_type": "code",
   "execution_count": 4,
   "id": "0d5f502f-f9e4-4705-a329-6407a3ab0bdd",
   "metadata": {
    "execution": {
     "iopub.execute_input": "2023-07-26T06:40:49.250077Z",
     "iopub.status.busy": "2023-07-26T06:40:49.249589Z",
     "iopub.status.idle": "2023-07-26T06:40:54.919957Z",
     "shell.execute_reply": "2023-07-26T06:40:54.919527Z"
    }
   },
   "outputs": [],
   "source": [
    "BranchBCs = sc.read_h5ad(outdir+\"/adatas/adataPaga.h5ad\")\n",
    "BranchBCs = BranchBCs.obs_names[BranchBCs.obs[\"endpoint_OuterRadialGliaAstrocytes\"] == 1].tolist()\n",
    "\n",
    "\n",
    "Branchtag = \"Astro\""
   ]
  },
  {
   "cell_type": "code",
   "execution_count": 5,
   "id": "60480eb3-1085-46ee-8404-d00d810e0b43",
   "metadata": {
    "execution": {
     "iopub.execute_input": "2023-07-26T06:40:54.946705Z",
     "iopub.status.busy": "2023-07-26T06:40:54.946346Z",
     "iopub.status.idle": "2023-07-26T06:40:54.948531Z",
     "shell.execute_reply": "2023-07-26T06:40:54.948807Z"
    }
   },
   "outputs": [
    {
     "data": {
      "text/plain": [
       "UpD300      1331\n",
       "DownD50      770\n",
       "DownD250     512\n",
       "UpD50        451\n",
       "DownD100     430\n",
       "UpD100_2     194\n",
       "UpD100_1     126\n",
       "dtype: int64"
      ]
     },
     "execution_count": 1,
     "metadata": {},
     "output_type": "execute_result"
    }
   ],
   "source": [
    "pd.Series([\"_\".join(ds) for ds in  [bc.split(\"_\")[1:] for bc in BranchBCs]]).value_counts()"
   ]
  },
  {
   "cell_type": "markdown",
   "id": "9670b498-94e6-443f-8360-f38c42b95f3c",
   "metadata": {},
   "source": [
    "### D50"
   ]
  },
  {
   "cell_type": "code",
   "execution_count": 6,
   "id": "fe7cfbad-6d67-44d2-85cd-821a0e6820dc",
   "metadata": {
    "execution": {
     "iopub.execute_input": "2023-07-26T06:40:54.955608Z",
     "iopub.status.busy": "2023-07-26T06:40:54.954983Z",
     "iopub.status.idle": "2023-07-26T06:41:01.156413Z",
     "shell.execute_reply": "2023-07-26T06:41:01.156068Z"
    }
   },
   "outputs": [
    {
     "name": "stderr",
     "output_type": "stream",
     "text": [
      "/usr/local/lib/python3.8/dist-packages/scanpy/preprocessing/_simple.py:251: ImplicitModificationWarning: Trying to modify attribute `.var` of view, initializing view as actual.\n",
      "  adata.var['n_cells'] = number\n",
      "/usr/local/lib/python3.8/dist-packages/scanpy/preprocessing/_normalization.py:134: FutureWarning: The `layers` argument is deprecated. Instead, specify individual layers to normalize with `layer`.\n",
      "  warn(\n",
      "/usr/local/lib/python3.8/dist-packages/pandas/core/indexing.py:1637: SettingWithCopyWarning: \n",
      "A value is trying to be set on a copy of a slice from a DataFrame\n",
      "\n",
      "See the caveats in the documentation: https://pandas.pydata.org/pandas-docs/stable/user_guide/indexing.html#returning-a-view-versus-a-copy\n",
      "  self._setitem_single_block(indexer, value, name)\n"
     ]
    }
   ],
   "source": [
    "#D50 HVG <------------------------------------------------------------------------------\n",
    "#D50 HVG <------------------------------------------------------------------------------\n",
    "\n",
    "\n",
    "#UpD50-----------------------------------------\n",
    "#UpD50-----------------------------------------\n",
    "\n",
    "DSname=\"UpD50\"\n",
    "DSnameDirName=\"Sample_S20272_157\"\n",
    "adata=sc.read_10x_mtx(indir+'/'+DSnameDirName+\"/filtered_feature_bc_matrix/\",var_names='gene_symbols', cache=True)\n",
    "adata.var_names_make_unique()\n",
    "cellID = pd.read_csv(indir+'/'+DSnameDirName+'/aggregatedCall/aggregatedCall.tsv', sep =\"\\t\",index_col = 0)\n",
    "adata.obs['cellID'] = cellID.loc[adata.obs_names, 'Consensus']\n",
    "adata = adata[adata.obs['cellID'].isin([\"3391B\",\"KOLF\",\"MIFF1\",\"809\",\"LowQuality\",\"doublet\"])]\n",
    "adata = adata[pd.Series(list(set(adata.obs_names +\"_\"+DSname).intersection(set(BranchBCs)))).str.split(\"_\", expand=True)[0]]\n",
    "\n",
    "sc.pp.filter_genes(adata, min_cells=3)\n",
    "UpD50 = adata.copy()\n",
    "\n",
    "\n",
    "#DownD50-----------------------------------------\n",
    "#DownD50-----------------------------------------\n",
    "\n",
    "DSname=\"DownD50\"\n",
    "DSnameDirName=\"Sample_S20273_158\"\n",
    "adata=sc.read_10x_mtx(indir+'/'+DSnameDirName+\"/filtered_feature_bc_matrix/\",var_names='gene_symbols', cache=True)\n",
    "adata.var_names_make_unique()\n",
    "cellID = pd.read_csv(indir+'/'+DSnameDirName+'/aggregatedCall/aggregatedCall.tsv', sep =\"\\t\",index_col = 0)\n",
    "adata.obs['cellID'] = cellID.loc[adata.obs_names, 'Consensus']\n",
    "adata = adata[adata.obs['cellID'].isin([\"3391B\",\"KOLF\",\"MIFF1\",\"809\",\"LowQuality\",\"doublet\"])]\n",
    "adata = adata[pd.Series(list(set(adata.obs_names +\"_\"+DSname).intersection(set(BranchBCs)))).str.split(\"_\", expand=True)[0]]\n",
    "\n",
    "sc.pp.filter_genes(adata, min_cells=3)\n",
    "DownD50 = adata.copy()\n",
    "\n",
    "\n",
    "del adata\n",
    "\n",
    "\n",
    "UpD50.obs['dataset'] = \"UpD50\"\n",
    "UpD50.obs_names = [i + \"_\" + j for i, j in zip(UpD50.obs_names.tolist(), UpD50.obs[\"dataset\"].tolist())]\n",
    "DownD50.obs['dataset'] = \"DownD50\"\n",
    "DownD50.obs_names = [i + \"_\" + j for i, j in zip(DownD50.obs_names.tolist(), DownD50.obs[\"dataset\"].tolist())]\n",
    "#Merge datasets\n",
    "adata = ad.concat([UpD50,DownD50], merge=\"same\")\n",
    "\n",
    "\n",
    "sc.pp.normalize_total(adata, target_sum=2e4, layers = \"all\")\n",
    "sc.pp.log1p(adata)\n",
    "#scv.pp.filter_genes(adata, min_shared_counts = 30)\n",
    "#HVG detection\n",
    "sc.pp.highly_variable_genes(adata, n_top_genes=2000, batch_key = \"dataset\")\n",
    "#adata = adata[:, adata.var.highly_variable]\n",
    "HVGd50 = adata.var[adata.var.highly_variable_nbatches >= 2].index.tolist()\n",
    "HVGd50Union = adata.var[adata.var.highly_variable_nbatches >= 1].index.tolist()"
   ]
  },
  {
   "cell_type": "markdown",
   "id": "f17a18c2-1466-4d2b-9b27-0ea36ee8a12d",
   "metadata": {},
   "source": [
    "### D100"
   ]
  },
  {
   "cell_type": "code",
   "execution_count": 7,
   "id": "05c72c24-fb32-43a8-b04d-73b03c5bd665",
   "metadata": {
    "execution": {
     "iopub.execute_input": "2023-07-26T06:41:01.165651Z",
     "iopub.status.busy": "2023-07-26T06:41:01.165273Z",
     "iopub.status.idle": "2023-07-26T06:41:09.344242Z",
     "shell.execute_reply": "2023-07-26T06:41:09.343788Z"
    }
   },
   "outputs": [
    {
     "name": "stderr",
     "output_type": "stream",
     "text": [
      "/usr/local/lib/python3.8/dist-packages/scanpy/preprocessing/_simple.py:251: ImplicitModificationWarning: Trying to modify attribute `.var` of view, initializing view as actual.\n",
      "  adata.var['n_cells'] = number\n",
      "/usr/local/lib/python3.8/dist-packages/scanpy/preprocessing/_normalization.py:134: FutureWarning: The `layers` argument is deprecated. Instead, specify individual layers to normalize with `layer`.\n",
      "  warn(\n",
      "/usr/local/lib/python3.8/dist-packages/pandas/core/indexing.py:1637: SettingWithCopyWarning: \n",
      "A value is trying to be set on a copy of a slice from a DataFrame\n",
      "\n",
      "See the caveats in the documentation: https://pandas.pydata.org/pandas-docs/stable/user_guide/indexing.html#returning-a-view-versus-a-copy\n",
      "  self._setitem_single_block(indexer, value, name)\n"
     ]
    }
   ],
   "source": [
    "#D100 HVG <--------------------------\n",
    "#D100 HVG <--------------------------\n",
    "#D100 HVG <--------------------------\n",
    "\n",
    "#UpD100_1-----------------------------------------\n",
    "#UpD100_1-----------------------------------------\n",
    "\n",
    "DSname=\"UpD100_1\"\n",
    "DSnameDirName=\"Sample_S20812_258\"\n",
    "adata=sc.read_10x_mtx(indir+'/'+DSnameDirName+\"/filtered_feature_bc_matrix/\",var_names='gene_symbols', cache=True)\n",
    "adata.var_names_make_unique()\n",
    "cellID = pd.read_csv(indir+'/'+DSnameDirName+'/aggregatedCall/aggregatedCall.tsv', sep =\"\\t\",index_col = 0)\n",
    "adata.obs['cellID'] = cellID.loc[adata.obs_names, 'Consensus']\n",
    "adata = adata[adata.obs['cellID'].isin([\"3391B\",\"KOLF\",\"MIFF1\",\"809\",\"LowQuality\",\"doublet\"])]\n",
    "adata = adata[pd.Series(list(set(adata.obs_names +\"_\"+DSname).intersection(set(BranchBCs)))).str.split(\"_\", expand=True)[0]]\n",
    "\n",
    "sc.pp.filter_genes(adata, min_cells=3)\n",
    "UpD100_1 = adata.copy()\n",
    "\n",
    "\n",
    "#UpD100_2-----------------------------------------\n",
    "#UpD100_2-----------------------------------------\n",
    "\n",
    "DSname=\"UpD100_2\"\n",
    "DSnameDirName=\"Sample_S20813_259\"\n",
    "adata=sc.read_10x_mtx(indir+'/'+DSnameDirName+\"/filtered_feature_bc_matrix/\",var_names='gene_symbols', cache=True)\n",
    "adata.var_names_make_unique()\n",
    "cellID = pd.read_csv(indir+'/'+DSnameDirName+'/aggregatedCall/aggregatedCall.tsv', sep =\"\\t\",index_col = 0)\n",
    "adata.obs['cellID'] = cellID.loc[adata.obs_names, 'Consensus']\n",
    "adata = adata[adata.obs['cellID'].isin([\"3391B\",\"KOLF\",\"MIFF1\",\"809\",\"LowQuality\",\"doublet\"])]\n",
    "adata = adata[pd.Series(list(set(adata.obs_names +\"_\"+DSname).intersection(set(BranchBCs)))).str.split(\"_\", expand=True)[0]]\n",
    "\n",
    "sc.pp.filter_genes(adata, min_cells=3)\n",
    "UpD100_2 = adata.copy()\n",
    "\n",
    "\n",
    "#DownD100-----------------------------------------\n",
    "#DownD100-----------------------------------------\n",
    "\n",
    "DSname=\"DownD100\"\n",
    "DSnameDirName=\"Sample_S31807_MET6\"\n",
    "adata=sc.read_10x_mtx(indir+'/'+DSnameDirName+\"/filtered_feature_bc_matrix/\",var_names='gene_symbols', cache=True)\n",
    "adata.var_names_make_unique()\n",
    "cellID = pd.read_csv(indir+'/'+DSnameDirName+'/aggregatedCall/aggregatedCall.tsv', sep =\"\\t\",index_col = 0)\n",
    "adata.obs['cellID'] = cellID.loc[adata.obs_names, 'Consensus']\n",
    "adata = adata[adata.obs['cellID'].isin([\"3391B\",\"KOLF\",\"MIFF1\",\"809\",\"LowQuality\",\"doublet\"])]\n",
    "adata = adata[pd.Series(list(set(adata.obs_names +\"_\"+DSname).intersection(set(BranchBCs)))).str.split(\"_\", expand=True)[0]]\n",
    "\n",
    "sc.pp.filter_genes(adata, min_cells=3)\n",
    "DownD100 = adata.copy()\n",
    "\n",
    "\n",
    "del adata\n",
    "\n",
    "\n",
    "UpD100_1.obs['dataset'] = \"UpD100_1\"\n",
    "UpD100_1.obs_names = [i + \"_\" + j for i, j in zip(UpD100_1.obs_names.tolist(), UpD100_1.obs[\"dataset\"].tolist())]\n",
    "\n",
    "UpD100_2.obs['dataset'] = \"UpD100_2\"\n",
    "UpD100_2.obs_names = [i + \"_\" + j for i, j in zip(UpD100_2.obs_names.tolist(), UpD100_2.obs[\"dataset\"].tolist())]\n",
    "\n",
    "DownD100.obs['dataset'] = \"DownD100\"\n",
    "DownD100.obs_names = [i + \"_\" + j for i, j in zip(DownD100.obs_names.tolist(), DownD100.obs[\"dataset\"].tolist())]\n",
    "#Merge datasets\n",
    "adata = ad.concat([UpD100_1,UpD100_2, DownD100], merge=\"same\")\n",
    "\n",
    "\n",
    "\n",
    "sc.pp.normalize_total(adata, target_sum=2e4, layers = \"all\")\n",
    "sc.pp.log1p(adata)\n",
    "#scv.pp.filter_genes(adata, min_shared_counts = 30)\n",
    "#HVG detection\n",
    "sc.pp.highly_variable_genes(adata, n_top_genes=2000, batch_key = \"dataset\")\n",
    "#adata = adata[:, adata.var.highly_variable]\n",
    "HVGd100 = adata.var[adata.var.highly_variable_nbatches >= 2].index.tolist()\n",
    "HVGd100Union = adata.var[adata.var.highly_variable_nbatches >= 1].index.tolist()"
   ]
  },
  {
   "cell_type": "markdown",
   "id": "bc5c72d2-fc4b-40d3-8398-5d5152ef74c9",
   "metadata": {},
   "source": [
    "### D250"
   ]
  },
  {
   "cell_type": "code",
   "execution_count": 8,
   "id": "bf653c68-e566-4826-b2bd-88fd65dacfd8",
   "metadata": {
    "execution": {
     "iopub.execute_input": "2023-07-26T06:41:09.351513Z",
     "iopub.status.busy": "2023-07-26T06:41:09.351134Z",
     "iopub.status.idle": "2023-07-26T06:41:17.625010Z",
     "shell.execute_reply": "2023-07-26T06:41:17.624675Z"
    }
   },
   "outputs": [
    {
     "name": "stderr",
     "output_type": "stream",
     "text": [
      "/usr/local/lib/python3.8/dist-packages/scanpy/preprocessing/_simple.py:251: ImplicitModificationWarning: Trying to modify attribute `.var` of view, initializing view as actual.\n",
      "  adata.var['n_cells'] = number\n",
      "/usr/local/lib/python3.8/dist-packages/scanpy/preprocessing/_normalization.py:134: FutureWarning: The `layers` argument is deprecated. Instead, specify individual layers to normalize with `layer`.\n",
      "  warn(\n",
      "/usr/local/lib/python3.8/dist-packages/pandas/core/indexing.py:1637: SettingWithCopyWarning: \n",
      "A value is trying to be set on a copy of a slice from a DataFrame\n",
      "\n",
      "See the caveats in the documentation: https://pandas.pydata.org/pandas-docs/stable/user_guide/indexing.html#returning-a-view-versus-a-copy\n",
      "  self._setitem_single_block(indexer, value, name)\n"
     ]
    }
   ],
   "source": [
    "#D250 HVG <--------------------------\n",
    "#D250 HVG <--outdir----------------------\n",
    "#D250 HVG <--------------------------\n",
    "\n",
    "\n",
    "#UpD300-----------------------------------------\n",
    "#UpD300-----------------------------------------\n",
    "\n",
    "DSname=\"UpD300\"\n",
    "DSnameDirName=\"Sample_S33846_C_GEX\"\n",
    "adata=sc.read_10x_mtx(indir+'/'+DSnameDirName+\"/filtered_feature_bc_matrix/\",var_names='gene_symbols', cache=True)\n",
    "adata.var_names_make_unique()\n",
    "cellID = pd.read_csv(indir+'/'+DSnameDirName+'/aggregatedCall/aggregatedCall.tsv', sep =\"\\t\",index_col = 0)\n",
    "adata.obs['cellID'] = cellID.loc[adata.obs_names, 'Consensus']\n",
    "adata = adata[adata.obs['cellID'].isin([\"3391B\",\"KOLF\",\"MIFF1\",\"809\",\"LowQuality\",\"doublet\"])]\n",
    "adata = adata[pd.Series(list(set(adata.obs_names +\"_\"+DSname).intersection(set(BranchBCs)))).str.split(\"_\", expand=True)[0]]\n",
    "\n",
    "sc.pp.filter_genes(adata, min_cells=3)\n",
    "UpD300 = adata.copy()\n",
    "\n",
    "\n",
    "#DownD250-----------------------------------------\n",
    "#DownD250-----------------------------------------\n",
    "\n",
    "DSname=\"DownD250\"\n",
    "DSnameDirName=\"Sample_S20814_260\"\n",
    "adata=sc.read_10x_mtx(indir+'/'+DSnameDirName+\"/filtered_feature_bc_matrix/\",var_names='gene_symbols', cache=True)\n",
    "adata.var_names_make_unique()\n",
    "cellID = pd.read_csv(indir+'/'+DSnameDirName+'/aggregatedCall/aggregatedCall.tsv', sep =\"\\t\",index_col = 0)\n",
    "adata.obs['cellID'] = cellID.loc[adata.obs_names, 'Consensus']\n",
    "adata = adata[adata.obs['cellID'].isin([\"3391B\",\"KOLF\",\"MIFF1\",\"809\",\"LowQuality\",\"doublet\"])]\n",
    "adata = adata[pd.Series(list(set(adata.obs_names +\"_\"+DSname).intersection(set(BranchBCs)))).str.split(\"_\", expand=True)[0]]\n",
    "\n",
    "sc.pp.filter_genes(adata, min_cells=3)\n",
    "DownD250 = adata.copy()\n",
    "\n",
    "\n",
    "del adata\n",
    "\n",
    "UpD300.obs['dataset'] = \"UpD300\"\n",
    "UpD300.obs_names = [i + \"_\" + j for i, j in zip(UpD300.obs_names.tolist(), UpD300.obs[\"dataset\"].tolist())]\n",
    "DownD250.obs['dataset'] = \"DownD250\"\n",
    "DownD250.obs_names = [i + \"_\" + j for i, j in zip(DownD250.obs_names.tolist(), DownD250.obs[\"dataset\"].tolist())]\n",
    "#Merge datasets\n",
    "adata = ad.concat([UpD300,DownD250], merge=\"same\")\n",
    "\n",
    "\n",
    "sc.pp.normalize_total(adata, target_sum=2e4, layers = \"all\")\n",
    "sc.pp.log1p(adata)\n",
    "#scv.pp.filter_genes(adata, min_shared_counts = 30)\n",
    "#HVG detection\n",
    "sc.pp.highly_variable_genes(adata, n_top_genes=2000, batch_key = \"dataset\")\n",
    "#adata = adata[:, adata.var.highly_variable]\n",
    "HVGd250 = adata.var[adata.var.highly_variable_nbatches >= 2].index.tolist()\n",
    "HVGd250Union = adata.var[adata.var.highly_variable_nbatches >= 1].index.tolist()\n",
    "\n",
    "\n",
    "HVGoverlap = list(set(HVGd100+HVGd50+HVGd250))\n",
    "HVUnionsGoverlap = list(set(HVGd250Union+HVGd50Union+HVGd100Union))"
   ]
  },
  {
   "cell_type": "code",
   "execution_count": 9,
   "id": "8135ea85-3841-4a89-aea3-8a40ec2fe65f",
   "metadata": {
    "execution": {
     "iopub.execute_input": "2023-07-26T06:41:17.628694Z",
     "iopub.status.busy": "2023-07-26T06:41:17.628342Z",
     "iopub.status.idle": "2023-07-26T06:41:17.643906Z",
     "shell.execute_reply": "2023-07-26T06:41:17.643563Z"
    }
   },
   "outputs": [],
   "source": [
    "\n",
    "External = list(set([\"AQP4\",\"GFAP\",\"AGT\",\"DIO2\",\"IL33\",\"S100B\",\"ALDH1L1\",\"GJA1\",\"HOPX\"]))\n",
    "\n",
    "HVGoverlap_curated = list(set(HVGoverlap+External))\n",
    "pd.DataFrame(HVGoverlap_curated, columns = [\"HVG\"]).to_csv(outdir+\"/HVG_list_intersection_Curated_\"+Branchtag+\"_PagaTest.txt\", sep=\"\\t\")"
   ]
  },
  {
   "cell_type": "code",
   "execution_count": 10,
   "id": "c1a182fe-e36e-41d6-a4d5-e5796c11866e",
   "metadata": {
    "execution": {
     "iopub.execute_input": "2023-07-26T06:41:17.646504Z",
     "iopub.status.busy": "2023-07-26T06:41:17.646181Z",
     "iopub.status.idle": "2023-07-26T06:41:17.648418Z",
     "shell.execute_reply": "2023-07-26T06:41:17.648127Z"
    }
   },
   "outputs": [
    {
     "data": {
      "text/plain": [
       "1826"
      ]
     },
     "execution_count": 1,
     "metadata": {},
     "output_type": "execute_result"
    }
   ],
   "source": [
    "len(HVGoverlap_curated)"
   ]
  },
  {
   "cell_type": "code",
   "execution_count": null,
   "id": "ea91c567-61b3-4da3-848c-446915e085de",
   "metadata": {},
   "outputs": [],
   "source": []
  }
 ],
 "metadata": {
  "kernelspec": {
   "display_name": "Python 3",
   "language": "python",
   "name": "python3"
  },
  "language_info": {
   "codemirror_mode": {
    "name": "ipython",
    "version": 3
   },
   "file_extension": ".py",
   "mimetype": "text/x-python",
   "name": "python",
   "nbconvert_exporter": "python",
   "pygments_lexer": "ipython3",
   "version": "3.8.5"
  }
 },
 "nbformat": 4,
 "nbformat_minor": 5
}
