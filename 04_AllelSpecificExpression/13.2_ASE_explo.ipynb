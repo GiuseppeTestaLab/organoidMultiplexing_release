{
 "cells": [
  {
   "cell_type": "markdown",
   "metadata": {},
   "source": [
    "# Env setupu"
   ]
  },
  {
   "cell_type": "code",
   "execution_count": 1,
   "metadata": {},
   "outputs": [],
   "source": [
    "import pandas as pd\n",
    "import socket\n",
    "import os\n",
    "import yaml\n",
    "import sys\n",
    "import statsmodels.api as sm\n",
    "from scipy import stats\n",
    "import pyranges as pr\n",
    "from pyliftover import LiftOver\n",
    "import seaborn as sns\n",
    "from matplotlib import rcParams\n",
    "import matplotlib.pylab as plt\n",
    "rcParams['figure.figsize'] = 11.7,8.27\n",
    "import scanpy as sc\n",
    "from matplotlib import pylab\n",
    "import anndata as ad\n",
    "from scipy.spatial import distance\n",
    "import numpy as np\n",
    "import scipy.cluster.hierarchy as sch\n",
    "import itertools"
   ]
  },
  {
   "cell_type": "code",
   "execution_count": 2,
   "metadata": {},
   "outputs": [
    {
     "name": "stdout",
     "output_type": "stream",
     "text": [
      "scanpy==1.9.3 anndata==0.8.0 umap==0.5.1 numpy==1.20.3 scipy==1.10.1 pandas==2.0.3 scikit-learn==1.3.2 statsmodels==0.13.5 python-igraph==0.9.1 louvain==0.7.0 leidenalg==0.8.3 pynndescent==0.5.12\n"
     ]
    }
   ],
   "source": [
    "sc.settings.verbosity = 4   \n",
    "\n",
    "# verbosity: errors (0), warnings (1), info (2), hints (3)\n",
    "sc.logging.print_header()\n",
    "sc.settings.set_figure_params(facecolor='white')\n",
    "nprocs=4"
   ]
  },
  {
   "cell_type": "code",
   "execution_count": 3,
   "metadata": {},
   "outputs": [
    {
     "name": "stdout",
     "output_type": "stream",
     "text": [
      "scanpy==1.9.3 anndata==0.8.0 umap==0.5.1 numpy==1.20.3 scipy==1.10.1 pandas==2.0.3 scikit-learn==1.3.2 statsmodels==0.13.5 python-igraph==0.9.1 louvain==0.7.0 leidenalg==0.8.3 pynndescent==0.5.12\n",
      "figure.dpi 80\n",
      "savefig.dpi 500\n",
      "figure.figsize [10, 10]\n",
      "axes.facecolor None\n",
      "figure.facecolor None\n",
      "dotSize 20\n"
     ]
    }
   ],
   "source": [
    "sc.settings.verbosity = 3  \n",
    "sc.logging.print_header()\n",
    "nprocs=4\n",
    "np.random.seed(0)\n",
    "with open(\"../data/resources/rcParams.yaml\") as f:\n",
    "    rcParamsDict = yaml.full_load(f)\n",
    "    for k in rcParamsDict[\"rcParams\"]:\n",
    "        print(\"{} {}\".format(k,rcParamsDict[\"rcParams\"][k]))\n",
    "        plt.rcParams[k] = rcParamsDict[\"rcParams\"][k]\n",
    "    for k1 in set(list(rcParamsDict)).difference(set([\"rcParams\"])):\n",
    "        print(\"{} {}\".format(k1,rcParamsDict[k1]))"
   ]
  },
  {
   "cell_type": "markdown",
   "metadata": {},
   "source": [
    "# Configure paths"
   ]
  },
  {
   "cell_type": "code",
   "execution_count": 4,
   "metadata": {},
   "outputs": [],
   "source": [
    "outdir = \"../data/output\"\n",
    "\n",
    "with open(\"../data/resources/iPSC_lines_map.yaml\", 'r') as f:\n",
    "    iPSC_lines_map = yaml.load(f, Loader=yaml.FullLoader)[\"lines\"]\n",
    "colorsmap = dict(zip([i[\"newName\"] for i in iPSC_lines_map.values()],[i[\"color\"] for i in iPSC_lines_map.values()]))\n",
    "\n",
    "\n",
    "figDir = \"./figures\"\n",
    "if not os.path.exists(figDir):\n",
    "   # Create a new directory because it does not exist\n",
    "   os.makedirs(figDir)\n",
    "    \n",
    "vcfPath = \"../data/jointGenotype.g.vcf\"\n",
    "\n",
    "#Path to cellranger gex-GRCh38-2020-A gtf\n",
    "gtfPath = \"../data/resources/genes.gtf\"\n",
    "\n"
   ]
  },
  {
   "cell_type": "markdown",
   "metadata": {},
   "source": [
    "# Import VCF and Map snps to genes"
   ]
  },
  {
   "cell_type": "code",
   "execution_count": 5,
   "metadata": {},
   "outputs": [
    {
     "name": "stderr",
     "output_type": "stream",
     "text": [
      "<ipython-input-5-c3aa100863bd>:14: DtypeWarning: Columns (0) have mixed types. Specify dtype option on import or set low_memory=False.\n",
      "  vcf = pd.read_csv(vcfPath, sep=\"\\t\", skip_blank_lines=True,comment='#', names=names).rename(columns = mappings)\n"
     ]
    }
   ],
   "source": [
    "def get_vcf_names(vcf_path):\n",
    "    with open(vcf_path, \"rt\") as ifile:\n",
    "          for line in ifile:\n",
    "            if line.startswith(\"#CHROM\"):\n",
    "                  vcf_names = [x for x in line.split('\\t')]\n",
    "                  break\n",
    "    ifile.close()\n",
    "    return vcf_names\n",
    "\n",
    "names = [i.replace(\"#\",\"\").replace('\\n','') for i in get_vcf_names(vcfPath)] \n",
    "mappings = {k: v for d in [{k:iPSC_lines_map[k][\"newName\"]} for k in list(iPSC_lines_map.keys())] for k, v in d.items()}\n",
    "\n",
    "\n",
    "vcf = pd.read_csv(vcfPath, sep=\"\\t\", skip_blank_lines=True,comment='#', names=names).rename(columns = mappings)\n",
    "\n",
    "MappedVars = vcf.copy()\n",
    "MappedVars[\"Chromosome\"] = \"chr\"+vcf[\"CHROM\"].astype(str)\n",
    "MappedVars[\"End\"] = MappedVars[\"POS\"]\n",
    "MappedVars[\"Start\"] = MappedVars[\"POS\"]\n",
    "MappedVars = MappedVars[[\"Chromosome\",\"Start\",\"End\",\"CHROM\"]]\n",
    "MappedVars = pr.PyRanges(MappedVars)\n",
    "MappedVars\n",
    "\n",
    "#Prepare gtf for overlap, we exclude non genes features and keep only coding genes\n",
    "gtf = pd.read_csv(gtfPath, sep=\"\\t\", comment='#', header=None)\n",
    "gtf = gtf[gtf[2] == \"gene\"]\n",
    "gtf['GENE'] = gtf[8].str.extract(r'gene_name \"(.+?)\";')\n",
    "gtf['GENEtype'] = gtf[8].str.extract(r'gene_type \"(.+?)\";')\n",
    "gtf = gtf[gtf['GENEtype'] == \"protein_coding\"]\n",
    "gtf = gtf[[0,3,4,\"GENE\"]]\n",
    "gtf.columns = [\"Chromosome\",\"Start\",\"End\",\"SYMBOL\"]\n",
    "gtf = pr.PyRanges(gtf)\n",
    "gtf\n",
    "\n",
    "MappedVars = MappedVars.join(gtf).df.drop_duplicates(subset=[\"Chromosome\",\"Start\",\"End\"]).drop(columns=[\"Start_b\",\"End_b\"])\n",
    "MappedVars.index = MappedVars[\"CHROM\"].astype(str)+\"_\"+MappedVars[\"Start\"].astype(str)\n",
    "MappedVars[\"indexer\"] = MappedVars.index.tolist()\n",
    "\n",
    "vcf.index  = vcf[\"CHROM\"].astype(str)+\"_\"+vcf[\"POS\"].astype(str)\n",
    "MappedVars[\"REF\"] = vcf.loc[MappedVars.index,\"REF\"]\n",
    "MappedVars[\"ALT\"] = vcf.loc[MappedVars.index,\"ALT\"]"
   ]
  },
  {
   "cell_type": "markdown",
   "metadata": {},
   "source": [
    "# var anndata"
   ]
  },
  {
   "cell_type": "code",
   "execution_count": 6,
   "metadata": {},
   "outputs": [],
   "source": [
    "varAdata = sc.read_h5ad(outdir+\"/adatas/VarAnndata_complete.h5ad\")"
   ]
  },
  {
   "cell_type": "code",
   "execution_count": 7,
   "metadata": {},
   "outputs": [
    {
     "name": "stdout",
     "output_type": "stream",
     "text": [
      "['DownD250', 'DownD100', 'DownD50']\n",
      "['UpD300', 'UpD100_1', 'UpD100_2', 'UpD50']\n"
     ]
    }
   ],
   "source": [
    "non_chimeric = varAdata.obs.loc[varAdata.obs[\"type\"] == \"non_chimeric\",\"dataset\"].unique().tolist()\n",
    "print(non_chimeric)\n",
    "chimeric = varAdata.obs.loc[varAdata.obs[\"type\"] == \"chimeric\",\"dataset\"].unique().tolist()\n",
    "print(chimeric)\n"
   ]
  },
  {
   "cell_type": "markdown",
   "metadata": {},
   "source": [
    "# Cleaning VCF from everything > .9 and <.1 AAF to reduce false positive from wrong BulkRNA VC"
   ]
  },
  {
   "cell_type": "code",
   "execution_count": 8,
   "metadata": {},
   "outputs": [],
   "source": [
    "VCFcolumns = vcf.columns.tolist()[0:9] + [i for i in vcf.columns.tolist()[9:] if i in varAdata.obs.cellID_newName.unique().tolist()]\n",
    "vcf = vcf[VCFcolumns]"
   ]
  },
  {
   "cell_type": "code",
   "execution_count": 9,
   "metadata": {},
   "outputs": [],
   "source": [
    "\n",
    "for s in varAdata.obs.cellID_newName.unique().tolist():\n",
    "    t = vcf[s].str.split(\":\", expand=True)[[0,1]]\n",
    "    t = pd.concat([t[0],t[1].str.split(\",\", expand = True)[[0,1]].astype(int).set_axis([\"ref\",\"alt\"], axis=1)], axis = 1)\n",
    "    t[\"bVal\"] = (t[\"alt\"] / (t[\"ref\"]+t[\"alt\"]))\n",
    "    \n",
    "    vcf[s] = np.where((t[\"bVal\"] < .9) & (t[\"bVal\"] > .1) & (t[0] == \"0/1\"), vcf[s], \"./.:0,0\")\n",
    "    "
   ]
  },
  {
   "cell_type": "code",
   "execution_count": 10,
   "metadata": {},
   "outputs": [
    {
     "data": {
      "text/html": [
       "<div>\n",
       "<style scoped>\n",
       "    .dataframe tbody tr th:only-of-type {\n",
       "        vertical-align: middle;\n",
       "    }\n",
       "\n",
       "    .dataframe tbody tr th {\n",
       "        vertical-align: top;\n",
       "    }\n",
       "\n",
       "    .dataframe thead th {\n",
       "        text-align: right;\n",
       "    }\n",
       "</style>\n",
       "<table border=\"1\" class=\"dataframe\">\n",
       "  <thead>\n",
       "    <tr style=\"text-align: right;\">\n",
       "      <th></th>\n",
       "      <th>CHROM</th>\n",
       "      <th>POS</th>\n",
       "      <th>ID</th>\n",
       "      <th>REF</th>\n",
       "      <th>ALT</th>\n",
       "      <th>QUAL</th>\n",
       "      <th>FILTER</th>\n",
       "      <th>INFO</th>\n",
       "      <th>FORMAT</th>\n",
       "      <th>CTL01</th>\n",
       "      <th>CTL04E</th>\n",
       "      <th>CTL08A</th>\n",
       "      <th>CTL02A</th>\n",
       "    </tr>\n",
       "  </thead>\n",
       "  <tbody>\n",
       "    <tr>\n",
       "      <th>1_14574</th>\n",
       "      <td>1</td>\n",
       "      <td>14574</td>\n",
       "      <td>rs28503599</td>\n",
       "      <td>A</td>\n",
       "      <td>G</td>\n",
       "      <td>193.46</td>\n",
       "      <td>.</td>\n",
       "      <td>AC=2;AF=0.500;AN=4;BaseQRankSum=-2.638e+00;DB;...</td>\n",
       "      <td>GT:AD:DP:GQ:PL</td>\n",
       "      <td>0/1:6,8:14:99:156,0,148</td>\n",
       "      <td>./.:0,0</td>\n",
       "      <td>./.:0,0</td>\n",
       "      <td>./.:0,0</td>\n",
       "    </tr>\n",
       "    <tr>\n",
       "      <th>1_14590</th>\n",
       "      <td>1</td>\n",
       "      <td>14590</td>\n",
       "      <td>rs707679</td>\n",
       "      <td>G</td>\n",
       "      <td>A</td>\n",
       "      <td>236.88</td>\n",
       "      <td>.</td>\n",
       "      <td>AC=1;AF=0.250;AN=4;BaseQRankSum=3.92;DB;DP=26;...</td>\n",
       "      <td>GT:AD:DP:GQ:PL</td>\n",
       "      <td>0/1:9,7:16:99:245,0,357</td>\n",
       "      <td>./.:0,0</td>\n",
       "      <td>./.:0,0</td>\n",
       "      <td>./.:0,0</td>\n",
       "    </tr>\n",
       "    <tr>\n",
       "      <th>1_14599</th>\n",
       "      <td>1</td>\n",
       "      <td>14599</td>\n",
       "      <td>rs707680</td>\n",
       "      <td>T</td>\n",
       "      <td>A</td>\n",
       "      <td>162.88</td>\n",
       "      <td>.</td>\n",
       "      <td>AC=1;AF=0.250;AN=4;BaseQRankSum=2.84;DB;DP=23;...</td>\n",
       "      <td>GT:AD:DP:GQ:PL</td>\n",
       "      <td>0/1:9,3:12:99:171,0,363</td>\n",
       "      <td>./.:0,0</td>\n",
       "      <td>./.:0,0</td>\n",
       "      <td>./.:0,0</td>\n",
       "    </tr>\n",
       "    <tr>\n",
       "      <th>1_14671</th>\n",
       "      <td>1</td>\n",
       "      <td>14671</td>\n",
       "      <td>rs201055865</td>\n",
       "      <td>G</td>\n",
       "      <td>C</td>\n",
       "      <td>111.26</td>\n",
       "      <td>.</td>\n",
       "      <td>AC=1;AF=0.167;AN=6;BaseQRankSum=-2.255e+00;DB;...</td>\n",
       "      <td>GT:AD:DP:GQ:PL</td>\n",
       "      <td>./.:0,0</td>\n",
       "      <td>./.:0,0</td>\n",
       "      <td>0/1:10,6:16:99:120,0,329</td>\n",
       "      <td>./.:0,0</td>\n",
       "    </tr>\n",
       "    <tr>\n",
       "      <th>1_16257</th>\n",
       "      <td>1</td>\n",
       "      <td>16257</td>\n",
       "      <td>rs11489794</td>\n",
       "      <td>G</td>\n",
       "      <td>C</td>\n",
       "      <td>77.26</td>\n",
       "      <td>.</td>\n",
       "      <td>AC=1;AF=0.167;AN=6;BaseQRankSum=-2.032e+00;DB;...</td>\n",
       "      <td>GT:AD:DP:GQ:PL</td>\n",
       "      <td>./.:0,0</td>\n",
       "      <td>./.:0,0</td>\n",
       "      <td>./.:0,0</td>\n",
       "      <td>./.:0,0</td>\n",
       "    </tr>\n",
       "    <tr>\n",
       "      <th>...</th>\n",
       "      <td>...</td>\n",
       "      <td>...</td>\n",
       "      <td>...</td>\n",
       "      <td>...</td>\n",
       "      <td>...</td>\n",
       "      <td>...</td>\n",
       "      <td>...</td>\n",
       "      <td>...</td>\n",
       "      <td>...</td>\n",
       "      <td>...</td>\n",
       "      <td>...</td>\n",
       "      <td>...</td>\n",
       "      <td>...</td>\n",
       "    </tr>\n",
       "    <tr>\n",
       "      <th>Y_56836400</th>\n",
       "      <td>Y</td>\n",
       "      <td>56836400</td>\n",
       "      <td>rs113362920</td>\n",
       "      <td>T</td>\n",
       "      <td>C</td>\n",
       "      <td>271.60</td>\n",
       "      <td>.</td>\n",
       "      <td>AC=1;AF=0.500;AN=2;BaseQRankSum=-2.523e+00;DB;...</td>\n",
       "      <td>GT:AD:DP:GQ:PL</td>\n",
       "      <td>./.:0,0</td>\n",
       "      <td>./.:0,0</td>\n",
       "      <td>./.:0,0</td>\n",
       "      <td>./.:0,0</td>\n",
       "    </tr>\n",
       "    <tr>\n",
       "      <th>Y_56836412</th>\n",
       "      <td>Y</td>\n",
       "      <td>56836412</td>\n",
       "      <td>rs4893790</td>\n",
       "      <td>A</td>\n",
       "      <td>C</td>\n",
       "      <td>428.03</td>\n",
       "      <td>.</td>\n",
       "      <td>AC=2;AF=1.00;AN=2;DB;DP=14;ExcessHet=3.0103;FS...</td>\n",
       "      <td>GT:AD:DP:GQ:PL</td>\n",
       "      <td>./.:0,0</td>\n",
       "      <td>./.:0,0</td>\n",
       "      <td>./.:0,0</td>\n",
       "      <td>./.:0,0</td>\n",
       "    </tr>\n",
       "    <tr>\n",
       "      <th>Y_56836676</th>\n",
       "      <td>Y</td>\n",
       "      <td>56836676</td>\n",
       "      <td>rs28671159</td>\n",
       "      <td>C</td>\n",
       "      <td>A</td>\n",
       "      <td>61.60</td>\n",
       "      <td>.</td>\n",
       "      <td>AC=1;AF=0.500;AN=2;BaseQRankSum=0.943;DB;DP=11...</td>\n",
       "      <td>GT:AD:DP:GQ:PL</td>\n",
       "      <td>./.:0,0</td>\n",
       "      <td>./.:0,0</td>\n",
       "      <td>./.:0,0</td>\n",
       "      <td>./.:0,0</td>\n",
       "    </tr>\n",
       "    <tr>\n",
       "      <th>Y_56875954</th>\n",
       "      <td>Y</td>\n",
       "      <td>56875954</td>\n",
       "      <td>rs9285383</td>\n",
       "      <td>T</td>\n",
       "      <td>A</td>\n",
       "      <td>129.60</td>\n",
       "      <td>.</td>\n",
       "      <td>AC=1;AF=0.500;AN=2;BaseQRankSum=2.67;DB;DP=13;...</td>\n",
       "      <td>GT:AD:DP:GQ:PL</td>\n",
       "      <td>./.:0,0</td>\n",
       "      <td>./.:0,0</td>\n",
       "      <td>./.:0,0</td>\n",
       "      <td>./.:0,0</td>\n",
       "    </tr>\n",
       "    <tr>\n",
       "      <th>Y_56875956</th>\n",
       "      <td>Y</td>\n",
       "      <td>56875956</td>\n",
       "      <td>rs9320104</td>\n",
       "      <td>G</td>\n",
       "      <td>C</td>\n",
       "      <td>129.60</td>\n",
       "      <td>.</td>\n",
       "      <td>AC=1;AF=0.500;AN=2;BaseQRankSum=-5.300e-01;DB;...</td>\n",
       "      <td>GT:AD:DP:GQ:PL</td>\n",
       "      <td>./.:0,0</td>\n",
       "      <td>./.:0,0</td>\n",
       "      <td>./.:0,0</td>\n",
       "      <td>./.:0,0</td>\n",
       "    </tr>\n",
       "  </tbody>\n",
       "</table>\n",
       "<p>93708 rows × 13 columns</p>\n",
       "</div>"
      ],
      "text/plain": [
       "           CHROM       POS           ID REF ALT    QUAL FILTER  \\\n",
       "1_14574        1     14574   rs28503599   A   G  193.46      .   \n",
       "1_14590        1     14590     rs707679   G   A  236.88      .   \n",
       "1_14599        1     14599     rs707680   T   A  162.88      .   \n",
       "1_14671        1     14671  rs201055865   G   C  111.26      .   \n",
       "1_16257        1     16257   rs11489794   G   C   77.26      .   \n",
       "...          ...       ...          ...  ..  ..     ...    ...   \n",
       "Y_56836400     Y  56836400  rs113362920   T   C  271.60      .   \n",
       "Y_56836412     Y  56836412    rs4893790   A   C  428.03      .   \n",
       "Y_56836676     Y  56836676   rs28671159   C   A   61.60      .   \n",
       "Y_56875954     Y  56875954    rs9285383   T   A  129.60      .   \n",
       "Y_56875956     Y  56875956    rs9320104   G   C  129.60      .   \n",
       "\n",
       "                                                         INFO          FORMAT  \\\n",
       "1_14574     AC=2;AF=0.500;AN=4;BaseQRankSum=-2.638e+00;DB;...  GT:AD:DP:GQ:PL   \n",
       "1_14590     AC=1;AF=0.250;AN=4;BaseQRankSum=3.92;DB;DP=26;...  GT:AD:DP:GQ:PL   \n",
       "1_14599     AC=1;AF=0.250;AN=4;BaseQRankSum=2.84;DB;DP=23;...  GT:AD:DP:GQ:PL   \n",
       "1_14671     AC=1;AF=0.167;AN=6;BaseQRankSum=-2.255e+00;DB;...  GT:AD:DP:GQ:PL   \n",
       "1_16257     AC=1;AF=0.167;AN=6;BaseQRankSum=-2.032e+00;DB;...  GT:AD:DP:GQ:PL   \n",
       "...                                                       ...             ...   \n",
       "Y_56836400  AC=1;AF=0.500;AN=2;BaseQRankSum=-2.523e+00;DB;...  GT:AD:DP:GQ:PL   \n",
       "Y_56836412  AC=2;AF=1.00;AN=2;DB;DP=14;ExcessHet=3.0103;FS...  GT:AD:DP:GQ:PL   \n",
       "Y_56836676  AC=1;AF=0.500;AN=2;BaseQRankSum=0.943;DB;DP=11...  GT:AD:DP:GQ:PL   \n",
       "Y_56875954  AC=1;AF=0.500;AN=2;BaseQRankSum=2.67;DB;DP=13;...  GT:AD:DP:GQ:PL   \n",
       "Y_56875956  AC=1;AF=0.500;AN=2;BaseQRankSum=-5.300e-01;DB;...  GT:AD:DP:GQ:PL   \n",
       "\n",
       "                              CTL01   CTL04E                    CTL08A  \\\n",
       "1_14574     0/1:6,8:14:99:156,0,148  ./.:0,0                   ./.:0,0   \n",
       "1_14590     0/1:9,7:16:99:245,0,357  ./.:0,0                   ./.:0,0   \n",
       "1_14599     0/1:9,3:12:99:171,0,363  ./.:0,0                   ./.:0,0   \n",
       "1_14671                     ./.:0,0  ./.:0,0  0/1:10,6:16:99:120,0,329   \n",
       "1_16257                     ./.:0,0  ./.:0,0                   ./.:0,0   \n",
       "...                             ...      ...                       ...   \n",
       "Y_56836400                  ./.:0,0  ./.:0,0                   ./.:0,0   \n",
       "Y_56836412                  ./.:0,0  ./.:0,0                   ./.:0,0   \n",
       "Y_56836676                  ./.:0,0  ./.:0,0                   ./.:0,0   \n",
       "Y_56875954                  ./.:0,0  ./.:0,0                   ./.:0,0   \n",
       "Y_56875956                  ./.:0,0  ./.:0,0                   ./.:0,0   \n",
       "\n",
       "             CTL02A  \n",
       "1_14574     ./.:0,0  \n",
       "1_14590     ./.:0,0  \n",
       "1_14599     ./.:0,0  \n",
       "1_14671     ./.:0,0  \n",
       "1_16257     ./.:0,0  \n",
       "...             ...  \n",
       "Y_56836400  ./.:0,0  \n",
       "Y_56836412  ./.:0,0  \n",
       "Y_56836676  ./.:0,0  \n",
       "Y_56875954  ./.:0,0  \n",
       "Y_56875956  ./.:0,0  \n",
       "\n",
       "[93708 rows x 13 columns]"
      ]
     },
     "execution_count": 10,
     "metadata": {},
     "output_type": "execute_result"
    }
   ],
   "source": [
    "vcf"
   ]
  },
  {
   "cell_type": "markdown",
   "metadata": {},
   "source": [
    "# Ase main function"
   ]
  },
  {
   "cell_type": "code",
   "execution_count": 11,
   "metadata": {},
   "outputs": [],
   "source": [
    "def aseByObs(adataVar, genoOBS, geno, threshold, fdr,vcf, celltypeOBS, mappedVariants,groupby=None,groups=None ):\n",
    "    \"\"\"\n",
    "    The whole function pivots around celltypes division, that is in our opinion the main covariate that cannot be neglected during ASE exploration\n",
    "    genoOBS = is the column containing the the second covariate to isolate\n",
    "    \n",
    "    geno = is the genotype to isolate the analysis on (if want to do the analysis on several genotypes you have to run \n",
    "    multiple times with different geno value)\n",
    "    the name should be one of the columns of VCF file\n",
    "    * If your sample contains only 1 genotype you should still use genoOBS, geno arguments (provide mock column with same value)\n",
    "    * Instead if you want to aggregate from multiple genotype (ignoring genoOBS covariate isolation at your risk) \n",
    "    set genoOBS=yourGenoObs and geno=None\n",
    "    \n",
    "    threshold = minReads for a locus to be tested\n",
    "    mappedVariants = secondary DF that contains complementary infos to vcf (rs, gene mappin etc)\n",
    "    \n",
    "    \"\"\"\n",
    "    \n",
    "    #First we keep only SNPs mapped to genes    \n",
    "    vcf = vcf.loc[mappedVariants.index.tolist()]\n",
    "    \n",
    "    if type(groups) != list:\n",
    "        groups = [groups]\n",
    "        \n",
    "    if groupby != None:\n",
    "        _varAdata = varAdata[varAdata.obs[groupby].isin(groups)]\n",
    "    else:\n",
    "        _varAdata = varAdata\n",
    "\n",
    "    if geno != None:        \n",
    "        hetGeno=vcf.loc[vcf[geno].str.split(\":\", expand = True)[0] == '0/1',[\"CHROM\",\"POS\"]].astype(str).apply('_'.join, axis=1).tolist()\n",
    "        print(len(hetGeno))\n",
    "\n",
    "        # Select for ID, obs and Het loci from bulk\n",
    "        if groupby != None:\n",
    "            varAdata_DS_geno = _varAdata[\n",
    "            ((_varAdata.obs[genoOBS] == geno) & (_varAdata.obs[groupby].isin(groups))),\n",
    "            list(set(hetGeno).intersection(set(_varAdata.var_names.tolist())))\n",
    "            ]\n",
    "        else:\n",
    "            varAdata_DS_geno = _varAdata[_varAdata.obs[genoOBS] == geno,\n",
    "            list(set(hetGeno).intersection(set(_varAdata.var_names.tolist())))\n",
    "            ]\n",
    "    elif geno == None:\n",
    "        \n",
    "        #Aggregate information from all genotypes after checking they are all het at the given locus \n",
    "        GenoAdataDict = {}\n",
    "        for g in _varAdata.obs[genoOBS].unique():\n",
    "\n",
    "            hetGeno = vcf.loc[vcf[g].str.contains(\"0/1\"),g].index.tolist()\n",
    "            hetGeno = list(set(hetGeno).intersection(set(_varAdata.var_names.tolist())))\n",
    "\n",
    "            GenoAdataDict[g] = _varAdata[_varAdata.obs[genoOBS] == g,hetGeno]\n",
    "\n",
    "        varAdata_DS_geno = ad.concat(list(GenoAdataDict.values()), join=\"outer\")\n",
    "        del GenoAdataDict\n",
    "            \n",
    "            \n",
    "    \n",
    "    # isolate ref and Alt reads by leiden    \n",
    "    # Sum by leiden\n",
    "    AltReadsDF = pd.DataFrame([pd.Series((varAdata_DS_geno[varAdata_DS_geno.obs[celltypeOBS] == cl].layers[\"AltReads\"].sum(axis = 0).flatten().A1),index=varAdata_DS_geno.var_names) for cl in varAdata_DS_geno.obs[celltypeOBS].unique()], index=varAdata_DS_geno.obs[celltypeOBS].unique()).T\n",
    "    RefReadsDF = pd.DataFrame([pd.Series((varAdata_DS_geno[varAdata_DS_geno.obs[celltypeOBS] == cl].layers[\"RefReads\"].sum(axis = 0).flatten().A1),index=varAdata_DS_geno.var_names) for cl in varAdata_DS_geno.obs[celltypeOBS].unique()], index=varAdata_DS_geno.obs[celltypeOBS].unique()).T\n",
    "    TotalDF = AltReadsDF + RefReadsDF\n",
    "    \n",
    "    ASEdf = pd.DataFrame()\n",
    "    \n",
    "    # Perform cluster-wise thresholding and test \n",
    "    for cl in TotalDF.columns:\n",
    "        MinCountsLoci = TotalDF[TotalDF[cl] > threshold].index.tolist()\n",
    "        testDF = pd.DataFrame({\"AltReads\":AltReadsDF.loc[MinCountsLoci,cl], \n",
    "                      \"RefReads\":RefReadsDF.loc[MinCountsLoci, cl]})\n",
    "        #print(np.array(testDF))\n",
    "\n",
    "        result = testDF.apply(lambda x: stats.binom_test(\n",
    "            np.array([x[\"AltReads\"],x[\"RefReads\"]]),\n",
    "            p=.5),\n",
    "            axis=1)\n",
    "                \n",
    "        if len(result) > 0:\n",
    "            result = result.to_frame(name=\"pVal\")\n",
    "            print(\"Cluster \",cl)\n",
    "            print(\"Total tested loci :\",testDF.shape[0])\n",
    "            print(\"NonCorrected p < 0.05 :\",(result[\"pVal\"] < 0.05).sum())\n",
    "\n",
    "            fdrCorr = sm.stats.multipletests(result[\"pVal\"], method='fdr_bh', alpha=fdr,  is_sorted=False)\n",
    "            result[\"Significant\"] = fdrCorr[0]\n",
    "            result[\"FDR\"] = fdrCorr[1]\n",
    "\n",
    "\n",
    "            print(\"Corrected FDR < 0.05 :\",result[\"Significant\"].sum())\n",
    "            clDF = result.merge(right=mappedVariants[[\"SYMBOL\",\"indexer\"]], \n",
    "                                          left_index=True,right_index=True )\n",
    "            print(\"\"\"\n",
    "            \"\"\")\n",
    "            clDF[\"celltype\"] = cl\n",
    "            clDF[\"AltReads\"] = AltReadsDF.loc[clDF.index,cl]\n",
    "            clDF[\"RefReads\"] = RefReadsDF.loc[clDF.index,cl]\n",
    "            clDF[\"Prop\"] = clDF[\"AltReads\"] / (clDF[\"AltReads\"] + clDF[\"RefReads\"])\n",
    "\n",
    "            \n",
    "            ASEdf = pd.concat([ASEdf, clDF], ignore_index=True).sort_values(\"FDR\", ascending = True)\n",
    "    #print(\"Tested loci per celltype :\",len(ASEdf.indexer.unique()))\n",
    "    #print(\"Total significant scored loci across celltypes:\",ASEdf.Significant.sum())\n",
    "    \n",
    "    return(ASEdf)\n",
    "\n",
    "\n",
    "\n",
    "    "
   ]
  },
  {
   "cell_type": "code",
   "execution_count": 12,
   "metadata": {},
   "outputs": [
    {
     "data": {
      "text/plain": [
       "leidenAnnotated\n",
       "Neurons                       2027\n",
       "GlutamatergicNeurons_late     1923\n",
       "RadialGliaProgenitors         1826\n",
       "ProliferatingProgenitors      1776\n",
       "GlutamatergicNeurons_early    1475\n",
       "MigratingNeurons              1271\n",
       "intermediateProgenitors       1191\n",
       "Interneurons                  1102\n",
       "Interneurons_GAD2              994\n",
       "OuterRadialGliaAstrocytes      693\n",
       "CajalR_like                    635\n",
       "Name: count, dtype: int64"
      ]
     },
     "execution_count": 12,
     "metadata": {},
     "output_type": "execute_result"
    }
   ],
   "source": [
    "varAdata.obs.leidenAnnotated.value_counts()"
   ]
  },
  {
   "cell_type": "markdown",
   "metadata": {},
   "source": [
    "# ASE correlation based on bVals - aggregated - "
   ]
  },
  {
   "cell_type": "code",
   "execution_count": 13,
   "metadata": {},
   "outputs": [
    {
     "name": "stderr",
     "output_type": "stream",
     "text": [
      "<ipython-input-11-90e86b95ab1d>:74: DeprecationWarning: 'binom_test' is deprecated in favour of 'binomtest' from version 1.7.0 and will be removed in Scipy 1.12.0.\n",
      "  result = testDF.apply(lambda x: stats.binom_test(\n",
      "/group/testa/Users/davide.castaldi/organoidMultiplexing_release/.local/lib/python3.8/site-packages/scipy/stats/_discrete_distns.py:77: RuntimeWarning: divide by zero encountered in _binom_pdf\n",
      "  return _boost._binom_pdf(x, n, p)\n"
     ]
    },
    {
     "name": "stdout",
     "output_type": "stream",
     "text": [
      "Cluster  GlutamatergicNeurons_late\n",
      "Total tested loci : 4476\n",
      "NonCorrected p < 0.05 : 1448\n",
      "Corrected FDR < 0.05 : 1059\n",
      "\n",
      "            \n"
     ]
    },
    {
     "name": "stderr",
     "output_type": "stream",
     "text": [
      "<ipython-input-11-90e86b95ab1d>:74: DeprecationWarning: 'binom_test' is deprecated in favour of 'binomtest' from version 1.7.0 and will be removed in Scipy 1.12.0.\n",
      "  result = testDF.apply(lambda x: stats.binom_test(\n"
     ]
    },
    {
     "name": "stdout",
     "output_type": "stream",
     "text": [
      "Cluster  Interneurons\n",
      "Total tested loci : 2151\n",
      "NonCorrected p < 0.05 : 767\n",
      "Corrected FDR < 0.05 : 604\n",
      "\n",
      "            \n"
     ]
    },
    {
     "name": "stderr",
     "output_type": "stream",
     "text": [
      "<ipython-input-11-90e86b95ab1d>:74: DeprecationWarning: 'binom_test' is deprecated in favour of 'binomtest' from version 1.7.0 and will be removed in Scipy 1.12.0.\n",
      "  result = testDF.apply(lambda x: stats.binom_test(\n",
      "/group/testa/Users/davide.castaldi/organoidMultiplexing_release/.local/lib/python3.8/site-packages/scipy/stats/_discrete_distns.py:77: RuntimeWarning: divide by zero encountered in _binom_pdf\n",
      "  return _boost._binom_pdf(x, n, p)\n"
     ]
    },
    {
     "name": "stdout",
     "output_type": "stream",
     "text": [
      "Cluster  RadialGliaProgenitors\n",
      "Total tested loci : 3399\n",
      "NonCorrected p < 0.05 : 1092\n",
      "Corrected FDR < 0.05 : 797\n",
      "\n",
      "            \n"
     ]
    },
    {
     "name": "stderr",
     "output_type": "stream",
     "text": [
      "<ipython-input-11-90e86b95ab1d>:74: DeprecationWarning: 'binom_test' is deprecated in favour of 'binomtest' from version 1.7.0 and will be removed in Scipy 1.12.0.\n",
      "  result = testDF.apply(lambda x: stats.binom_test(\n",
      "/group/testa/Users/davide.castaldi/organoidMultiplexing_release/.local/lib/python3.8/site-packages/scipy/stats/_discrete_distns.py:77: RuntimeWarning: divide by zero encountered in _binom_pdf\n",
      "  return _boost._binom_pdf(x, n, p)\n"
     ]
    },
    {
     "name": "stdout",
     "output_type": "stream",
     "text": [
      "Cluster  Interneurons_GAD2\n",
      "Total tested loci : 2895\n",
      "NonCorrected p < 0.05 : 1037\n",
      "Corrected FDR < 0.05 : 761\n",
      "\n",
      "            \n"
     ]
    },
    {
     "name": "stderr",
     "output_type": "stream",
     "text": [
      "<ipython-input-11-90e86b95ab1d>:74: DeprecationWarning: 'binom_test' is deprecated in favour of 'binomtest' from version 1.7.0 and will be removed in Scipy 1.12.0.\n",
      "  result = testDF.apply(lambda x: stats.binom_test(\n",
      "/group/testa/Users/davide.castaldi/organoidMultiplexing_release/.local/lib/python3.8/site-packages/scipy/stats/_discrete_distns.py:77: RuntimeWarning: divide by zero encountered in _binom_pdf\n",
      "  return _boost._binom_pdf(x, n, p)\n"
     ]
    },
    {
     "name": "stdout",
     "output_type": "stream",
     "text": [
      "Cluster  OuterRadialGliaAstrocytes\n",
      "Total tested loci : 3024\n",
      "NonCorrected p < 0.05 : 944\n",
      "Corrected FDR < 0.05 : 666\n",
      "\n",
      "            \n"
     ]
    },
    {
     "name": "stderr",
     "output_type": "stream",
     "text": [
      "<ipython-input-11-90e86b95ab1d>:74: DeprecationWarning: 'binom_test' is deprecated in favour of 'binomtest' from version 1.7.0 and will be removed in Scipy 1.12.0.\n",
      "  result = testDF.apply(lambda x: stats.binom_test(\n",
      "/group/testa/Users/davide.castaldi/organoidMultiplexing_release/.local/lib/python3.8/site-packages/scipy/stats/_discrete_distns.py:77: RuntimeWarning: divide by zero encountered in _binom_pdf\n",
      "  return _boost._binom_pdf(x, n, p)\n"
     ]
    },
    {
     "name": "stdout",
     "output_type": "stream",
     "text": [
      "Cluster  ProliferatingProgenitors\n",
      "Total tested loci : 4249\n",
      "NonCorrected p < 0.05 : 1461\n",
      "Corrected FDR < 0.05 : 1083\n",
      "\n",
      "            \n"
     ]
    },
    {
     "name": "stderr",
     "output_type": "stream",
     "text": [
      "<ipython-input-11-90e86b95ab1d>:74: DeprecationWarning: 'binom_test' is deprecated in favour of 'binomtest' from version 1.7.0 and will be removed in Scipy 1.12.0.\n",
      "  result = testDF.apply(lambda x: stats.binom_test(\n",
      "/group/testa/Users/davide.castaldi/organoidMultiplexing_release/.local/lib/python3.8/site-packages/scipy/stats/_discrete_distns.py:77: RuntimeWarning: divide by zero encountered in _binom_pdf\n",
      "  return _boost._binom_pdf(x, n, p)\n"
     ]
    },
    {
     "name": "stdout",
     "output_type": "stream",
     "text": [
      "Cluster  intermediateProgenitors\n",
      "Total tested loci : 2900\n",
      "NonCorrected p < 0.05 : 877\n",
      "Corrected FDR < 0.05 : 651\n",
      "\n",
      "            \n"
     ]
    },
    {
     "name": "stderr",
     "output_type": "stream",
     "text": [
      "<ipython-input-11-90e86b95ab1d>:74: DeprecationWarning: 'binom_test' is deprecated in favour of 'binomtest' from version 1.7.0 and will be removed in Scipy 1.12.0.\n",
      "  result = testDF.apply(lambda x: stats.binom_test(\n",
      "/group/testa/Users/davide.castaldi/organoidMultiplexing_release/.local/lib/python3.8/site-packages/scipy/stats/_discrete_distns.py:77: RuntimeWarning: divide by zero encountered in _binom_pdf\n",
      "  return _boost._binom_pdf(x, n, p)\n"
     ]
    },
    {
     "name": "stdout",
     "output_type": "stream",
     "text": [
      "Cluster  GlutamatergicNeurons_early\n",
      "Total tested loci : 2983\n",
      "NonCorrected p < 0.05 : 1047\n",
      "Corrected FDR < 0.05 : 779\n",
      "\n",
      "            \n"
     ]
    },
    {
     "name": "stderr",
     "output_type": "stream",
     "text": [
      "<ipython-input-11-90e86b95ab1d>:74: DeprecationWarning: 'binom_test' is deprecated in favour of 'binomtest' from version 1.7.0 and will be removed in Scipy 1.12.0.\n",
      "  result = testDF.apply(lambda x: stats.binom_test(\n",
      "/group/testa/Users/davide.castaldi/organoidMultiplexing_release/.local/lib/python3.8/site-packages/scipy/stats/_discrete_distns.py:77: RuntimeWarning: divide by zero encountered in _binom_pdf\n",
      "  return _boost._binom_pdf(x, n, p)\n"
     ]
    },
    {
     "name": "stdout",
     "output_type": "stream",
     "text": [
      "Cluster  Neurons\n",
      "Total tested loci : 2563\n",
      "NonCorrected p < 0.05 : 897\n",
      "Corrected FDR < 0.05 : 659\n",
      "\n",
      "            \n"
     ]
    },
    {
     "name": "stderr",
     "output_type": "stream",
     "text": [
      "<ipython-input-11-90e86b95ab1d>:74: DeprecationWarning: 'binom_test' is deprecated in favour of 'binomtest' from version 1.7.0 and will be removed in Scipy 1.12.0.\n",
      "  result = testDF.apply(lambda x: stats.binom_test(\n",
      "/group/testa/Users/davide.castaldi/organoidMultiplexing_release/.local/lib/python3.8/site-packages/scipy/stats/_discrete_distns.py:77: RuntimeWarning: divide by zero encountered in _binom_pdf\n",
      "  return _boost._binom_pdf(x, n, p)\n"
     ]
    },
    {
     "name": "stdout",
     "output_type": "stream",
     "text": [
      "Cluster  CajalR_like\n",
      "Total tested loci : 2499\n",
      "NonCorrected p < 0.05 : 954\n",
      "Corrected FDR < 0.05 : 724\n",
      "\n",
      "            \n"
     ]
    },
    {
     "name": "stderr",
     "output_type": "stream",
     "text": [
      "<ipython-input-11-90e86b95ab1d>:74: DeprecationWarning: 'binom_test' is deprecated in favour of 'binomtest' from version 1.7.0 and will be removed in Scipy 1.12.0.\n",
      "  result = testDF.apply(lambda x: stats.binom_test(\n",
      "/group/testa/Users/davide.castaldi/organoidMultiplexing_release/.local/lib/python3.8/site-packages/scipy/stats/_discrete_distns.py:77: RuntimeWarning: divide by zero encountered in _binom_pdf\n",
      "  return _boost._binom_pdf(x, n, p)\n"
     ]
    },
    {
     "name": "stdout",
     "output_type": "stream",
     "text": [
      "Cluster  MigratingNeurons\n",
      "Total tested loci : 2704\n",
      "NonCorrected p < 0.05 : 913\n",
      "Corrected FDR < 0.05 : 633\n",
      "\n",
      "            \n"
     ]
    }
   ],
   "source": [
    "ASE = aseByObs(varAdata,  genoOBS=\"cellID_newName\", geno=None, celltypeOBS=\"leidenAnnotated\" ,threshold= 20,fdr=0.05 ,vcf=vcf,mappedVariants=MappedVars)\n"
   ]
  },
  {
   "cell_type": "code",
   "execution_count": 14,
   "metadata": {},
   "outputs": [],
   "source": [
    "sns.set_style(\"ticks\")\n"
   ]
  },
  {
   "cell_type": "code",
   "execution_count": 15,
   "metadata": {},
   "outputs": [
    {
     "name": "stdout",
     "output_type": "stream",
     "text": [
      "scanpy==1.9.3 anndata==0.8.0 umap==0.5.1 numpy==1.20.3 scipy==1.10.1 pandas==2.0.3 scikit-learn==1.3.2 statsmodels==0.13.5 python-igraph==0.9.1 louvain==0.7.0 leidenalg==0.8.3 pynndescent==0.5.12\n",
      "figure.dpi 80\n",
      "savefig.dpi 500\n",
      "figure.figsize [10, 10]\n",
      "axes.facecolor None\n",
      "figure.facecolor None\n",
      "dotSize 20\n"
     ]
    }
   ],
   "source": [
    "sc.settings.verbosity = 3  \n",
    "sc.logging.print_header()\n",
    "nprocs=4\n",
    "np.random.seed(0)\n",
    "with open(\"../data/resources/rcParams.yaml\") as f:\n",
    "    rcParamsDict = yaml.full_load(f)\n",
    "    for k in rcParamsDict[\"rcParams\"]:\n",
    "        print(\"{} {}\".format(k,rcParamsDict[\"rcParams\"][k]))\n",
    "        plt.rcParams[k] = rcParamsDict[\"rcParams\"][k]\n",
    "    for k1 in set(list(rcParamsDict)).difference(set([\"rcParams\"])):\n",
    "        print(\"{} {}\".format(k1,rcParamsDict[k1]))"
   ]
  },
  {
   "cell_type": "code",
   "execution_count": 16,
   "metadata": {},
   "outputs": [
    {
     "data": {
      "image/png": "[encoded data removed]",
      "text/plain": [
       "<Figure size 576x504 with 1 Axes>"
      ]
     },
     "metadata": {
      "needs_background": "light"
     },
     "output_type": "display_data"
    }
   ],
   "source": [
    "aseByCluster = ASE[ASE.Significant].groupby(\"celltype\").size().to_frame(\"nASEloci\")\n",
    "cattedSums = []\n",
    "\n",
    "for cl in varAdata.obs[\"leidenAnnotated\"].unique():\n",
    "    \n",
    "    tmpAdata = varAdata[varAdata.obs[\"leidenAnnotated\"] == cl]\n",
    "    \n",
    "    SumCounts = tmpAdata.layers[\"RefReads\"] + tmpAdata.layers[\"AltReads\"]\n",
    "    \n",
    "    cattedSums.append(SumCounts.data.sum())\n",
    "    \n",
    "ReadsByCluster =  pd.DataFrame({\"Total Milion Reads\":cattedSums},\n",
    "                               index = varAdata.obs[\"leidenAnnotated\"].unique()\n",
    "                               )\n",
    "\n",
    "\n",
    "ase_coverage_ByCluster = pd.concat([aseByCluster,ReadsByCluster], axis = 1)\n",
    "ase_coverage_ByCluster[\"cluster\"] = ase_coverage_ByCluster.index\n",
    "ase_coverage_ByCluster\n",
    "\n",
    "\n",
    "fig, ax = plt.subplots(figsize=(8, 7))\n",
    "\n",
    "pylab.rcParams['figure.figsize'] = (8, 8)\n",
    "\n",
    "#sns.regplot(x='nASEloci', y='Total Milion Reads', data=ase_coverage_ByCluster, )\n",
    "fig = sns.scatterplot(x='nASEloci', y='Total Milion Reads', data=ase_coverage_ByCluster, hue=\"cluster\", s=490,edgecolor='black', linewidth=.3)\n",
    "fig.get_figure().savefig(figDir+\"/ASEgByCoverage.svg\")"
   ]
  },
  {
   "cell_type": "code",
   "execution_count": 17,
   "metadata": {},
   "outputs": [
    {
     "name": "stdout",
     "output_type": "stream",
     "text": [
      "(874, 11)\n"
     ]
    },
    {
     "data": {
      "image/png": "[encoded data removed]",
      "text/plain": [
       "<Figure size 576x504 with 2 Axes>"
      ]
     },
     "metadata": {
      "needs_background": "light"
     },
     "output_type": "display_data"
    }
   ],
   "source": [
    "FilteredASE = ASE.copy()\n",
    "\n",
    "#Keep loci falling into genes expressed in all celltypes\n",
    "ConservedGenes = FilteredASE.groupby([\"indexer\",\"celltype\"], as_index=False).size()\n",
    "ConservedGenes\n",
    "\n",
    "nCellTypes = len(ConservedGenes.celltype.unique())\n",
    "ConservedGenes = ConservedGenes.indexer.value_counts()[ConservedGenes.indexer.value_counts() == nCellTypes].index.tolist()\n",
    "\n",
    "FilteredASE = FilteredASE[FilteredASE.indexer.isin(ConservedGenes)]\n",
    "FilteredASE\n",
    "\n",
    "## Correlation on bValues\n",
    "\n",
    "ASEpivot = pd.DataFrame()\n",
    "for i in FilteredASE.celltype.unique():\n",
    "    ctAse = FilteredASE[FilteredASE.celltype == i]\n",
    "    ctAse.index = ctAse.indexer.tolist()\n",
    "    ctAse = ctAse[\"Prop\"].to_frame(name=i)\n",
    "    ASEpivot = pd.concat([ASEpivot,ctAse], axis = 1)\n",
    "print(ASEpivot.shape)\n",
    "\n",
    "corr_matrix = ASEpivot.corr(method=\"spearman\")\n",
    "\n",
    "\n",
    "corr_condensed = distance.squareform(1 - corr_matrix)\n",
    "z_var = sch.linkage(corr_condensed,method=\"single\")\n",
    "dendro_info = sch.dendrogram(z_var, labels=list(corr_matrix.index.tolist()), no_plot=True)\n",
    "clOrder = corr_matrix.iloc[dendro_info[\"leaves\"]].index.tolist()\n",
    "corr_matrix = corr_matrix.loc[clOrder,clOrder]\n",
    "\n",
    "\n",
    "fig, ax = plt.subplots(figsize=(8, 7))\n",
    "\n",
    "cm = ax.pcolormesh(corr_matrix, cmap=\"Reds\",linewidth=.5, vmin=corr_matrix.values.min(), vmax=corr_matrix.values.max())\n",
    "\n",
    "ax.set_xlim(0, corr_matrix.shape[1])\n",
    "ax.set_ylim(0, corr_matrix.shape[0])\n",
    "ax.xaxis.tick_top()\n",
    "ax.xaxis.set_tick_params(labeltop=True,width=5)\n",
    "ax.xaxis.set_tick_params(labelbottom=False,width=1)\n",
    "ax.set_xticks(np.arange(corr_matrix.shape[1]) + 0.5)\n",
    "ax.set_xticklabels(corr_matrix.columns, rotation=45, ha='left',size = 15)\n",
    "\n",
    "ax.yaxis.tick_right()\n",
    "ax.yaxis.set_tick_params(width=5)\n",
    "ax.yaxis.set_tick_params(width=1)\n",
    "ax.set_yticks(np.arange(corr_matrix.shape[1]) + 0.5)\n",
    "ax.set_yticklabels(corr_matrix.index,  size = 15)\n",
    "\n",
    "\n",
    "for row, col in itertools.product(corr_matrix.index.tolist(),\n",
    "                                  corr_matrix.columns.tolist()):\n",
    "    ax.text(\n",
    "        corr_matrix.columns.get_loc(col) + 0.5,\n",
    "        corr_matrix.index.get_loc(row) + 0.5,\n",
    "        f\"{corr_matrix.loc[row, col]:.2f}\",\n",
    "        ha='center',\n",
    "        va='center',\n",
    "        size=10\n",
    "    )\n",
    "\n",
    "\n",
    "minV = round(corr_matrix.values.min(),2)\n",
    "maxV = round(corr_matrix.values.max(),2)\n",
    "midV = round(maxV - ((maxV - minV) /2),2)\n",
    "    \n",
    "fig.colorbar(cm,location='left',shrink=.3 , pad=0.01, aspect=5,ticks=[minV+.1, maxV-.1, midV ])   \n",
    "\n",
    "fig.show()\n",
    "fig.savefig(outdir+\"/ASEcorr.svg\")"
   ]
  }
 ],
 "metadata": {
  "kernelspec": {
   "display_name": "Python 3",
   "language": "python",
   "name": "python3"
  },
  "language_info": {
   "codemirror_mode": {
    "name": "ipython",
    "version": 3
   },
   "file_extension": ".py",
   "mimetype": "text/x-python",
   "name": "python",
   "nbconvert_exporter": "python",
   "pygments_lexer": "ipython3",
   "version": "3.8.5"
  },
  "vscode": {
   "interpreter": {
    "hash": "916dbcbb3f70747c44a77c7bcd40155683ae19c65e1c03b4aa3499c5328201f1"
   }
  }
 },
 "nbformat": 4,
 "nbformat_minor": 4
}
