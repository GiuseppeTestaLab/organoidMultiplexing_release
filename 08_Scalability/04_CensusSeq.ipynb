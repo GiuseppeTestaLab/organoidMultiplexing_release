{
 "cells": [
  {
   "cell_type": "raw",
   "id": "d56439fe-86a2-4500-bd97-d5e9ada06a62",
   "metadata": {},
   "source": [
    "---\n",
    "title: \"Visualization of the results from CENSUS-Seq experiment\"\n",
    "format: \n",
    "    html:\n",
    "        theme: \n",
    "            - default\n",
    "        page-layout: full\n",
    "        code-fold: true\n",
    "        code-tools: true\n",
    "        toc: true\n",
    "        number-sections: true\n",
    "        embed-resources: true\n",
    "jupyter: python3\n",
    "---"
   ]
  },
  {
   "cell_type": "markdown",
   "id": "ff0442e9-eda2-4da1-8513-8535c9e50955",
   "metadata": {},
   "source": [
    "# Load environment"
   ]
  },
  {
   "cell_type": "code",
   "execution_count": null,
   "id": "9734da1a-30a2-480b-86f9-bf2138633904",
   "metadata": {},
   "outputs": [],
   "source": [
    "import pandas as pd\n",
    "import glob\n",
    "import seaborn as sns\n",
    "import matplotlib.pyplot as plt\n",
    "import yaml\n",
    "import numpy as np\n",
    "from collections import defaultdict\n",
    "from scipy.stats import variation, entropy"
   ]
  },
  {
   "cell_type": "code",
   "execution_count": null,
   "id": "aff00e2b-400a-458e-8c75-5c88f1d926bb",
   "metadata": {},
   "outputs": [],
   "source": [
    "with open(\"../data/resources/rcParams.yaml\") as f:\n",
    "    rcParamsDict = yaml.full_load(f)\n",
    "    for k in rcParamsDict[\"rcParams\"]:\n",
    "        print(\"{} {}\".format(k,rcParamsDict[\"rcParams\"][k]))\n",
    "        plt.rcParams[k] = rcParamsDict[\"rcParams\"][k]\n",
    "    for k1 in set(list(rcParamsDict)).difference(set([\"rcParams\"])):\n",
    "        print(\"{} {}\".format(k1,rcParamsDict[k1]))"
   ]
  },
  {
   "cell_type": "code",
   "execution_count": null,
   "id": "d6ce6237-d747-4918-9446-08b8b988cb9b",
   "metadata": {},
   "outputs": [],
   "source": [
    "first_tranche = glob.glob(\"../../CensusSeq_Feb/output/census/**.txt\")\n",
    "second_tranche = glob.glob(\"../../CensusSeq_Mar/output/census/**.txt\")\n",
    "\n",
    "all_files = first_tranche + second_tranche"
   ]
  },
  {
   "cell_type": "raw",
   "id": "fe30df84-450a-4392-9b66-d3557d76a68a",
   "metadata": {},
   "source": [
    "\n",
    "  \"chimeric\":\n",
    "    color : \"#EF6F6C\"\n",
    "    oldName : \"chimeric\"\n",
    "    oldNameHeader : \"chimeric\"\n",
    "    newName : \"chimeric\"\n"
   ]
  },
  {
   "cell_type": "code",
   "execution_count": null,
   "id": "45869e37-ef01-4b2f-8bd6-c75ac48db8e2",
   "metadata": {},
   "outputs": [],
   "source": [
    "color_palette = {\n",
    " 'CTL01A': '#DBB807',\n",
    "    'CTL08A': '#0FB248',\n",
    "    'CTL04E': '#FF0054',\n",
    "    'CTL02A': '#7B00FF',\n",
    "'H9': '#72190E',\n",
    " 'H1': '#994F88',\n",
    " 'CTL05A': '#1965B0',\n",
    " 'CTL07C': '#437DBF',\n",
    " 'CTL06F': '#CAE0AB',\n",
    " 'CTL09A': '#FFFF00',\n",
    " 'KTD8_2': '#E65518',\n",
    " 'UCSFi001-A': '#7BAFDE'}"
   ]
  },
  {
   "cell_type": "markdown",
   "id": "0da746ab-66ec-421e-8714-14f8f18395ca",
   "metadata": {},
   "source": [
    "# Load and format data"
   ]
  },
  {
   "cell_type": "code",
   "execution_count": null,
   "id": "8a5f1af3-3980-4c1c-bcbe-3996e22c0494",
   "metadata": {},
   "outputs": [],
   "source": [
    "all_results = {}\n",
    "for file in all_files:\n",
    "    name = file.strip('.txt').split('/')[-1].split('.')[0]\n",
    "    all_results[name] = pd.read_csv(file, skiprows = 2, sep = '\\t')"
   ]
  },
  {
   "cell_type": "code",
   "execution_count": null,
   "id": "c774a5cf-ee31-47e3-b31f-846fdd435fc0",
   "metadata": {},
   "outputs": [],
   "source": [
    "all_results_df = pd.concat(all_results.values(), keys = all_results.keys()).reset_index()\n",
    "donor_map_names = {i:j for i, j in zip(all_results_df['DONOR'], all_results_df['DONOR'])}\n",
    "donor_map_names['CHD2WT'] = 'UCSFi001-A'\n",
    "donor_map_names['CHD8WT'] = 'H9'\n",
    "all_results_df['DONOR'] = all_results_df['DONOR'].map(donor_map_names)\n",
    "\n",
    "all_results_df.head()"
   ]
  },
  {
   "cell_type": "code",
   "execution_count": null,
   "id": "960f229f-b67e-4a20-af75-85b5aad136db",
   "metadata": {},
   "outputs": [],
   "source": [
    "all_results_df.shape "
   ]
  },
  {
   "cell_type": "code",
   "execution_count": null,
   "id": "c4469a70-6605-4dfe-a86e-0e9e6b57a340",
   "metadata": {},
   "outputs": [],
   "source": [
    "metadata = pd.read_excel('../../data/csv/CensusSeq_metadata_new.xlsx')\n",
    "metadata"
   ]
  },
  {
   "cell_type": "code",
   "execution_count": null,
   "id": "e231550a-569e-4c45-9dd7-08211689a5ae",
   "metadata": {},
   "outputs": [],
   "source": [
    "metadata.index = metadata['Sample name']"
   ]
  },
  {
   "cell_type": "code",
   "execution_count": null,
   "id": "cdeb0efc-dc2c-4330-b818-231492d945ef",
   "metadata": {},
   "outputs": [],
   "source": [
    "metadata['Mix'].unique()"
   ]
  },
  {
   "cell_type": "code",
   "execution_count": null,
   "id": "54a4c848-708a-4a0b-a915-787b69d7dd8f",
   "metadata": {},
   "outputs": [],
   "source": [
    "len(metadata['Sample name'].unique())"
   ]
  },
  {
   "cell_type": "code",
   "execution_count": null,
   "id": "cd11aeed-1cf4-4dce-b2fc-862bafbb0a37",
   "metadata": {},
   "outputs": [],
   "source": [
    "len(all_results_df['level_0'].unique())"
   ]
  },
  {
   "cell_type": "code",
   "execution_count": null,
   "id": "0811eb61-f946-4d2e-8a1e-0b4386d87a6c",
   "metadata": {},
   "outputs": [],
   "source": [
    "all_results_df = all_results_df.drop('level_1', axis  = 1)\n",
    "all_results_df.columns = ['Sample name', 'DONOR', 'REPRESENTATION']\n",
    "all_results_df"
   ]
  },
  {
   "cell_type": "code",
   "execution_count": null,
   "id": "63c5e712-eb08-4914-b947-936b4f3eee3d",
   "metadata": {},
   "outputs": [],
   "source": [
    "all_results_df.index = all_results_df['Sample name']\n",
    "all_results_df['MIX ID'] = all_results_df['Sample name'].map({i: j for i, j in zip(metadata['Sample name'], metadata['Mix'])})\n",
    "all_results_df['Timepoint'] = all_results_df['Sample name'].map({i: j for i, j in zip(metadata['Sample name'], metadata['timepoint'])})\n",
    "all_results_df = all_results_df[all_results_df['MIX ID'] != 7]\n",
    "#all_results_df['MIX ID'] = all_results_df['MIX ID'].map({1:1, 2:2, 3:3,4:4,5:5,6:6,8:7})\n",
    "all_results_df.to_csv('../../data/csv/CensusSeq_data.csv')"
   ]
  },
  {
   "cell_type": "code",
   "execution_count": null,
   "id": "59ddd58e-393c-42fc-90b6-7f5d9101758d",
   "metadata": {},
   "outputs": [],
   "source": [
    "all_results_df.head()"
   ]
  },
  {
   "cell_type": "code",
   "execution_count": null,
   "id": "fdb51ad4-1146-4e40-884d-0eed162716f4",
   "metadata": {},
   "outputs": [],
   "source": [
    "all_results_df.shape"
   ]
  },
  {
   "cell_type": "markdown",
   "id": "429e4a88-ab3f-4948-aed4-3fd71a4a0121",
   "metadata": {},
   "source": [
    "# Plot contributions from each samples"
   ]
  },
  {
   "cell_type": "code",
   "execution_count": null,
   "id": "3421833c-f05b-4e2b-bcf7-2477b0ff1c9f",
   "metadata": {},
   "outputs": [],
   "source": [
    "#color_palette"
   ]
  },
  {
   "cell_type": "code",
   "execution_count": null,
   "id": "582a76db-1383-4687-80bf-3c288c378869",
   "metadata": {},
   "outputs": [],
   "source": [
    "order = ['day -2', 'day 5', 'day 12', 'day 25', 'day 50']\n",
    "tp = all_results_df['MIX ID'].unique().tolist()\n",
    "tp.sort()\n",
    "\n",
    "fig, ax = plt.subplots(2, 4, figsize = (20, 20), gridspec_kw={'wspace': 0.4, 'hspace': 0.4})\n",
    "ax = ax.flatten().T\n",
    "\n",
    "for mix, ax in zip(tp, ax):\n",
    "    \n",
    "    sub = all_results_df[all_results_df['MIX ID'] == mix]\n",
    "    #print(sub)\n",
    "    sub_df_pivoted = pd.pivot(sub, index = 'Sample name', columns='DONOR', values='REPRESENTATION')\n",
    "    \n",
    "    sub_df_pivoted.index = sub_df_pivoted.index.map({i: j for i, j in zip(sub['Sample name'], sub['Timepoint'])})\n",
    "    \n",
    "\n",
    "    sub_df_pivoted.loc[[i for i in order if i in sub_df_pivoted.index]].plot(kind = 'bar', stacked = True, color = color_palette, ax = ax)\n",
    "    ax.legend(bbox_to_anchor = (1,1))\n",
    "    ax.set_title(f'Mix ID: {mix}')\n",
    "    ax.set_xlabel('Time point')\n",
    "    ax.set_ylabel('Proportion of identities')\n",
    "#plt.savefig('censusSeq_results.png')\n",
    "plt.tight_layout()\n",
    "plt.show()"
   ]
  },
  {
   "cell_type": "markdown",
   "id": "be20e76e-bdb8-4be1-ad57-ca19f0185bdf",
   "metadata": {},
   "source": [
    "## Lineplots of contributions trends"
   ]
  },
  {
   "cell_type": "code",
   "execution_count": null,
   "id": "99909483-540d-485e-911e-e7f1dd5de66d",
   "metadata": {},
   "outputs": [],
   "source": [
    "all_results_df['Timepoint_int'] = all_results_df.Timepoint.apply(lambda x: int(x.strip('day ')))\n",
    "all_results_df['Timepoint_int'].sort_values\n",
    "mix_ordered = all_results_df['MIX ID'].unique().tolist()\n",
    "mix_ordered.sort()\n",
    "\n",
    "fig, ax = plt.subplots(4, 2, figsize = (20, 25))\n",
    "ax = ax.flatten().T\n",
    "\n",
    "ax[-1].set_axis_off()\n",
    "\n",
    "for mix, ax in zip(mix_ordered, ax):\n",
    "    \n",
    "    sub = all_results_df[all_results_df['MIX ID'] == mix].reset_index(drop = True)\n",
    "\n",
    "    sns.lineplot(data = sub, x = 'Timepoint_int', y = 'REPRESENTATION', hue = 'DONOR', marker = 'o', palette=color_palette, ax = ax)\n",
    "            \n",
    "    ax.set_title(f'Mix ID: {mix}', fontsize = 25)\n",
    "    ax.set_ylabel('Fraction represented', fontsize = 20)\n",
    "    ax.set_xlabel('Timepoint', fontsize = 20)\n",
    "    #start, end = (-3, 52)\n",
    "    ax.xaxis.set_ticks([-2, 5, 12, 25, 50])\n",
    "\n",
    "    ax.tick_params(axis='both', labelsize=15)\n",
    "    \n",
    "    \n",
    "plt.tight_layout()\n",
    "plt.savefig('./figures/Mix_CensusSeq.svg', bbox_inches = 'tight')"
   ]
  },
  {
   "cell_type": "code",
   "execution_count": null,
   "id": "3ce1fdf7-018c-4a30-a480-2c7659f4422f",
   "metadata": {},
   "outputs": [],
   "source": [
    "all_results_df = all_results_df.drop('Sample name', axis = 1).reset_index()\n",
    "max_rep = all_results_df[all_results_df.Timepoint == 'day 5'].groupby('Sample name').max('REPRESENTATION')['REPRESENTATION']\n",
    "all_results_df[all_results_df.Timepoint == 'day 5'][all_results_df[all_results_df.Timepoint == 'day 5'].REPRESENTATION.isin(max_rep)]"
   ]
  },
  {
   "cell_type": "code",
   "execution_count": null,
   "id": "d1054614-9492-4c73-a98d-f5d908f4d080",
   "metadata": {},
   "outputs": [],
   "source": [
    "all_results_df.Timepoint.unique()"
   ]
  },
  {
   "cell_type": "code",
   "execution_count": null,
   "id": "62dffafc-45e9-4135-b0d3-c095b7d9b5b7",
   "metadata": {},
   "outputs": [],
   "source": [
    "fig, ax = plt.subplots(figsize = (20,5))\n",
    "sns.boxplot(data = all_results_df, x = 'DONOR', y = 'REPRESENTATION', hue = 'Timepoint', hue_order=['day -2', 'day 5', 'day 12', 'day 25', 'day 50'])\n",
    "ax.legend(bbox_to_anchor = (1,1))"
   ]
  },
  {
   "cell_type": "markdown",
   "id": "117991eb-1c69-43ad-9f93-2948202f9ccc",
   "metadata": {},
   "source": [
    "# Compute entropy of representations\n",
    "[Shannon's entropy](https://docs.scipy.org/doc/scipy/reference/generated/scipy.stats.entropy.html) is computed for each timepoint and each sample. It quantifies the expected uncertainty inherent in the possible outcomes of a discrete random variable, therefore the higher its value and and the higher the balance in representation. In fact, we observe a higher entropy for -2 time point."
   ]
  },
  {
   "cell_type": "code",
   "execution_count": null,
   "id": "178f680b-44df-4239-8fc8-bce30a21c60c",
   "metadata": {},
   "outputs": [],
   "source": [
    "entropy_df = all_results_df.groupby(['Timepoint_int', 'Sample name'])['REPRESENTATION'].apply(entropy).reset_index()\n",
    "entropy_df.head()"
   ]
  },
  {
   "cell_type": "code",
   "execution_count": null,
   "id": "8c81afe6-85a0-4dd1-b5e6-832a6829509a",
   "metadata": {},
   "outputs": [],
   "source": [
    "fig, ax = plt.subplots(figsize = (5,8))\n",
    "sns.barplot(data = entropy_df, x = 'Timepoint_int', y = 'REPRESENTATION', ax = ax, color = '#2a9d8f')\n",
    "#sns.swarmplot(data = std, x = 'MIX ID', y = 'REPRESENTATION', hue = 'Timepoint_int', ax = ax, dodge = True)\n",
    "ax.set_xticklabels(ax.get_xticklabels(), rotation = 90)\n",
    "\n",
    "ax.set_ylabel('Shannon entropy', fontsize = 20)\n",
    "ax.set_xlabel('Day', fontsize = 20)\n",
    "ax.tick_params(axis='both', which='major', labelsize=20)\n",
    "\n",
    "#plt.legend(bbox_to_anchor = (1,1), title = 'Day')\n",
    "plt.tight_layout()\n",
    "plt.savefig('./figures/Entropy.svg', bbox_inches = 'tight')"
   ]
  },
  {
   "cell_type": "markdown",
   "id": "6f439927-ebb4-4e9b-87cf-f90fb3e463fe",
   "metadata": {},
   "source": [
    "# Compute coefficient of variation of representations for each donor\n",
    "[Coefficient of variation](https://docs.scipy.org/doc/scipy/reference/generated/scipy.stats.variation.html#scipy.stats.variation) is computed for __each timepoint and each donor__ (so variation for each donor at a certain time point across different mixes). Time point -2 is excluded because no replicate i available for that.  \n",
    "Additionally, for each donor the absolute difference in CV between one time point and the previous one is computed."
   ]
  },
  {
   "cell_type": "code",
   "execution_count": null,
   "id": "01a9b836-06bb-499f-bf72-4a1e5a3e11db",
   "metadata": {},
   "outputs": [],
   "source": [
    "std = all_results_df.groupby(['Timepoint_int', 'DONOR'])['REPRESENTATION'].apply(variation).reset_index()\n",
    "std = std[std.Timepoint_int != -2]\n",
    "\n",
    "std = std.sort_values(by=[\"DONOR\", \"Timepoint_int\"])\n",
    "std[\"Difference\"] = std.groupby(\"DONOR\")[\"REPRESENTATION\"].diff()\n",
    "#std"
   ]
  },
  {
   "cell_type": "code",
   "execution_count": null,
   "id": "febb034c-c6bc-4ec8-bb6a-80277c6c018a",
   "metadata": {},
   "outputs": [],
   "source": [
    "fig, ax = plt.subplots(figsize = (20,10))\n",
    "sns.barplot(data = std, x = 'DONOR', y = 'REPRESENTATION', hue = 'Timepoint_int', ax = ax, palette = sns.cubehelix_palette())\n",
    "ax.set_xticklabels(ax.get_xticklabels(), rotation = 90)\n",
    "plt.legend(bbox_to_anchor = (1,1))\n",
    "plt.savefig('./figures/CV_timepoint_donor.svg', bbox_inches = 'tight')"
   ]
  },
  {
   "cell_type": "code",
   "execution_count": null,
   "id": "c713174e-0dec-4b8e-ba2c-47253d290938",
   "metadata": {},
   "outputs": [],
   "source": [
    "fig, ax = plt.subplots(figsize = (20,10))\n",
    "std['Difference'] = np.abs(std['Difference'])\n",
    "sns.barplot(data = std, x = 'DONOR', y = 'Difference', hue = 'Timepoint_int', ax = ax, palette = sns.cubehelix_palette())\n",
    "ax.set_xticklabels(ax.get_xticklabels(), rotation = 90)\n",
    "plt.legend(bbox_to_anchor = (1,1))"
   ]
  },
  {
   "cell_type": "markdown",
   "id": "90602b2b-ab37-4d56-89c7-895e5bca073a",
   "metadata": {},
   "source": [
    "# Compute coefficient of variation the of representations for each donor in each mix\n",
    "[Coefficient of variation](https://docs.scipy.org/doc/scipy/reference/generated/scipy.stats.variation.html#scipy.stats.variation) (CV) is computed for __each timepoint, each mix and each donor__ (so variation across different replicates). Time point -2 is excluded because no replicate i available for that.  \n",
    "Additionally, for each donor the absolute difference in CV between one time point and the previous one is computed."
   ]
  },
  {
   "cell_type": "code",
   "execution_count": null,
   "id": "5f06f18c-ab7d-4f73-b333-66256f2feb2e",
   "metadata": {},
   "outputs": [],
   "source": [
    "std = all_results_df.groupby(['Timepoint_int', 'MIX ID', 'DONOR'])['REPRESENTATION'].apply(variation).reset_index()\n",
    "std = std[std.Timepoint_int != -2]\n",
    "\n",
    "std = std.sort_values(by=[\"MIX ID\", 'DONOR', \"Timepoint_int\"])\n",
    "std[\"Difference\"] = std.groupby(\"MIX ID\")[\"REPRESENTATION\"].diff()\n",
    "std"
   ]
  },
  {
   "cell_type": "markdown",
   "id": "ace81f99-a496-4b12-8a12-2636b55024e4",
   "metadata": {},
   "source": [
    "We plot here the distribution of the CV in each mix for each timepoint (each point of the distribution would be a donor)"
   ]
  },
  {
   "cell_type": "code",
   "execution_count": null,
   "id": "59cbbc5e-036d-4a85-89f9-544802490b28",
   "metadata": {},
   "outputs": [],
   "source": [
    "fig, ax = plt.subplots(figsize = (20,10))\n",
    "sns.boxplot(data = std, x = 'MIX ID', y = 'REPRESENTATION', hue = 'Timepoint_int', ax = ax, palette = sns.cubehelix_palette())\n",
    "#ax.set_xticklabels(ax.get_xticklabels(), rotation = 90)\n",
    "ax.set_ylabel('Coefficient of variation', fontsize = 20)\n",
    "ax.set_xlabel('MIX', fontsize = 20)\n",
    "\n",
    "ax.tick_params(axis='both', which='major', labelsize=20)\n",
    "plt.tight_layout()\n",
    "plt.legend(bbox_to_anchor = (1,1), title = 'Day')\n",
    "plt.savefig('./figures/CV_timepoint_mix_donor.svg', bbox_inches = 'tight')"
   ]
  },
  {
   "cell_type": "code",
   "execution_count": null,
   "id": "91b04468-35d5-4fba-ac2a-031dabea5546",
   "metadata": {},
   "outputs": [],
   "source": [
    "std['Difference'] = np.abs(std['Difference'])\n",
    "\n",
    "fig, ax = plt.subplots(figsize = (20,10))\n",
    "sns.boxplot(data = std, x = 'MIX ID', y = 'Difference', hue = 'Timepoint_int', ax = ax, palette = sns.cubehelix_palette())\n",
    "ax.set_xticklabels(ax.get_xticklabels(), rotation = 90)\n",
    "ax.set_ylabel('Absolute CV difference')\n",
    "plt.legend(bbox_to_anchor = (1,1), title = 'Time range')"
   ]
  },
  {
   "cell_type": "markdown",
   "id": "12ac9689-3ea5-4aee-88c2-14daff4ad518",
   "metadata": {},
   "source": [
    "# Compute weighted rank and weighted normalized rank\n",
    "## Day 5"
   ]
  },
  {
   "cell_type": "code",
   "execution_count": null,
   "id": "3c956a9e-b85d-4b5e-b29f-14359a98b11d",
   "metadata": {},
   "outputs": [],
   "source": [
    "all_timepoints_norm_weighted = {}"
   ]
  },
  {
   "cell_type": "code",
   "execution_count": null,
   "id": "936bf0f4-91cb-4132-8b2c-8d20b34c9a8c",
   "metadata": {},
   "outputs": [],
   "source": [
    "ranked_lists = {}\n",
    "for m in all_results_df[all_results_df['Timepoint'] == 'day 5']['MIX ID'].unique():\n",
    "    df = all_results_df[((all_results_df['Timepoint'] == 'day 5') & (all_results_df['MIX ID'] == m)  )].sort_values(by = 'REPRESENTATION', ascending = False)\n",
    "    #print(df.groupby('DONOR').sum().sort_values(by = 'REPRESENTATION', ascending = False))\n",
    "    result = df.groupby('DONOR').sum().sort_values(by = 'REPRESENTATION', ascending = False).reset_index()\n",
    "    ranked_lists[f'Mix {m}'] = result.DONOR.tolist()"
   ]
  },
  {
   "cell_type": "code",
   "execution_count": null,
   "id": "7c1d7e6e-989d-4cf5-9fbb-6fca73aa79b4",
   "metadata": {},
   "outputs": [],
   "source": [
    "ranked_lists"
   ]
  },
  {
   "cell_type": "code",
   "execution_count": null,
   "id": "30351ed2-429e-4bd4-85ba-18b11b7cceea",
   "metadata": {
    "tags": []
   },
   "outputs": [],
   "source": [
    "\n",
    "data = list(ranked_lists.values())\n"
   ]
  },
  {
   "cell_type": "markdown",
   "id": "7e0dd0e3-e8bb-4867-9dd8-c8dee32644fd",
   "metadata": {},
   "source": [
    "### Weighted mean - not including percentages"
   ]
  },
  {
   "cell_type": "code",
   "execution_count": null,
   "id": "87d8b406-1926-4f84-8930-5d6e4e74edd2",
   "metadata": {},
   "outputs": [],
   "source": [
    "d = defaultdict(list)\n",
    "d\n",
    "\n",
    "for l in data:\n",
    "    #print(len(l))\n",
    "    for idx, value in enumerate(l):\n",
    "        d[value].append( (idx + 1) * len(l)) # or (idx + 1) * len(l)? which one is better?"
   ]
  },
  {
   "cell_type": "code",
   "execution_count": null,
   "id": "cf9e2842-045d-4ca2-b21f-fae9b3f9103c",
   "metadata": {},
   "outputs": [],
   "source": [
    "mean_d = {}\n",
    "for l in d:\n",
    "    mean_d[l] = np.mean(d[l])"
   ]
  },
  {
   "cell_type": "code",
   "execution_count": null,
   "id": "7853f1c8-00f8-484e-8eea-39a70149e50d",
   "metadata": {},
   "outputs": [],
   "source": [
    "mean_d_df = pd.DataFrame(mean_d.values(), mean_d.keys())\n",
    "mean_d_df.columns = ['mean_weighted_rank']\n",
    "#mean_d_df = mean_d_df.drop(1)\n",
    "mean_d_df.sort_values(by = 'mean_weighted_rank', ascending = True)"
   ]
  },
  {
   "cell_type": "code",
   "execution_count": null,
   "id": "efd842a6-ae46-43e6-8f17-a7f9b77a392b",
   "metadata": {},
   "outputs": [],
   "source": [
    "mean_d_df.sort_values(by = 'mean_weighted_rank').to_csv('../../data/csv/CensusSeq_weighted_rank_d5.csv')"
   ]
  },
  {
   "cell_type": "markdown",
   "id": "a777ff98-47fa-4e60-9f4d-fb7a32b873ca",
   "metadata": {},
   "source": [
    "### Weighted mean - including percentages"
   ]
  },
  {
   "cell_type": "code",
   "execution_count": null,
   "id": "0b3b251e-fe04-417d-b1f6-f59e4dddb958",
   "metadata": {},
   "outputs": [],
   "source": [
    "all_results_df[(all_results_df['Timepoint'] == 'day 5')].groupby('DONOR').sum('REPRESENTATION').sort_values(by = 'REPRESENTATION')"
   ]
  },
  {
   "cell_type": "code",
   "execution_count": null,
   "id": "a25005a2-30f2-44ec-acde-246c316e59ac",
   "metadata": {},
   "outputs": [],
   "source": [
    "mean_d_df['mean_Representation'] = all_results_df[(all_results_df['Timepoint'] == 'day 5')].groupby('DONOR').mean('REPRESENTATION')['REPRESENTATION']\n",
    "mean_d_df['combined_scores'] = mean_d_df['mean_weighted_rank'] * mean_d_df['mean_Representation']\n",
    "mean_d_df.sort_values('combined_scores')"
   ]
  },
  {
   "cell_type": "code",
   "execution_count": null,
   "id": "05a9525a-c60f-494f-aa18-8e1c47925b5a",
   "metadata": {},
   "outputs": [],
   "source": [
    "mean_d_df.sort_values('combined_scores').to_csv('../../data/csv/CensusSeq_combined_weighted_rank_d5.csv')"
   ]
  },
  {
   "cell_type": "code",
   "execution_count": null,
   "id": "ead923d5-6f81-4e73-9596-e9cbe718081f",
   "metadata": {},
   "outputs": [],
   "source": [
    "np.round(mean_d_df.sort_values('combined_scores'), 2)"
   ]
  },
  {
   "cell_type": "code",
   "execution_count": null,
   "id": "ccc53ec7-aafb-40f3-8b70-eeff98cb9eb7",
   "metadata": {},
   "outputs": [],
   "source": [
    "all_timepoints_norm_weighted['day 5'] = mean_d_df['combined_scores']"
   ]
  },
  {
   "cell_type": "markdown",
   "id": "22a5f964-cbc2-4f25-86f6-8bc5b3c45eef",
   "metadata": {},
   "source": [
    "## Day 12"
   ]
  },
  {
   "cell_type": "code",
   "execution_count": null,
   "id": "3fafebcd-a0c6-42f2-9d63-0da1fdff70fe",
   "metadata": {},
   "outputs": [],
   "source": [
    "ranked_lists = {}\n",
    "for m in all_results_df[all_results_df['Timepoint'] == 'day 12']['MIX ID'].unique():\n",
    "    df = all_results_df[((all_results_df['Timepoint'] == 'day 12') & (all_results_df['MIX ID'] == m)  )].sort_values(by = 'REPRESENTATION', ascending = False)\n",
    "    result = df.groupby('DONOR').sum().sort_values(by = 'REPRESENTATION', ascending = False).reset_index()\n",
    "    ranked_lists[f'Mix {m}'] = result.DONOR.tolist()"
   ]
  },
  {
   "cell_type": "code",
   "execution_count": null,
   "id": "1b3dbfe1-18c0-4e94-961e-2297b2a815fc",
   "metadata": {
    "tags": []
   },
   "outputs": [],
   "source": [
    "data = list(ranked_lists.values())"
   ]
  },
  {
   "cell_type": "markdown",
   "id": "c2043a31-eff6-46f3-9846-02c2bb98f9f3",
   "metadata": {},
   "source": [
    "### Weighted mean - not including percentages"
   ]
  },
  {
   "cell_type": "code",
   "execution_count": null,
   "id": "7082dafc-0fad-45ff-ab95-a20250884f36",
   "metadata": {},
   "outputs": [],
   "source": [
    "d = defaultdict(list)\n",
    "d\n",
    "\n",
    "for l in data:\n",
    "    for idx, value in enumerate(l):\n",
    "        d[value].append( (idx + 1) * len(l)) # or (idx + 1) * len(l)? which one is better?"
   ]
  },
  {
   "cell_type": "code",
   "execution_count": null,
   "id": "832bcda2-d682-4937-b883-19f60abd9ec5",
   "metadata": {},
   "outputs": [],
   "source": [
    "mean_d = {}\n",
    "for l in d:\n",
    "    mean_d[l] = np.mean(d[l])"
   ]
  },
  {
   "cell_type": "code",
   "execution_count": null,
   "id": "800cf006-ac30-46c2-b655-a5a0ac38f315",
   "metadata": {},
   "outputs": [],
   "source": [
    "mean_d_df = pd.DataFrame(mean_d.values(), mean_d.keys())\n",
    "mean_d_df.columns = ['mean_weighted_rank']\n",
    "mean_d_df.sort_values(by = 'mean_weighted_rank', ascending = True)"
   ]
  },
  {
   "cell_type": "markdown",
   "id": "5d8430e2-3ef1-4f8f-93e4-face751acc9d",
   "metadata": {},
   "source": [
    "### Weighted mean - including percentages"
   ]
  },
  {
   "cell_type": "code",
   "execution_count": null,
   "id": "4b25e7c0-6812-45ce-bd08-8e5dab0cd5a5",
   "metadata": {},
   "outputs": [],
   "source": [
    "all_results_df[(all_results_df['Timepoint'] == 'day 12')].groupby('DONOR').sum('REPRESENTATION').sort_values(by = 'REPRESENTATION')"
   ]
  },
  {
   "cell_type": "code",
   "execution_count": null,
   "id": "b819afa9-621e-47fa-b008-e04f467b0a93",
   "metadata": {},
   "outputs": [],
   "source": [
    "mean_d_df['mean_Representation'] = all_results_df[(all_results_df['Timepoint'] == 'day 12')].groupby('DONOR').mean('REPRESENTATION')['REPRESENTATION']\n",
    "mean_d_df['combined_scores'] = mean_d_df['mean_weighted_rank'] * mean_d_df['mean_Representation']\n",
    "mean_d_df.sort_values('combined_scores')"
   ]
  },
  {
   "cell_type": "code",
   "execution_count": null,
   "id": "abbdc57a-1fd5-4d42-8602-0c4af9bfc053",
   "metadata": {},
   "outputs": [],
   "source": [
    "mean_d_df.sort_values('combined_scores').to_csv('../../data/csv/CensusSeq_combined_weighted_rank_d12.csv')"
   ]
  },
  {
   "cell_type": "code",
   "execution_count": null,
   "id": "d03fb349-3bc3-42cb-b753-8ea339249135",
   "metadata": {},
   "outputs": [],
   "source": [
    "np.round(mean_d_df.sort_values('combined_scores'), 2)"
   ]
  },
  {
   "cell_type": "code",
   "execution_count": null,
   "id": "e6576984-6871-48d1-a53a-bd6f1b68132a",
   "metadata": {},
   "outputs": [],
   "source": [
    "all_timepoints_norm_weighted['day 12'] = mean_d_df['combined_scores']"
   ]
  },
  {
   "cell_type": "markdown",
   "id": "db5c4978-33e0-4a7e-979d-f78bef58921c",
   "metadata": {},
   "source": [
    "## Day 25"
   ]
  },
  {
   "cell_type": "code",
   "execution_count": null,
   "id": "dc52e8b5-52b6-4bad-a736-ed8df0352d34",
   "metadata": {},
   "outputs": [],
   "source": [
    "ranked_lists = {}\n",
    "for m in all_results_df[all_results_df['Timepoint'] == 'day 25']['MIX ID'].unique():\n",
    "    df = all_results_df[((all_results_df['Timepoint'] == 'day 25') & (all_results_df['MIX ID'] == m)  )].sort_values(by = 'REPRESENTATION', ascending = False)\n",
    "    result = df.groupby('DONOR').sum().sort_values(by = 'REPRESENTATION', ascending = False).reset_index()\n",
    "    ranked_lists[f'Mix {m}'] = result.DONOR.tolist()"
   ]
  },
  {
   "cell_type": "code",
   "execution_count": null,
   "id": "c79a0fa2-373e-4533-8f55-803864dc1225",
   "metadata": {
    "tags": []
   },
   "outputs": [],
   "source": [
    "data = list(ranked_lists.values())"
   ]
  },
  {
   "cell_type": "markdown",
   "id": "eaa8e432-62ba-4889-8fbe-d01d2eddbe32",
   "metadata": {},
   "source": [
    "### Weighted mean - not including percentages"
   ]
  },
  {
   "cell_type": "code",
   "execution_count": null,
   "id": "95e13dcb-afc8-487e-8da2-5aed557809f7",
   "metadata": {},
   "outputs": [],
   "source": [
    "d = defaultdict(list)\n",
    "d\n",
    "\n",
    "for l in data:\n",
    "    for idx, value in enumerate(l):\n",
    "        d[value].append( (idx + 1) * len(l)) # or (idx + 1) * len(l)? which one is better?"
   ]
  },
  {
   "cell_type": "code",
   "execution_count": null,
   "id": "f0ab8c95-fd4f-4191-a7e3-6a30f54244a7",
   "metadata": {},
   "outputs": [],
   "source": [
    "mean_d = {}\n",
    "for l in d:\n",
    "    mean_d[l] = np.mean(d[l])"
   ]
  },
  {
   "cell_type": "code",
   "execution_count": null,
   "id": "26fb6d15-91d7-49c0-9069-72cd74408d32",
   "metadata": {},
   "outputs": [],
   "source": [
    "mean_d_df = pd.DataFrame(mean_d.values(), mean_d.keys())\n",
    "mean_d_df.columns = ['mean_weighted_rank']\n",
    "mean_d_df.sort_values(by = 'mean_weighted_rank', ascending = True)"
   ]
  },
  {
   "cell_type": "markdown",
   "id": "2a17956f-93a6-4200-afff-d5870161a18a",
   "metadata": {},
   "source": [
    "### Weighted mean - including percentages"
   ]
  },
  {
   "cell_type": "code",
   "execution_count": null,
   "id": "225adcec-7702-459e-af28-9c680daaa705",
   "metadata": {},
   "outputs": [],
   "source": [
    "all_results_df[(all_results_df['Timepoint'] == 'day 25')].groupby('DONOR').sum('REPRESENTATION').sort_values(by = 'REPRESENTATION')"
   ]
  },
  {
   "cell_type": "code",
   "execution_count": null,
   "id": "01c4c738-6f50-49ef-bf02-625bd62f459c",
   "metadata": {},
   "outputs": [],
   "source": [
    "mean_d_df['mean_Representation'] = all_results_df[(all_results_df['Timepoint'] == 'day 25')].groupby('DONOR').mean('REPRESENTATION')['REPRESENTATION']\n",
    "mean_d_df['combined_scores'] = mean_d_df['mean_weighted_rank'] * mean_d_df['mean_Representation']\n",
    "mean_d_df.sort_values('combined_scores')"
   ]
  },
  {
   "cell_type": "code",
   "execution_count": null,
   "id": "34b995fb-4a0a-4ace-9fdf-2f0f36c096ac",
   "metadata": {},
   "outputs": [],
   "source": [
    "np.round(mean_d_df.sort_values('combined_scores'), 2)"
   ]
  },
  {
   "cell_type": "code",
   "execution_count": null,
   "id": "7c5e77e2-1bff-420b-9cd4-66a16bfbc254",
   "metadata": {},
   "outputs": [],
   "source": [
    "mean_d_df.sort_values('combined_scores').to_csv('../../data/csv/CensusSeq_combined_weighted_rank_d25.csv')"
   ]
  },
  {
   "cell_type": "code",
   "execution_count": null,
   "id": "26208c32-74ec-44a5-9101-a38509087d4f",
   "metadata": {},
   "outputs": [],
   "source": [
    "all_timepoints_norm_weighted['day 25'] = mean_d_df['combined_scores']"
   ]
  },
  {
   "cell_type": "markdown",
   "id": "4e2cfde7-6017-4b6b-8110-3b6e23fb5633",
   "metadata": {},
   "source": [
    "## Day 50"
   ]
  },
  {
   "cell_type": "code",
   "execution_count": null,
   "id": "841a0276-d55a-4cd7-88b1-5eec9a449495",
   "metadata": {},
   "outputs": [],
   "source": [
    "ranked_lists = {}\n",
    "for m in all_results_df[all_results_df['Timepoint'] == 'day 50']['MIX ID'].unique():\n",
    "    df = all_results_df[((all_results_df['Timepoint'] == 'day 50') & (all_results_df['MIX ID'] == m)  )].sort_values(by = 'REPRESENTATION', ascending = False)\n",
    "    result = df.groupby('DONOR').sum().sort_values(by = 'REPRESENTATION', ascending = False).reset_index()\n",
    "    ranked_lists[f'Mix {m}'] = result.DONOR.tolist()"
   ]
  },
  {
   "cell_type": "code",
   "execution_count": null,
   "id": "122845ae-8b30-41ed-b5a2-0ce0c8ba37c7",
   "metadata": {
    "tags": []
   },
   "outputs": [],
   "source": [
    "data = list(ranked_lists.values())"
   ]
  },
  {
   "cell_type": "markdown",
   "id": "cad392b2-725a-4e1e-9fa7-c60396c664c9",
   "metadata": {},
   "source": [
    "### Weighted mean - not including percentages"
   ]
  },
  {
   "cell_type": "code",
   "execution_count": null,
   "id": "9053b589-fd4d-465c-bbd0-190406111ded",
   "metadata": {},
   "outputs": [],
   "source": [
    "d = defaultdict(list)\n",
    "d\n",
    "\n",
    "for l in data:\n",
    "    for idx, value in enumerate(l):\n",
    "        d[value].append( (idx + 1) * len(l)) # or (idx + 1) * len(l)? which one is better?"
   ]
  },
  {
   "cell_type": "code",
   "execution_count": null,
   "id": "bd010743-ee92-4727-8421-32572ca0ad02",
   "metadata": {},
   "outputs": [],
   "source": [
    "mean_d = {}\n",
    "for l in d:\n",
    "    mean_d[l] = np.mean(d[l])"
   ]
  },
  {
   "cell_type": "code",
   "execution_count": null,
   "id": "06aeffdb-9d00-4211-aeef-b200f33d5d4f",
   "metadata": {},
   "outputs": [],
   "source": [
    "mean_d_df = pd.DataFrame(mean_d.values(), mean_d.keys())\n",
    "mean_d_df.columns = ['mean_weighted_rank']\n",
    "mean_d_df.sort_values(by = 'mean_weighted_rank', ascending = True)"
   ]
  },
  {
   "cell_type": "markdown",
   "id": "a6bf8dae-4e4e-42b4-85a1-520c0d5a8616",
   "metadata": {},
   "source": [
    "### Weighted mean - including percentages"
   ]
  },
  {
   "cell_type": "code",
   "execution_count": null,
   "id": "52201bec-11b9-478a-9c2f-7580627e941f",
   "metadata": {},
   "outputs": [],
   "source": [
    "all_results_df[(all_results_df['Timepoint'] == 'day 50')].groupby('DONOR').sum('REPRESENTATION').sort_values(by = 'REPRESENTATION')"
   ]
  },
  {
   "cell_type": "code",
   "execution_count": null,
   "id": "94f68b4e-745b-4282-a889-991556df1ef6",
   "metadata": {},
   "outputs": [],
   "source": [
    "mean_d_df['mean_Representation'] = all_results_df[(all_results_df['Timepoint'] == 'day 50')].groupby('DONOR').mean('REPRESENTATION')['REPRESENTATION']\n",
    "mean_d_df['combined_scores'] = mean_d_df['mean_weighted_rank'] * mean_d_df['mean_Representation']\n",
    "mean_d_df.sort_values('combined_scores')"
   ]
  },
  {
   "cell_type": "code",
   "execution_count": null,
   "id": "92ad54a2-4f2c-4482-833a-119f85f0fe2c",
   "metadata": {},
   "outputs": [],
   "source": [
    "mean_d_df.sort_values('combined_scores').to_csv('../../data/csv/CensusSeq_combined_weighted_rank_d50.csv')"
   ]
  },
  {
   "cell_type": "code",
   "execution_count": null,
   "id": "7736b555-0708-42ff-a1ac-c613d5964754",
   "metadata": {},
   "outputs": [],
   "source": [
    "np.round(mean_d_df.sort_values('combined_scores'), 2)"
   ]
  },
  {
   "cell_type": "code",
   "execution_count": null,
   "id": "87ecbbc7-4119-4f6b-9c4d-7bd66fe2a15e",
   "metadata": {},
   "outputs": [],
   "source": [
    "all_timepoints_norm_weighted['day 50'] = mean_d_df['combined_scores']"
   ]
  },
  {
   "cell_type": "code",
   "execution_count": null,
   "id": "7c18e6ee-d240-4950-bd82-c96565ab5cc5",
   "metadata": {},
   "outputs": [],
   "source": [
    "all_results_df[((all_results_df['MIX ID'] == 6) & (all_results_df['Timepoint'] == 'day 50'))].groupby(['DONOR']).mean()"
   ]
  }
 ],
 "metadata": {
  "kernelspec": {
   "display_name": "Python 3",
   "language": "python",
   "name": "python3"
  },
  "language_info": {
   "codemirror_mode": {
    "name": "ipython",
    "version": 3
   },
   "file_extension": ".py",
   "mimetype": "text/x-python",
   "name": "python",
   "nbconvert_exporter": "python",
   "pygments_lexer": "ipython3",
   "version": "3.8.5"
  }
 },
 "nbformat": 4,
 "nbformat_minor": 5
}
