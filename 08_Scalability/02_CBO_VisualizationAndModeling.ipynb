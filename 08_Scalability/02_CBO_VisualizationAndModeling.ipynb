{
 "cells": [
  {
   "cell_type": "raw",
   "id": "c5b9df75-329c-4ec4-8873-7819bbe9a7b9",
   "metadata": {},
   "source": [
    "---\n",
    "title: \"Visualization and Growth Curve modeling of CensusSeq organoids\"\n",
    "format: \n",
    "    html:\n",
    "        theme: \n",
    "            - default\n",
    "        page-layout: full\n",
    "        code-fold: true\n",
    "        code-tools: true\n",
    "        toc: true\n",
    "        number-sections: true\n",
    "        embed-resources: true\n",
    "jupyter: python3\n",
    "---"
   ]
  },
  {
   "cell_type": "code",
   "execution_count": null,
   "id": "326707ab-d62e-4dc9-bfd6-e3cfdcb3cbcb",
   "metadata": {},
   "outputs": [],
   "source": [
    "import pandas as pd\n",
    "import matplotlib.pyplot as plt\n",
    "import seaborn as sns\n",
    "import numpy as np\n",
    "import yaml\n",
    "import matplotlib as mpl\n",
    "from scipy import stats"
   ]
  },
  {
   "cell_type": "code",
   "execution_count": null,
   "id": "7e56fdbf-760b-4591-bd42-891ca0ab319a",
   "metadata": {},
   "outputs": [],
   "source": [
    "with open(\"../data/resources/rcParams.yaml\") as f:\n",
    "    rcParamsDict = yaml.full_load(f)\n",
    "    for k in rcParamsDict[\"rcParams\"]:\n",
    "        print(\"{} {}\".format(k,rcParamsDict[\"rcParams\"][k]))\n",
    "        plt.rcParams[k] = rcParamsDict[\"rcParams\"][k]\n",
    "    for k1 in set(list(rcParamsDict)).difference(set([\"rcParams\"])):\n",
    "        print(\"{} {}\".format(k1,rcParamsDict[k1]))"
   ]
  },
  {
   "cell_type": "code",
   "execution_count": null,
   "id": "061958b8-ec34-4d02-8114-684bde435e54",
   "metadata": {},
   "outputs": [],
   "source": [
    "df = pd.read_csv('../../data/csv/organoidMultiplexing_growthCurves_quant.csv')"
   ]
  },
  {
   "cell_type": "code",
   "execution_count": null,
   "id": "5c701abd-a0b8-4bbd-b484-1f9ebca58612",
   "metadata": {},
   "outputs": [],
   "source": [
    "df = df[df.Line != 'MIX7']\n",
    "\n",
    "donor_map_names = {i:j for i, j in zip(df['Line'], df['Line'])}\n",
    "donor_map_names['CHD2WT'] = 'UCSFi001-A'\n",
    "donor_map_names['CHD8WT'] = 'H9'\n",
    "df['Line'] = df['Line'].map(donor_map_names)"
   ]
  },
  {
   "cell_type": "code",
   "execution_count": null,
   "id": "89243cf7-b162-49a6-bdf4-ce99313c320e",
   "metadata": {},
   "outputs": [],
   "source": [
    "line_palette = {\n",
    " 'CTL01A': '#DBB807',\n",
    "    'CTL08A': '#0FB248',\n",
    "    'CTL04E': '#FF0054',\n",
    "    'CTL02A': '#7B00FF',\n",
    "'H9': '#72190E',\n",
    " 'H1': '#994F88',\n",
    " 'CTL05A': '#1965B0',\n",
    " 'CTL07C': '#437DBF',\n",
    " 'CTL06F': '#CAE0AB',\n",
    " 'CTL09A': '#FFFF00',\n",
    " 'KTD8.2': '#E65518',\n",
    " 'UCSFi001-A': '#7BAFDE',\n",
    "'MIX1':'#EF6F6C',\n",
    "'MIX2':'#EF6F6C',\n",
    "'MIX3':'#EF6F6C',\n",
    "'MIX4':'#EF6F6C',\n",
    "'MIX5':'#EF6F6C',\n",
    "'MIX6':'#EF6F6C',\n",
    "'MIX8':'#EF6F6C',}"
   ]
  },
  {
   "cell_type": "markdown",
   "id": "c86825fb-4a6b-46dc-8c0f-32bbc83dd7f4",
   "metadata": {},
   "source": [
    "# Lineplot area not normalized"
   ]
  },
  {
   "cell_type": "code",
   "execution_count": null,
   "id": "b430e9bb-333c-4818-b95d-840442618a9a",
   "metadata": {},
   "outputs": [],
   "source": [
    "sns.lineplot(data = df, x = 'Day', y = 'Area(microns)', hue = 'Line', palette=line_palette)\n",
    "plt.legend(bbox_to_anchor = (1,1))"
   ]
  },
  {
   "cell_type": "code",
   "execution_count": null,
   "id": "18b4dd71-7517-46e6-9bf7-2c895ba435ae",
   "metadata": {},
   "outputs": [],
   "source": [
    "fig, axs = plt.subplots(4, 5, figsize = (20,15), gridspec_kw = {'hspace': 0.9})\n",
    "axs = axs.flatten().T\n",
    "\n",
    "\n",
    "for l, ax in zip(df.Line.unique(), axs):\n",
    "    \n",
    "    palette = {line: '#d3d3d350' for line in df['Line'].unique()}\n",
    "    palette[l] = line_palette[l]\n",
    "    highlighted_data = df[df['Line'] == l]\n",
    "\n",
    "    sns.lineplot(data=df, x='Day', y='Area(microns)', hue='Line', palette=palette, ax = ax, legend = None)\n",
    "    ax.set_title(l)\n",
    "    \n",
    "plt.show()"
   ]
  },
  {
   "cell_type": "code",
   "execution_count": null,
   "id": "867118cc-dd0c-4d85-a1e5-94a319206eb3",
   "metadata": {},
   "outputs": [],
   "source": [
    "# plotting according to order in CENSUS Seq day 5\n",
    "order =  [\"CTL02A\", \n",
    "\"H1\", \n",
    "\"KTD8.2\", \n",
    "\"CTL05A\", \n",
    "\"CTL07C\", \n",
    "\"CTL04E\", \n",
    "\"CTL08A\", \n",
    "\"CTL06F\", \n",
    "\"UCSFi001-A\", \n",
    "\"H9\", \n",
    "\"CTL01A\", \n",
    "\"CTL09A\"]\n",
    "\n",
    "fig, axs = plt.subplots(2, 5, figsize = (20,7.5), gridspec_kw = {'hspace': 0.4, 'wspace': 0.4})\n",
    "axs = axs.flatten().T\n",
    "\n",
    "\n",
    "for l, ax in zip(order, axs):\n",
    "    \n",
    "    palette = {line: '#d3d3d350' for line in df['Line'].unique()}\n",
    "    palette[l] = line_palette[l]\n",
    "\n",
    "    highlighted_data = df[df['Line'] == l]\n",
    "\n",
    "    sns.lineplot(data=df, x='Day', y='Area(microns)', hue='Line', palette=palette, ax = ax, legend = None)\n",
    "    ax.set_title(l)\n",
    "    \n",
    "plt.show()"
   ]
  },
  {
   "cell_type": "markdown",
   "id": "b4ae074b-6331-4beb-9881-28df4affe56e",
   "metadata": {},
   "source": [
    "## Plot only organoids generated from Mix of hPSC"
   ]
  },
  {
   "cell_type": "code",
   "execution_count": null,
   "id": "fbb7b381-7018-4c5d-9234-35f13b064939",
   "metadata": {},
   "outputs": [],
   "source": [
    "fig, axs = plt.subplots(2, 4, figsize = (25,7.5), gridspec_kw = {'hspace': 0.4, 'wspace': 0.3})\n",
    "axs = axs.flatten().T\n",
    "\n",
    "only_mix = df[df.Line.str.startswith('MIX')]\n",
    "only_mix_ordered = only_mix.Line.unique().tolist()\n",
    "only_mix_ordered.sort()\n",
    "\n",
    "for l, ax in zip(only_mix_ordered, axs):\n",
    "    \n",
    "    palette = {line: '#d3d3d350' for line in only_mix_ordered}\n",
    "    palette[l] = line_palette[l]\n",
    "\n",
    "    sns.lineplot(data=only_mix, x='Day', y='Area(microns)', hue='Line', palette=palette, ax = ax, legend = None)\n",
    "\n",
    "    ax.set_title(l)\n",
    "    \n",
    "plt.show()"
   ]
  },
  {
   "cell_type": "markdown",
   "id": "2d72d19e-2415-41c2-8672-a5e117f74cf8",
   "metadata": {},
   "source": [
    "# Lineplots normalized area\n",
    "In the following plots the area of each organoid is normalized on the area they had at day 0."
   ]
  },
  {
   "cell_type": "code",
   "execution_count": null,
   "id": "ba429d80-e387-45cb-8b5a-0b577fbe5b63",
   "metadata": {},
   "outputs": [],
   "source": [
    "sns.lineplot(data = df, x = 'Day', y = 'AreaNorm', hue = 'Line', palette=line_palette)\n",
    "plt.legend(bbox_to_anchor = (1,1))"
   ]
  },
  {
   "cell_type": "code",
   "execution_count": null,
   "id": "dcf5652a-dadd-46f0-96aa-b6edcd5d6d7a",
   "metadata": {},
   "outputs": [],
   "source": [
    "g = sns.FacetGrid(df, col=\"Line\", col_wrap=5, hue = 'Line', palette=line_palette)\n",
    "g.map_dataframe(sns.lineplot, x=\"Day\", y = 'AreaNorm')"
   ]
  },
  {
   "cell_type": "code",
   "execution_count": null,
   "id": "acf474f3-7839-42df-8566-c4e8e31d6dad",
   "metadata": {},
   "outputs": [],
   "source": [
    "fig, axs = plt.subplots(4, 5, figsize = (20,15), gridspec_kw = {'hspace': 0.4})\n",
    "axs = axs.flatten().T\n",
    "\n",
    "\n",
    "for l, ax in zip(df.Line.unique(), axs):\n",
    "    \n",
    "    palette = {line: '#d3d3d350' for line in df['Line'].unique()}\n",
    "    palette[l] = line_palette[l]\n",
    "\n",
    "    highlighted_data = df[df['Line'] == l]\n",
    "\n",
    "    sns.lineplot(data=df, x='Day', y='AreaNorm', hue='Line', palette=palette, ax = ax, legend = None)\n",
    "\n",
    "    ax.set_title(l)\n",
    "    \n",
    "plt.show()"
   ]
  },
  {
   "cell_type": "code",
   "execution_count": null,
   "id": "0fb33d23-9344-4cf9-bfb8-30cddbfc8c70",
   "metadata": {},
   "outputs": [],
   "source": [
    "import warnings\n",
    "\n",
    "warnings.filterwarnings('ignore')"
   ]
  },
  {
   "cell_type": "code",
   "execution_count": null,
   "id": "6e67a1be-90f5-4b89-a783-27021823e3f6",
   "metadata": {},
   "outputs": [],
   "source": [
    "order = [\"CTL02A\"\n",
    ",\"H1\"\n",
    ",\"KTD8.2\"\n",
    ",\"CTL07C\"\n",
    ",\"CTL05A\"\n",
    ",\"CTL08A\"\n",
    ",\"CTL04E\"\n",
    ",\"CTL06F\"\n",
    ",\"CTL09A\"\n",
    ",\"H9\"\n",
    ",\"UCSFi001-A\"\n",
    ",\"CTL01A\"]\n",
    "\n",
    "fig, axs = plt.subplots(3, 4, figsize = (20,12))\n",
    "axs = axs.flatten().T\n",
    "\n",
    "\n",
    "for l, ax in zip(order, axs):\n",
    "    \n",
    "    palette = {line: '#d3d3d350' for line in df['Line'].unique()}\n",
    "    palette[l] = line_palette[l]\n",
    "    highlighted_data = df[df['Line'] == l]\n",
    "\n",
    "    sns.lineplot(data=df, x='Day', y='AreaNorm', hue='Line', palette=palette, ax = ax, legend = None)\n",
    "    \n",
    "    ax.set_title(l, fontsize = 30)\n",
    "    ax.set_ylabel('Area Normalized', fontsize = 20)\n",
    "    ax.set_xlabel('Day', fontsize = 20)\n",
    "    _ = ax.set_xticklabels(ax.get_xticklabels(), fontsize = 15)\n",
    "    _ = ax.set_yticklabels(ax.get_yticklabels(), fontsize = 15)\n",
    "    \n",
    "plt.tight_layout()\n",
    "plt.savefig('./figures/CBO_GC_pureLines.svg', dpi = 300, bbox_inches = 'tight')\n",
    "plt.show()"
   ]
  },
  {
   "cell_type": "markdown",
   "id": "43542ae2-6b7e-443e-b8c4-f82f2104c643",
   "metadata": {},
   "source": [
    "## Plot only organoids generated from Mix of hPSC"
   ]
  },
  {
   "cell_type": "code",
   "execution_count": null,
   "id": "f806dea6-c6e6-4789-a585-3f9897a11bfa",
   "metadata": {},
   "outputs": [],
   "source": [
    "fig, axs = plt.subplots(2, 4, figsize = (25,10))\n",
    "axs = axs.flatten().T\n",
    "\n",
    "only_mix = df[df.Line.str.startswith('MIX')]\n",
    "only_mix_ordered = only_mix.Line.unique().tolist()\n",
    "only_mix_ordered.sort()\n",
    "\n",
    "for l, ax in zip(only_mix_ordered, axs):\n",
    "    \n",
    "    palette = {line: '#d3d3d350' for line in only_mix_ordered}\n",
    "    palette[l] = line_palette[l]\n",
    "\n",
    "    sns.lineplot(data=only_mix, x='Day', y='AreaNorm', hue='Line', palette=palette, ax = ax, legend = None)\n",
    "    #ax.legend('off')\n",
    "\n",
    "    ax.set_title(l, fontsize = 30)\n",
    "    ax.set_ylabel('Area Normalized', fontsize = 20)\n",
    "    ax.set_xlabel('Day', fontsize = 20)\n",
    "    _ = ax.set_xticklabels(ax.get_xticklabels(), fontsize = 15)\n",
    "    _ = ax.set_yticklabels(ax.get_yticklabels(), fontsize = 15)\n",
    "\n",
    "plt.tight_layout()\n",
    "plt.savefig('./figures/CBO_GC_MIX.svg', bbox_inches = 'tight')\n",
    "plt.show()"
   ]
  },
  {
   "cell_type": "markdown",
   "id": "366a7398-850e-4997-973d-0dc1516e639f",
   "metadata": {},
   "source": [
    "## Plot only organoids not generated from Mix of hPSC"
   ]
  },
  {
   "cell_type": "code",
   "execution_count": null,
   "id": "a840a720-39f8-442b-bed7-0af2f0bff53f",
   "metadata": {},
   "outputs": [],
   "source": [
    "fig, axs = plt.subplots(3, 4, figsize = (25,15))\n",
    "axs = axs.flatten().T\n",
    "\n",
    "only_mix = df[~df.Line.str.startswith('MIX')]\n",
    "only_mix_ordered = only_mix.Line.unique().tolist()\n",
    "only_mix_ordered.sort()\n",
    "\n",
    "for l, ax in zip(only_mix_ordered, axs):\n",
    "    \n",
    "    palette = {line: '#d3d3d350' for line in only_mix_ordered}\n",
    "    palette[l] = line_palette[l]\n",
    "\n",
    "    sns.lineplot(data=only_mix, x='Day', y='AreaNorm', hue='Line', palette=palette, ax = ax, legend = None)\n",
    "    #ax.legend('off')\n",
    "\n",
    "    ax.set_title(l)\n",
    "\n",
    "plt.tight_layout()\n",
    "plt.show()"
   ]
  },
  {
   "cell_type": "markdown",
   "id": "0f7d0cc6-eb4c-46cd-b6bc-e00ddd039019",
   "metadata": {},
   "source": [
    "# Discrete derivative and cumulative\n",
    "\n",
    "For each replicate of each line, I'm computing here:\n",
    "* the discrete derivative of the area (`AreaDeriv`)\n",
    "* the discrete derivate the normalized area (`AreaNormDeriv`)\n",
    "* the cumulative sum of the discrete derivative of the area (`AreaCumul`)\n",
    "* the cumulative sum of the discrete derivative of the normalized area (`AreaNormCumul`)\n",
    "* the cumulative sum of the area (`cumulativeArea`)"
   ]
  },
  {
   "cell_type": "code",
   "execution_count": null,
   "id": "da7e3d61-2c0c-4e45-866a-b994ac00e3df",
   "metadata": {
    "tags": []
   },
   "outputs": [],
   "source": [
    "df.index = df.FileName\n",
    "\n",
    "smoothed = pd.Series()\n",
    "derivative = pd.Series()\n",
    "cumulative = pd.Series()\n",
    "\n",
    "derivative_not_norm = pd.Series()\n",
    "cumulative_not_norm = pd.Series()\n",
    "\n",
    "cumulative_area = pd.Series()\n",
    "\n",
    "for l in df.LineRep.unique():\n",
    "    \n",
    "\n",
    "    highlighted_data = df[df['LineRep'] == l]\n",
    "    #print(l)\n",
    "    highlighted_data = highlighted_data.sort_values(by = 'Day')\n",
    "    \n",
    "    highlighted_data['derivative'] = highlighted_data['AreaNorm'].diff() / highlighted_data['Day'].diff()\n",
    "    highlighted_data['cumulative'] = highlighted_data['derivative'].cumsum()\n",
    "    \n",
    "    highlighted_data['cumulativeArea'] = highlighted_data['area'].cumsum()\n",
    "    \n",
    "    highlighted_data['derivative_not_norm'] = highlighted_data['area'].diff() / highlighted_data['Day'].diff()\n",
    "    highlighted_data['cumulative_not_norm'] = highlighted_data['derivative_not_norm'].cumsum()\n",
    "    \n",
    "    derivative = derivative._append(highlighted_data['derivative'])\n",
    "    cumulative = cumulative._append(highlighted_data['cumulative'])\n",
    "    \n",
    "    derivative_not_norm = derivative_not_norm._append(highlighted_data['derivative_not_norm'])\n",
    "    cumulative_not_norm = cumulative_not_norm._append(highlighted_data['cumulative_not_norm'])\n",
    "\n",
    "    cumulative_area = cumulative_area._append(highlighted_data['cumulativeArea'])"
   ]
  },
  {
   "cell_type": "code",
   "execution_count": null,
   "id": "8648f095-9609-4eaf-842a-b628e06f592d",
   "metadata": {},
   "outputs": [],
   "source": [
    "df['AreaNormDeriv'] = derivative\n",
    "df['AreaNormCumul'] = cumulative\n",
    "\n",
    "df['AreaDeriv'] = derivative_not_norm\n",
    "df['AreaCumul'] = cumulative_not_norm\n",
    "\n",
    "df['cumulativeArea'] = cumulative_area"
   ]
  },
  {
   "cell_type": "markdown",
   "id": "57d89af0-d537-41dc-82c4-06aa6ad4c699",
   "metadata": {},
   "source": [
    "## Derivative of the area "
   ]
  },
  {
   "cell_type": "code",
   "execution_count": null,
   "id": "73a8ceb4-67d6-4432-a18a-dcfb5ab0aebb",
   "metadata": {},
   "outputs": [],
   "source": [
    "\n",
    "fig, axs = plt.subplots(4, 5, figsize = (20,15), gridspec_kw = {'hspace': 0.4})\n",
    "axs = axs.flatten().T\n",
    "\n",
    "\n",
    "for l, ax in zip(df.Line.unique(), axs):\n",
    "    \n",
    "    palette = {line: '#d3d3d350' for line in df['Line'].unique()}\n",
    "    palette[l] = line_palette[l]\n",
    "\n",
    "    #highlighted_data = df[df['Line'] == l]\n",
    "\n",
    "    sns.lineplot(data=df, x='Day', y='AreaDeriv', hue='Line', palette=palette, ax = ax, markers='.', legend = None)\n",
    "    ax.legend('')\n",
    "\n",
    "    ax.set_title(l)\n",
    "\n",
    "plt.tight_layout()\n",
    "plt.show()"
   ]
  },
  {
   "cell_type": "markdown",
   "id": "40be547a-a4a0-4323-8dc6-90ad7fdf898a",
   "metadata": {},
   "source": [
    "## Derivative of the normalized area "
   ]
  },
  {
   "cell_type": "code",
   "execution_count": null,
   "id": "e97e7c74-925a-42de-a28e-b77e5105883e",
   "metadata": {},
   "outputs": [],
   "source": [
    "fig, axs = plt.subplots(4, 5, figsize = (20,15), gridspec_kw = {'hspace': 0.4})\n",
    "axs = axs.flatten().T\n",
    "\n",
    "\n",
    "for l, ax in zip(df.Line.unique(), axs):\n",
    "    \n",
    "    palette = {line: '#d3d3d350' for line in df['Line'].unique()}\n",
    "    palette[l] = line_palette[l]\n",
    "\n",
    "    #highlighted_data = df[df['Line'] == l]\n",
    "\n",
    "    sns.lineplot(data=df, x='Day', y='AreaNormDeriv', hue='Line', palette=palette, ax = ax, markers='.', legend = None)\n",
    "    ax.set_title(l)\n",
    "\n",
    "plt.tight_layout()\n",
    "plt.show()"
   ]
  },
  {
   "cell_type": "markdown",
   "id": "fc3678ad-541e-41c6-a50b-f7b49bb9050f",
   "metadata": {},
   "source": [
    "## Cumulative measure of the area"
   ]
  },
  {
   "cell_type": "code",
   "execution_count": null,
   "id": "84ce1f71-7195-448e-9b48-d0368815177f",
   "metadata": {},
   "outputs": [],
   "source": [
    "fig, axs = plt.subplots(4, 5, figsize = (20,15), gridspec_kw = {'hspace': 0.4})\n",
    "axs = axs.flatten().T\n",
    "\n",
    "\n",
    "for l, ax in zip(df.Line.unique(), axs):\n",
    "    \n",
    "    palette = {line: '#d3d3d350' for line in df['Line'].unique()}\n",
    "    palette[l] = line_palette[l]\n",
    "\n",
    "    sns.lineplot(data=df, x='Day', y='cumulativeArea', hue='Line', palette=palette, ax = ax, markers='.', legend = None)\n",
    "    ax.set_title(l)\n",
    "\n",
    "plt.tight_layout()\n",
    "plt.show()"
   ]
  },
  {
   "cell_type": "code",
   "execution_count": null,
   "id": "4cac0fce-2266-4ac4-b47b-a0af018e9239",
   "metadata": {},
   "outputs": [],
   "source": [
    "order =  ['H1',\n",
    " 'CTL07C',\n",
    " 'CTL05A',\n",
    " 'CTL04E',\n",
    " 'CTL08A',\n",
    " 'CTL06F',\n",
    " 'UCSFi001-A',\n",
    " 'H9',\n",
    " 'CTL01A',\n",
    " 'CTL09A']\n",
    "\n",
    "fig, axs = plt.subplots(2, 5, figsize = (20,7.5), gridspec_kw = {'hspace': 0.4})\n",
    "axs = axs.flatten().T\n",
    "\n",
    "\n",
    "for l, ax in zip(order, axs):\n",
    "    \n",
    "    palette = {line: '#d3d3d350' for line in df['Line'].unique()}\n",
    "    palette[l] = line_palette[l]\n",
    "\n",
    "    highlighted_data = df[df['Line'] == l]\n",
    "\n",
    "    sns.lineplot(data=df, x='Day', y='cumulativeArea', hue='Line', palette=palette, ax = ax, legend = None)\n",
    "\n",
    "    ax.set_title(l)\n",
    "    \n",
    "plt.tight_layout()\n",
    "plt.show()"
   ]
  },
  {
   "cell_type": "markdown",
   "id": "aefa60f1-8ade-435f-ad1a-8055c62d2b96",
   "metadata": {},
   "source": [
    "## Cumulative sum of the discrete derivative of the area"
   ]
  },
  {
   "cell_type": "code",
   "execution_count": null,
   "id": "53bd7f0c-2ade-46cf-bbe5-f37674318899",
   "metadata": {},
   "outputs": [],
   "source": [
    "\n",
    "fig, axs = plt.subplots(4, 5, figsize = (20,15), gridspec_kw = {'hspace': 0.8})\n",
    "axs = axs.flatten().T\n",
    "\n",
    "\n",
    "for l, ax in zip(df.Line.unique(), axs):\n",
    "    \n",
    "    palette = {line: '#d3d3d350' for line in df['Line'].unique()}\n",
    "    palette[l] = line_palette[l]\n",
    "\n",
    "    #highlighted_data = df[df['Line'] == l]\n",
    "\n",
    "    sns.lineplot(data=df, x='Day', y='AreaCumul', hue='Line', palette=palette, ax = ax, markers='.')\n",
    "    ax.legend('')\n",
    "\n",
    "    ax.set_title(l)\n",
    "\n",
    "plt.tight_layout()\n",
    "plt.show()"
   ]
  },
  {
   "cell_type": "code",
   "execution_count": null,
   "id": "5b5b82c1-4b1f-4c6f-a1b1-4bd02f6bbace",
   "metadata": {},
   "outputs": [],
   "source": [
    "# only MIX\n",
    "fig, axs = plt.subplots(2, 4, figsize = (20,7.5), gridspec_kw = {'hspace': 0.4})\n",
    "axs = axs.flatten().T\n",
    "\n",
    "only_mix = df[df.Line.str.startswith('MIX')]\n",
    "\n",
    "for l, ax in zip(only_mix.Line.unique(), axs):\n",
    "    \n",
    "    palette = {line: '#d3d3d350' for line in only_mix['Line'].unique()}\n",
    "    palette[l] = line_palette[l]\n",
    "\n",
    "    sns.lineplot(data=only_mix, x='Day', y='AreaCumul', hue='Line', palette=palette, ax = ax, legend = None)\n",
    "\n",
    "    ax.set_title(l)\n",
    "    \n",
    "plt.show()"
   ]
  },
  {
   "cell_type": "markdown",
   "id": "6a05f9d5-b2df-4fb6-a57a-e81df809abf9",
   "metadata": {},
   "source": [
    "## Cumulative sum of the discrete derivative of the normalized area"
   ]
  },
  {
   "cell_type": "code",
   "execution_count": null,
   "id": "0f49b3a8-8f16-4499-9821-125e6e07e4e7",
   "metadata": {},
   "outputs": [],
   "source": [
    "\n",
    "fig, axs = plt.subplots(4, 5, figsize = (20,15), gridspec_kw = {'hspace': 0.8})\n",
    "axs = axs.flatten().T\n",
    "\n",
    "\n",
    "for l, ax in zip(df.Line.unique(), axs):\n",
    "    \n",
    "    palette = {line: '#d3d3d350' for line in df['Line'].unique()}\n",
    "    palette[l] = line_palette[l]\n",
    "\n",
    "    #highlighted_data = df[df['Line'] == l]\n",
    "\n",
    "    sns.lineplot(data=df, x='Day', y='AreaNormCumul', hue='Line', palette=palette, ax = ax, markers='.', legend = None)\n",
    "\n",
    "    ax.set_title(l)\n",
    "    \n",
    "plt.show()"
   ]
  },
  {
   "cell_type": "code",
   "execution_count": null,
   "id": "7147702d-7f6f-42db-975f-b542ba055d4b",
   "metadata": {},
   "outputs": [],
   "source": [
    "# only MIX\n",
    "fig, axs = plt.subplots(2, 4, figsize = (20,7.5), gridspec_kw = {'hspace': 0.4})\n",
    "axs = axs.flatten().T\n",
    "\n",
    "only_mix = df[df.Line.str.startswith('MIX')]\n",
    "\n",
    "for l, ax in zip(only_mix.Line.unique(), axs):\n",
    "    \n",
    "    palette = {line: '#d3d3d350' for line in only_mix['Line'].unique()}\n",
    "    palette[l] = line_palette[l]\n",
    "\n",
    "    sns.lineplot(data=only_mix, x='Day', y='AreaNormCumul', hue='Line', palette=palette, ax = ax, legend = None)\n",
    "\n",
    "    ax.set_title(l)\n",
    "    \n",
    "plt.show()"
   ]
  },
  {
   "cell_type": "code",
   "execution_count": null,
   "id": "6a5a0426-7b73-4d7a-995d-3e710a175ea9",
   "metadata": {},
   "outputs": [],
   "source": [
    "fig, axs = plt.subplots(4, 5, figsize = (20,15), gridspec_kw = {'hspace': 0.4})\n",
    "axs = axs.flatten().T\n",
    "\n",
    "\n",
    "for l, ax in zip(df.Line.unique(), axs):\n",
    "    \n",
    "    palette = {line: '#d3d3d350' for line in df['Line'].unique()}\n",
    "    palette[l] = line_palette[l]\n",
    "\n",
    "    #highlighted_data = df[df['Line'] == l]\n",
    "\n",
    "    sns.lineplot(data=df, x='Day', y='AreaNormCumul', hue='Line', palette=palette, ax = ax, markers='.', legend = None)\n",
    "\n",
    "    ax.set_title(l)\n",
    "    \n",
    "plt.show()"
   ]
  },
  {
   "cell_type": "markdown",
   "id": "875e02ef-0cc1-44b1-8d2f-f2b7cbcd4077",
   "metadata": {},
   "source": [
    "# Fit linear models\n",
    "I'm fitting here a linear model between two points to get the estimate of a certain value at unmeasured time points that could match CENSUS-Seq data (ex. day 5).\n",
    "Remember that the linear model will have the following formula:\n",
    "\n",
    "`y = ax + b`\n",
    "\n",
    "## 2 - 6 days on discrete derivative of the Normalized Area\n",
    "\n",
    "We will have as outputs:\n",
    "* `a`, that is the slope of the linear model. Here will correspond to the __discrete acceleration__ between day 2 and 6\n",
    "* if we input 5 as `x`, we can get the __discrete derivative (approximating the velocity)__ of the area at day 5"
   ]
  },
  {
   "cell_type": "code",
   "execution_count": null,
   "id": "aa4402f3-6d12-4b56-a7ea-bb3d7ad6278c",
   "metadata": {},
   "outputs": [],
   "source": [
    "slopes = {}\n",
    "day_5_value = {}\n",
    "\n",
    "day_2_6 = df[df.Day.isin([2, 4, 6])]\n",
    "\n",
    "for l in day_2_6.Line.unique():\n",
    "    #print(l)\n",
    "    sub = day_2_6[day_2_6.Line == l]\n",
    "    #print(sub)\n",
    "    slopes[l] = {}\n",
    "    slopes[l]['slope'], slopes[l]['intercept'] = stats.linregress(sub['Day'], sub['AreaNormDeriv'])[0], stats.linregress(sub['Day'], sub['AreaNormDeriv'])[1]\n",
    "    day_5_value[l] = slopes[l]['slope']*5 + slopes[l]['intercept']"
   ]
  },
  {
   "cell_type": "markdown",
   "id": "968837da-2de2-4296-9731-e2446d579b19",
   "metadata": {},
   "source": [
    "Order by __area__ at day 5:"
   ]
  },
  {
   "cell_type": "code",
   "execution_count": null,
   "id": "625ed551-bac1-4ea9-b535-2e149ad7b3ee",
   "metadata": {
    "tags": []
   },
   "outputs": [],
   "source": [
    "day_5_value_df = pd.DataFrame(day_5_value.values(), day_5_value.keys())\n",
    "day_5_value_df.columns = ['area_day_5']\n",
    "day_5_value_df.sort_values(by = 'area_day_5').drop([i for i in day_5_value_df.index if i.startswith('MIX')])"
   ]
  },
  {
   "cell_type": "markdown",
   "id": "7c78ba85-e1bf-4048-aa5c-d7a31bd88bae",
   "metadata": {},
   "source": [
    "# Fit linear model 2 - 6 days - Normalized Area\n",
    "\n",
    "We will have as outputs:\n",
    "* `a`, that is the slope of the linear model. Here will correspond to the __discrete derivative (approximating the velocity)__ between day 2 and 6\n",
    "* if we input 5 as `x`, we can get the __area__ at day 5"
   ]
  },
  {
   "cell_type": "code",
   "execution_count": null,
   "id": "9221b4c3-0053-4cd1-bd1f-3b996121498b",
   "metadata": {},
   "outputs": [],
   "source": [
    "slopes = {}\n",
    "day_5_value = {}\n",
    "\n",
    "day_2_6 = df[df.Day.isin([2, 4, 6])]\n",
    "\n",
    "for l in day_2_6.Line.unique():\n",
    "    #print(l)\n",
    "    sub = day_2_6[day_2_6.Line == l]\n",
    "    #print(sub)\n",
    "    slopes[l] = {}\n",
    "    slopes[l]['slope'], slopes[l]['intercept'] = stats.linregress(sub['Day'], sub['AreaNorm'])[0], stats.linregress(sub['Day'], sub['AreaNorm'])[1]\n",
    "    day_5_value[l] = slopes[l]['slope']*5 + slopes[l]['intercept']"
   ]
  },
  {
   "cell_type": "markdown",
   "id": "cd82eb51-d507-4e46-ba94-72bf654f86e9",
   "metadata": {},
   "source": [
    "Order by __area__ at day 5:"
   ]
  },
  {
   "cell_type": "code",
   "execution_count": null,
   "id": "2543bdce-b0e9-479d-93bf-58585fb16397",
   "metadata": {
    "tags": []
   },
   "outputs": [],
   "source": [
    "day_5_value_df = pd.DataFrame(day_5_value.values(), day_5_value.keys())\n",
    "day_5_value_df.columns = ['area_day_5']\n",
    "day_5_value_df.sort_values(by = 'area_day_5').drop([i for i in day_5_value_df.index if i.startswith('MIX')])"
   ]
  },
  {
   "cell_type": "markdown",
   "id": "446d5f15-9df7-4889-b9be-ea585f772cee",
   "metadata": {},
   "source": [
    "Order by __slope__ (discrete __velocity__):"
   ]
  },
  {
   "cell_type": "code",
   "execution_count": null,
   "id": "7e3c5abf-1d15-4ff8-ad66-7882f26ad391",
   "metadata": {},
   "outputs": [],
   "source": [
    "slopes_26_df = pd.DataFrame.from_dict(slopes).T\n",
    "slopes_26_df.sort_values(by = 'slope').drop([i for i in day_5_value_df.index if i.startswith('MIX')])"
   ]
  },
  {
   "cell_type": "code",
   "execution_count": null,
   "id": "aea3a61b-a886-41f5-88ce-cba3b5dd7534",
   "metadata": {},
   "outputs": [],
   "source": [
    "slopes_26_df.sort_values(by = 'slope').drop([i for i in day_5_value_df.index if i.startswith('MIX')]).to_csv('../../data/csv/CBO_day26_fit.csv')"
   ]
  },
  {
   "cell_type": "code",
   "execution_count": null,
   "id": "c8c64bf5-087f-4916-85c7-b516932011f0",
   "metadata": {},
   "outputs": [],
   "source": [
    "pd.options.display.float_format = '{:.8f}'.format\n",
    "np.round(slopes_26_df.sort_values(by = 'slope').drop([i for i in day_5_value_df.index if i.startswith('MIX')]), 8)"
   ]
  },
  {
   "cell_type": "markdown",
   "id": "7dc3a3ac-8305-4d72-9120-503f63987cd8",
   "metadata": {},
   "source": [
    "# Fit linear model 0 - 2 days - Normalized Area\n",
    "\n",
    "We will have as outputs:\n",
    "* `a`, that is the slope of the linear model. Here will correspond to the __discrete derivative (approximating the velocity)__ between day 0 and 2"
   ]
  },
  {
   "cell_type": "code",
   "execution_count": null,
   "id": "8edf961c-1340-463a-bfb0-abdc8a91a28b",
   "metadata": {},
   "outputs": [],
   "source": [
    "slopes_02 = {}\n",
    "#day__value = {}\n",
    "\n",
    "day_02 = df[df.Day.isin([0, 2])]\n",
    "\n",
    "for l in day_02.Line.unique():\n",
    "    #print(l)\n",
    "    sub = day_02[day_02.Line == l]\n",
    "    #print(sub)\n",
    "    slopes_02[l] = {}\n",
    "    slopes_02[l]['slope'], slopes_02[l]['intercept'] = stats.linregress(sub['Day'], sub['AreaNorm'])[0], stats.linregress(sub['Day'], sub['AreaNorm'])[1]"
   ]
  },
  {
   "cell_type": "code",
   "execution_count": null,
   "id": "08aa0d68-9ca1-450e-88e0-78bebd2c261c",
   "metadata": {},
   "outputs": [],
   "source": [
    "slopes_02_df = pd.DataFrame.from_dict(slopes_02).T\n",
    "slopes_02_df.sort_values(by = 'slope').drop([i for i in day_5_value_df.index if i.startswith('MIX')])"
   ]
  },
  {
   "cell_type": "code",
   "execution_count": null,
   "id": "2a1ef729-88b6-45b3-b283-566b78253868",
   "metadata": {},
   "outputs": [],
   "source": [
    "slopes_02_df.sort_values(by = 'slope').drop([i for i in day_5_value_df.index if i.startswith('MIX')]).to_csv('../../data/csv/CBO_day02_fit.csv')"
   ]
  },
  {
   "cell_type": "markdown",
   "id": "b126d2f9-1c4e-4702-8359-f1e77f905dfa",
   "metadata": {},
   "source": [
    "### Differences in slope\n",
    "We can compute the difference in the slopes, to model whether differences in the __rate of growth__ between day 0 and and between day 2 and 6 is informative of a specific capacity of growth. \n"
   ]
  },
  {
   "cell_type": "code",
   "execution_count": null,
   "id": "07dc6200-1822-42d1-b411-202b5f5ed1e6",
   "metadata": {},
   "outputs": [],
   "source": [
    "differenceSlopes = pd.concat([slopes_26_df['slope'], slopes_02_df['slope']], axis = 1)\n",
    "differenceSlopes.columns = ['slope2-6', 'slope0-2']"
   ]
  },
  {
   "cell_type": "code",
   "execution_count": null,
   "id": "ca575376-2bdf-4575-bbcd-33b4f75e7a3c",
   "metadata": {},
   "outputs": [],
   "source": [
    "results = differenceSlopes['slope2-6'] - differenceSlopes['slope0-2']\n",
    "results.sort_values()"
   ]
  },
  {
   "cell_type": "code",
   "execution_count": null,
   "id": "41528bbe-e72a-4b0f-9701-514683c137d8",
   "metadata": {},
   "outputs": [],
   "source": [
    "results = differenceSlopes['slope2-6'] + differenceSlopes['slope0-2']\n",
    "results.sort_values()"
   ]
  }
 ],
 "metadata": {
  "kernelspec": {
   "display_name": "Python 3 (ipykernel)",
   "language": "python",
   "name": "python3"
  },
  "language_info": {
   "codemirror_mode": {
    "name": "ipython",
    "version": 3
   },
   "file_extension": ".py",
   "mimetype": "text/x-python",
   "name": "python",
   "nbconvert_exporter": "python",
   "pygments_lexer": "ipython3",
   "version": "3.10.12"
  }
 },
 "nbformat": 4,
 "nbformat_minor": 5
}
