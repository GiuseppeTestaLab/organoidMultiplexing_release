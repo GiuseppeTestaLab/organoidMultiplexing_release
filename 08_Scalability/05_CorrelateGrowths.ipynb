{
 "cells": [
  {
   "cell_type": "code",
   "execution_count": null,
   "id": "73c64c90-7427-40a8-91bd-887beb7909d5",
   "metadata": {},
   "outputs": [],
   "source": [
    "import pandas as pd\n",
    "from scipy import stats\n",
    "import numpy as np\n",
    "import seaborn as sns\n",
    "import matplotlib.pyplot as plt\n"
   ]
  },
  {
   "cell_type": "code",
   "execution_count": null,
   "id": "6d4b2df9-baa9-4dac-a376-6ea69ab024e3",
   "metadata": {},
   "outputs": [],
   "source": [
    "color_palette = {\n",
    " 'CTL01A': '#DBB807',\n",
    "    'CTL08A': '#0FB248',\n",
    "    'CTL04E': '#FF0054',\n",
    "    'CTL02A': '#7B00FF',\n",
    "'H9': '#72190E',\n",
    " 'H1': '#994F88',\n",
    " 'CTL05A': '#1965B0',\n",
    " 'CTL07C': '#437DBF',\n",
    " 'CTL06F': '#CAE0AB',\n",
    " 'CTL09A': '#FFFF00',\n",
    " 'KTD8.2': '#E65518',\n",
    " 'UCSFi001-A': '#7BAFDE'}"
   ]
  },
  {
   "cell_type": "code",
   "execution_count": null,
   "id": "edae01eb-d8ed-4e57-8cea-7726cec4291a",
   "metadata": {},
   "outputs": [],
   "source": [
    "CBO_d02 = pd.read_csv('./data/csv/CBO_day02_fit.csv', index_col=0)\n",
    "CBO_d26 = pd.read_csv('./data/csv/CBO_day26_fit.csv', index_col=0)\n",
    "iPSC_cum_growth = pd.read_csv('./data/csv/iPSC_fitted_exp_area_sum_per_split.csv', index_col=0)\n",
    "census_d5 = pd.read_csv('./data/csv/CensusSeq_combined_weighted_rank_d5.csv', index_col=0)\n",
    "census_d12 = pd.read_csv('./data/csv/CensusSeq_combined_weighted_rank_d12.csv', index_col=0)\n",
    "census_d25 = pd.read_csv('./data/csv/CensusSeq_combined_weighted_rank_d25.csv', index_col=0)\n",
    "census_d50 = pd.read_csv('./data/csv/CensusSeq_combined_weighted_rank_d50.csv', index_col=0)"
   ]
  },
  {
   "cell_type": "code",
   "execution_count": null,
   "id": "e388705e-69d3-43c7-ac6b-d249e2523353",
   "metadata": {},
   "outputs": [],
   "source": [
    "iPSC_cum_growth_mean = iPSC_cum_growth.groupby('Line')['rate'].mean().sort_index().rank()\n",
    "iPSC_cum_growth_mean"
   ]
  },
  {
   "cell_type": "code",
   "execution_count": null,
   "id": "0400c999-589c-40f9-a2ca-eee0311281f1",
   "metadata": {},
   "outputs": [],
   "source": [
    "census_d5['combined_scores'].rank()"
   ]
  },
  {
   "cell_type": "code",
   "execution_count": null,
   "id": "a7b982c3-507c-4183-ad20-5d47e24f5ddb",
   "metadata": {},
   "outputs": [],
   "source": [
    "ranks_df = pd.DataFrame({\n",
    "    'Line': iPSC_cum_growth_mean.index,\n",
    "    'iPSC_growth_rate': iPSC_cum_growth_mean.values,\n",
    "    'CBO_velocity_0_2': CBO_d02['slope'].sort_index().rank().values,\n",
    "    'CBO_velocity_2_6': CBO_d26['slope'].sort_index().rank().values,\n",
    "    'CensusRank_d5': census_d5['combined_scores'].sort_index().rank().values,\n",
    "    'CensusRank_d12': census_d12['combined_scores'].sort_index().rank().values,\n",
    "    'CensusRank_d25': census_d25['combined_scores'].sort_index().rank().values,\n",
    "    'CensusRank_d50': census_d50['combined_scores'].sort_index().rank().values,})\n",
    "\n",
    "values_df = pd.DataFrame({\n",
    "    'Line': iPSC_cum_growth_mean.index,\n",
    "    'iPSC_growth_rate': iPSC_cum_growth.groupby('Line')['rate'].mean().sort_index().values,\n",
    "    'CBO_velocity_0_2': CBO_d02['slope'].sort_index().values,\n",
    "    'CBO_velocity_2_6': CBO_d26['slope'].sort_index().values,\n",
    "    'CensusRank_d5': census_d5['combined_scores'].sort_index().values,\n",
    "    'CensusRank_d12': census_d12['combined_scores'].sort_index().values,\n",
    "    'CensusRank_d25': census_d25['combined_scores'].sort_index().values,\n",
    "    'CensusRank_d50': census_d50['combined_scores'].sort_index().values,})"
   ]
  },
  {
   "cell_type": "code",
   "execution_count": null,
   "id": "04c92286-5cdd-419e-a944-cbcb2b0f7b54",
   "metadata": {},
   "outputs": [],
   "source": [
    "ranks_df.set_index('Line', inplace=True)"
   ]
  },
  {
   "cell_type": "code",
   "execution_count": null,
   "id": "54167a43-0429-4686-aa07-9199f367dfdd",
   "metadata": {},
   "outputs": [],
   "source": [
    "ranks_df_plot = pd.melt(ranks_df, ignore_index=False)\n",
    "ranks_df_plot"
   ]
  },
  {
   "cell_type": "code",
   "execution_count": null,
   "id": "bd415dd8-8588-4869-91a8-2c7db7be9564",
   "metadata": {},
   "outputs": [],
   "source": [
    "fig, ax = plt.subplots(figsize = (20, 5))\n",
    "sns.lineplot(data = ranks_df_plot, x = 'variable', y = 'value', hue = 'Line', palette=color_palette)\n",
    "ax.set_xlabel('Measurement', fontdict={'size': 20})\n",
    "ax.set_ylabel('Rank', fontdict={'size': 20})\n",
    "_ = ax.legend(bbox_to_anchor = (1,1))"
   ]
  },
  {
   "cell_type": "code",
   "execution_count": null,
   "id": "ba4e36d3-f1b4-466b-9ea0-b68d9844235b",
   "metadata": {},
   "outputs": [],
   "source": [
    "fig, ax = plt.subplots(figsize = (20, 5))\n",
    "sns.lineplot(data = ranks_df_plot[~ranks_df_plot.variable.isin(['CBO_velocity_2_6'])], x = 'variable', y = 'value', hue = 'Line', palette=color_palette)\n",
    "_ = ax.legend(bbox_to_anchor = (1,1))"
   ]
  },
  {
   "cell_type": "code",
   "execution_count": null,
   "id": "48cd37cc-9c4b-49a7-a18f-847b45aa3628",
   "metadata": {},
   "outputs": [],
   "source": [
    "fig, ax = plt.subplots(figsize = (20, 5))\n",
    "sns.lineplot(data = ranks_df_plot[~ranks_df_plot.variable.isin(['CBO_velocity_0_2', 'CBO_velocity_2_6'])], x = 'variable', y = 'value', hue = 'Line', palette=color_palette)\n",
    "_ = ax.legend(bbox_to_anchor = (1,1))"
   ]
  },
  {
   "cell_type": "code",
   "execution_count": null,
   "id": "3afde5d7-5d52-41ce-888e-77cd1dae30d1",
   "metadata": {},
   "outputs": [],
   "source": [
    "ranks_df_plot.variable.unique()"
   ]
  },
  {
   "cell_type": "code",
   "execution_count": null,
   "id": "6d7722e4-cb3f-4f4e-bdbe-4b6a6332798a",
   "metadata": {},
   "outputs": [],
   "source": [
    "\n",
    "keep = ['iPSC_growth_rate', 'CBO_velocity_0_2', \n",
    "       'CensusRank_d5']\n",
    "\n",
    "fig, ax = plt.subplots(figsize = (20, 5))\n",
    "sns.lineplot(data = ranks_df_plot[ranks_df_plot.variable.isin(keep)], x = 'variable', y = 'value', hue = 'Line', palette=color_palette)\n",
    "_ = ax.legend(bbox_to_anchor = (1,1))"
   ]
  },
  {
   "cell_type": "code",
   "execution_count": null,
   "id": "6f8d0792-b98a-4b0e-b735-42066e8b5e91",
   "metadata": {},
   "outputs": [],
   "source": [
    "values_df.columns = ['Line', 'hPSC growth rate', 'CBO growth rate - Day 0-2', 'CBO growth rate - Day 2-6',\n",
    "                     'Census-Seq rank - Day 5', 'Census-Seq rank - Day 12', 'Census-Seq rank - Day 25', 'Census-Seq rank - Day 50']"
   ]
  },
  {
   "cell_type": "code",
   "execution_count": null,
   "id": "9c501c60-50db-495c-a9d7-26b9811be1c5",
   "metadata": {},
   "outputs": [],
   "source": [
    "p_value < 0.0001"
   ]
  },
  {
   "cell_type": "code",
   "execution_count": null,
   "id": "5706ed0d-7942-4739-a870-3a56149cc7c3",
   "metadata": {},
   "outputs": [],
   "source": [
    "p_value = pd.DataFrame(stats.spearmanr(values_df.drop('Line', axis  =1))[1], index = names, columns=names) \n",
    "p_value_copy = p_value.copy()\n",
    "p_value_copy[p_value <= 0.05] = '*'\n",
    "p_value_copy[p_value < 0.001] = '**'\n",
    "p_value_copy[p_value < 0.0001] = '***'\n",
    "\n",
    "p_value_copy[p_value > 0.05] = 'NS'"
   ]
  },
  {
   "cell_type": "code",
   "execution_count": null,
   "id": "9d1e93f8-6442-4cf2-ad33-e3b6d49840cc",
   "metadata": {},
   "outputs": [],
   "source": [
    "cmap = sns.diverging_palette(230, 20, as_cmap=True)\n",
    "mask = np.triu(np.ones_like(values_df.corr(), dtype=bool))\n",
    "\n",
    "spearman = values_df.corr(method = 'spearman')\n",
    "\n",
    "\n",
    "fig, ax = plt.subplots(figsize = (10, 10))\n",
    "_ = sns.heatmap(spearman, cmap = cmap, mask = mask, square = True, \n",
    "                cbar_kws={'label': \"Spearman's correlation coefficient\", \"shrink\": 0.7}, annot = p_value_copy, fmt = '')\n",
    "ax.figure.axes[-1].yaxis.label.set_size(15)\n",
    "_ = ax.set_xticklabels(ax.get_xticklabels(), size = 15)\n",
    "_ = ax.set_yticklabels(ax.get_yticklabels(), size = 15)\n",
    "_ = ax.set_title(\"Correlation between growth parameters and Census-Seq ranking\", fontdict={'size': 20})\n",
    "plt.savefig('corr_matrix.svg', dpi = 300, bbox_inches = 'tight')"
   ]
  },
  {
   "cell_type": "code",
   "execution_count": null,
   "id": "609de409-c26b-4b77-9b66-c464a370b3eb",
   "metadata": {},
   "outputs": [],
   "source": [
    "fig, ax = plt.subplots(figsize = (10, 10))\n",
    "\n",
    "names = ['hPSC growth rate', 'CBO growth rate - Day 0-2', 'CBO growth rate - Day 2-6',\n",
    "                     'Census-Seq rank - Day 5', 'Census-Seq rank - Day 12', 'Census-Seq rank - Day 25', 'Census-Seq rank - Day 50']\n",
    "\n",
    "p_value = pd.DataFrame(stats.spearmanr(values_df.drop('Line', axis  =1))[1], index = names, columns=names) \n",
    "\n",
    "mask = np.triu(np.ones_like(p_value, dtype=bool))\n",
    "sns.heatmap(p_value, annot = True, mask = mask, square=True)"
   ]
  }
 ],
 "metadata": {
  "kernelspec": {
   "display_name": "Python 3",
   "language": "python",
   "name": "python3"
  },
  "language_info": {
   "codemirror_mode": {
    "name": "ipython",
    "version": 3
   },
   "file_extension": ".py",
   "mimetype": "text/x-python",
   "name": "python",
   "nbconvert_exporter": "python",
   "pygments_lexer": "ipython3",
   "version": "3.8.5"
  }
 },
 "nbformat": 4,
 "nbformat_minor": 5
}
