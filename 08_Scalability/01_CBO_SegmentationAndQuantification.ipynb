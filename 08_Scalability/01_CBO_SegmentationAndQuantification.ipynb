{
 "cells": [
  {
   "cell_type": "raw",
   "id": "0ecf96e8",
   "metadata": {},
   "source": [
    "---\n",
    "title: \"Segmentation and Quantification of Cortical Brain Organoids\"\n",
    "format: \n",
    "    html:\n",
    "        theme: \n",
    "            - default\n",
    "        page-layout: full\n",
    "        code-fold: true\n",
    "        code-tools: true\n",
    "        toc: true\n",
    "        number-sections: true\n",
    "        embed-resources: true\n",
    "jupyter: python3\n",
    "---"
   ]
  },
  {
   "cell_type": "markdown",
   "id": "8f36ab10-2c16-4cfb-8181-b272ba54025e",
   "metadata": {},
   "source": [
    "# Image analysis of brightfields images \n",
    "\n",
    "Useful morphological features:\n",
    "* **area**\n",
    "* **perimeter**\n",
    "* **convex area**: area of the convex hull that encloses the object.\n",
    "* **convex perimeter** \n",
    "* **major axis length**: a measure of object length\n",
    "* **minor axis length**: measure of object width\n",
    "* **compactness**: defined as the ratio of the area of an object to the area of a circle with the same perimeter. Objects which have an elliptical shape, or a boundary that is irregular rather than smooth, will decrease the measure. Alternatively, can be computed as (perimeter)\\*\\*2/4\\*pi\\*area (to implement)\n",
    "* **eccentricity**: the ratio of minor axis length/major axis length. When eccentricity == 0 -> circle\n",
    "* **circularity**: computed as 4\\*pi\\*area/(convex perimeter)\\*\\*2. It's a measure of roundess or circularity where if == 1 -> circular object, but it's insensitive to irregular boundaries.\n",
    "* **solidity**: area / convex area. A value of 1 signifies a solid object, and a value less than 1 will signify an object having an irregular boundary, or containing holes.\n",
    "\n",
    "\n",
    "# Environment set up"
   ]
  },
  {
   "cell_type": "code",
   "execution_count": null,
   "id": "d3e9b958-0a9b-44e3-8983-785e40db48d4",
   "metadata": {},
   "outputs": [],
   "source": [
    "import matplotlib.pyplot as plt\n",
    "import numpy as np\n",
    "import pandas as pd\n",
    "import seaborn as sns\n",
    "import json\n",
    "import warnings\n",
    "from scipy import stats\n",
    "import tifffile as tif\n",
    "\n",
    "from skimage.measure import label, regionprops_table, regionprops\n",
    "from skimage import img_as_float, util\n",
    "from skimage.filters import threshold_otsu\n",
    "from skimage.morphology import remove_small_holes, closing\n",
    "from skimage.segmentation import clear_border\n",
    "\n",
    "warnings.filterwarnings('ignore') \n",
    "\n",
    "\n",
    "\n",
    "import os"
   ]
  },
  {
   "cell_type": "code",
   "execution_count": null,
   "id": "89a90c82-5895-4b58-ae3e-b89c3288f06e",
   "metadata": {},
   "outputs": [],
   "source": [
    "def extra_prop(mask):\n",
    "    \n",
    "    from numpy import pi\n",
    "    from skimage.measure import regionprops\n",
    "    \n",
    "    circ = lambda r: (4 * pi * r.area) / (r.perimeter * r.perimeter)\n",
    "    \n",
    "    regions = regionprops(mask.astype(np.uint8))\n",
    "    \n",
    "    compactness = [(i.perimeter**2)/(4 * pi * i.area) for i in regions if i.label != '0']\n",
    "    convex_perimeter = [pi * i.equivalent_diameter_area for i in regions if i.label != '0']\n",
    "    circularity = [circ(i) for i in regions if i.label != '0']\n",
    "    solidity = [i.area/i.area_convex for i in regions if i.label != '0']\n",
    "    \n",
    "    return dict({'compactness': compactness, 'convex_perimeter': convex_perimeter, 'circularity': circularity, 'solidity': solidity})"
   ]
  },
  {
   "cell_type": "code",
   "execution_count": null,
   "id": "b3bf4f72-a6e4-499f-b7b3-dd4308d55b7c",
   "metadata": {},
   "outputs": [],
   "source": [
    "def segment_organoid(image, thr_mod = None, multiple_organoids = False):\n",
    "\n",
    "    import numpy as np\n",
    "    from skimage import img_as_float\n",
    "    from skimage.filters import threshold_otsu\n",
    "    from skimage.morphology import remove_small_holes, closing, square\n",
    "    from skimage.segmentation import clear_border\n",
    "    from skimage.measure import label\n",
    "    \n",
    "    if thr_mod == None:\n",
    "        thr_mod = 0\n",
    "    \n",
    "    ch_0_float = img_as_float(image)\n",
    "\n",
    "    try:\n",
    "        threshold = threshold_otsu(ch_0_float) + thr_mod\n",
    "\n",
    "        print(f\"Threshold: {threshold}\")\n",
    "        bw = closing(ch_0_float < threshold, square(3))\n",
    "        labels = label(clear_border(bw))\n",
    "\n",
    "        labels_areas = np.unique(labels, return_counts=True)[1]\n",
    "        max_area_label = np.max(labels_areas[1:])\n",
    "\n",
    "        if multiple_organoids:\n",
    "\n",
    "            labels_polished = label(remove_small_holes(labels, 2000))\n",
    "\n",
    "            # remove labels smaller than 10000 (off target pixels)\n",
    "            labels_areas = np.unique(labels, return_counts=True)[1]\n",
    "            area_label_remove = labels_areas < 10000\n",
    "            labels_remove = np.unique(labels_polished, return_counts=True)[0][area_label_remove]\n",
    "\n",
    "            mask = np.in1d( labels_polished, labels_remove ).reshape( labels.shape )\n",
    "            labels_polished[mask] = 0\n",
    "\n",
    "        else:\n",
    "\n",
    "            n_labels = np.unique(labels, return_counts=True)[0]\n",
    "            max_label = np.unique(labels, return_counts=True)[0][ labels_areas == max_area_label ][0]\n",
    "\n",
    "            labels_polished = np.where(labels != max_label, 0, max_label)\n",
    "            labels_polished = remove_small_holes(labels_polished, 2000)\n",
    "\n",
    "        return labels_polished\n",
    "\n",
    "    except:\n",
    "        \n",
    "        print(\"There was an error in the segmentation, it will continue with the next image\")"
   ]
  },
  {
   "cell_type": "code",
   "execution_count": null,
   "id": "7bb2b08c-2129-435a-befd-afa8a7049dd5",
   "metadata": {},
   "outputs": [],
   "source": [
    "def check_mask(image, mask, pixel_size = None, title = None):\n",
    "\n",
    "    import matplotlib.pyplot as plt\n",
    "    import copy\n",
    "    from matplotlib_scalebar.scalebar import ScaleBar\n",
    "\n",
    "    fig, ax = plt.subplots(1, 2, figsize = (20, 10))\n",
    "    \n",
    "    ax[0].imshow(image, cmap = 'Greys_r')\n",
    "\n",
    "    if title != None:\n",
    "        ax[0].set_title(title)\n",
    "        \n",
    "    ax[1].imshow(mask)\n",
    "\n",
    "    if pixel_size != None:\n",
    "        scalebar_0 = ScaleBar(pixel_size, units='um', color = 'black', box_alpha=0)\n",
    "        scalebar_1 = ScaleBar(pixel_size, units='um', color = 'white', box_alpha=0)\n",
    "    \n",
    "        ax[0].add_artist(scalebar_0)\n",
    "        ax[1].add_artist(scalebar_1)\n",
    "    \n",
    "    return plt.show()\n",
    "\n",
    "def check_mask_countour(image, mask, pixel_size = None, title = None):\n",
    "\n",
    "    import matplotlib.pyplot as plt\n",
    "    import copy\n",
    "    from matplotlib_scalebar.scalebar import ScaleBar\n",
    "\n",
    "    fig, ax = plt.subplots(1, 1, figsize = (10, 10))\n",
    "    \n",
    "    ax.imshow(image, cmap = 'Greys_r')\n",
    "\n",
    "    if title != None:\n",
    "        ax.set_title(title)\n",
    "    \n",
    "    ax.contour(mask, alpha = 0.5, colors='red')\n",
    "    \n",
    "    if pixel_size != None:\n",
    "        scalebar_0 = ScaleBar(pixel_size, units='um', color = 'white', box_alpha=0)\n",
    "        ax.add_artist(scalebar_0)\n",
    "    \n",
    "    return plt.show()"
   ]
  },
  {
   "cell_type": "code",
   "execution_count": null,
   "id": "d9d71e74-675a-420e-aa9b-6881c2ee0e20",
   "metadata": {},
   "outputs": [],
   "source": [
    "def get_image_data_tif(path):\n",
    "\n",
    "    import tifffile as tif\n",
    "\n",
    "    imgs_and_tags = tif.TiffFile(path)\n",
    "    ch_0 = imgs_and_tags.pages[0].asarray()\n",
    "\n",
    "    return ch_0\n",
    "\n",
    "def get_image_data_czi(path, return_pixel_size = True):\n",
    "\n",
    "    from aicsimageio import AICSImage\n",
    "    from numpy import squeeze\n",
    "    \n",
    "    imgs = AICSImage(path)\n",
    "    \n",
    "    if return_pixel_size:\n",
    "        pixel_size = imgs.physical_pixel_sizes.X\n",
    "        \n",
    "        return squeeze(imgs.get_image_data()), pixel_size\n",
    "    \n",
    "    else:\n",
    "        return squeeze(imgs.get_image_data())\n",
    "\n",
    "def get_mask_dict_from_folder(folder, thr_mod, threshdold_mod_dict = None, plot = True, multiple_organoids = False, only_dict_keys = False):\n",
    "\n",
    "    img_dict_d0 = {}\n",
    "    \n",
    "    for i, img in enumerate(os.listdir(folder)):\n",
    "        \n",
    "        if img.endswith(\".czi\"):# and img in threshdold_mod_dict:\n",
    "            \n",
    "            img_dict_d0[img] = {}\n",
    "\n",
    "            if threshdold_mod_dict != None:\n",
    "                if img not in threshdold_mod_dict.keys():\n",
    "                    img_dict_d0[img]['thresh_mod'] = thr_mod\n",
    "                else:\n",
    "                    img_dict_d0[img]['thresh_mod'] = threshdold_mod_dict[img]\n",
    "\n",
    "            else:\n",
    "                img_dict_d0[img]['thresh_mod'] = thr_mod\n",
    "                \n",
    "            print(\"File name: \", img)\n",
    "            print(\"Threshold modifier: \", img_dict_d0[img]['thresh_mod'])\n",
    "\n",
    "            img_dict_d0[img][\"raw_image\"], img_dict_d0[img][\"pixel_size\"]  = get_image_data_czi(f'{folder}/{img}', return_pixel_size = True)\n",
    "            img_dict_d0[img][\"mask\"] = segment_organoid(img_dict_d0[img][\"raw_image\"], img_dict_d0[img]['thresh_mod'], multiple_organoids = multiple_organoids)\n",
    "\n",
    "            if plot:\n",
    "                try:\n",
    "                    check_mask_countour(img_dict_d0[img][\"raw_image\"], img_dict_d0[img][\"mask\"], pixel_size =  img_dict_d0[img][\"pixel_size\"], title = img)\n",
    "                except:\n",
    "                    print(\"There was a problem in plotting\")\n",
    "            \n",
    "    return img_dict_d0"
   ]
  },
  {
   "cell_type": "code",
   "execution_count": null,
   "id": "9726b7b9-b003-4a11-a250-c14fd5bb730d",
   "metadata": {},
   "outputs": [],
   "source": [
    "def get_image_data_czi(path, return_pixel_size = True):\n",
    "\n",
    "    from aicsimageio import AICSImage\n",
    "    from numpy import squeeze\n",
    "    \n",
    "    imgs = AICSImage(path)\n",
    "    \n",
    "    if return_pixel_size:\n",
    "        pixel_size = imgs.physical_pixel_sizes.X\n",
    "        \n",
    "        return squeeze(imgs.get_image_data()), pixel_size\n",
    "    \n",
    "    else:\n",
    "        return squeeze(imgs.get_image_data())"
   ]
  },
  {
   "cell_type": "markdown",
   "id": "fbbc2ec1-4e96-4929-8928-f8dea0536d78",
   "metadata": {},
   "source": [
    "# HT day 0"
   ]
  },
  {
   "cell_type": "code",
   "execution_count": null,
   "id": "de346c15-a2ed-4c5f-9a09-79ba3aa6d347",
   "metadata": {},
   "outputs": [],
   "source": [
    "folder = \"../../data/25_11_Day0/\""
   ]
  },
  {
   "cell_type": "code",
   "execution_count": null,
   "id": "8177bc5d-f176-4ec4-96d8-926e6a80520e",
   "metadata": {},
   "outputs": [],
   "source": [
    "px_size = []\n",
    "\n",
    "for img in os.listdir(folder):\n",
    "    img, px_s = get_image_data_czi(folder + '/' + img)\n",
    "    px_size.append(px_s)"
   ]
  },
  {
   "cell_type": "code",
   "execution_count": null,
   "id": "5343c0d2-13a8-4eb0-9b52-c7ecac55c869",
   "metadata": {},
   "outputs": [],
   "source": [
    "np.unique(px_size)"
   ]
  },
  {
   "cell_type": "code",
   "execution_count": null,
   "id": "2cab86f0-ca14-4574-b461-eff69927b1c6",
   "metadata": {
    "tags": []
   },
   "outputs": [],
   "source": [
    "img_dict_d0 = {}\n",
    "\n",
    "threshdold_mod_dict = {\n",
    "    'MIX1_25_11_3.czi':0,\n",
    "    'CTL04E_25_11_3.czi': 0,\n",
    "    'MIX2_25_11_3.czi': 0,\n",
    "    'MIX8_25_11_5.czi': 0,\n",
    "    'MIX7_25_11_2.czi': 0,\n",
    "    'KTD8.2_25_11_5.czi':0.05,\n",
    "    'CTL04E_25_11_5.czi':0.05,\n",
    "    'KTD8.2_25_11_4.czi':0.05,\n",
    "    'MIX1_25_11_4.czi': 0.05,\n",
    "    'MIX1_25_11_2.czi':0.05,\n",
    "    'H1_25_11_5.czi':0.05,\n",
    "    'MIX2_25_11_4.czi':-0.02,\n",
    "    'MIX1_25_11_5.czi':0.05,\n",
    "\n",
    "}\n",
    "\n",
    "img_dict_d0[folder] = get_mask_dict_from_folder(folder, 0, threshdold_mod_dict)"
   ]
  },
  {
   "cell_type": "markdown",
   "id": "ef160098-db65-4f59-83f8-6e5c90287b3d",
   "metadata": {},
   "source": [
    "# Day 2"
   ]
  },
  {
   "cell_type": "code",
   "execution_count": null,
   "id": "c37a6914-a705-4cce-8198-d2c0a3a0dfe5",
   "metadata": {},
   "outputs": [],
   "source": [
    "folder = \"../../data/27_11_Day2/\""
   ]
  },
  {
   "cell_type": "code",
   "execution_count": null,
   "id": "9d23be83-2159-4b04-871b-9fd22f551c40",
   "metadata": {},
   "outputs": [],
   "source": [
    "px_size = []\n",
    "\n",
    "for img in os.listdir(folder):\n",
    "    img, px_s = get_image_data_czi(folder + '/' + img)\n",
    "    px_size.append(px_s)"
   ]
  },
  {
   "cell_type": "code",
   "execution_count": null,
   "id": "6122def1-0784-4aee-9214-d6a19c25057c",
   "metadata": {},
   "outputs": [],
   "source": [
    "np.unique(px_size)"
   ]
  },
  {
   "cell_type": "code",
   "execution_count": null,
   "id": "21fe70a0-24ee-4e9e-8b22-21cc76497c76",
   "metadata": {
    "tags": []
   },
   "outputs": [],
   "source": [
    "img_dict_d2 = {\n",
    "}\n",
    "\n",
    "threshdold_mod_dict = {     \"MIX6_27_11_3.czi\":-0.017,\n",
    "    \"KTD8.2_27_11_2.czi\":0.01,\n",
    "    \"CHD8WT_27_11_1.czi\":0.01,\n",
    "    \"MIX6_27_11_1.czi\":0.01,\n",
    "    \"H1_27_11_5.czi\":0.01\n",
    "                      }\n",
    "\n",
    "img_dict_d2[folder] = get_mask_dict_from_folder(folder, +0, threshdold_mod_dict)"
   ]
  },
  {
   "cell_type": "markdown",
   "id": "de9d6282-8cb6-46bd-ac0c-a9ee2ff77f70",
   "metadata": {
    "tags": []
   },
   "source": [
    "# Day 4"
   ]
  },
  {
   "cell_type": "code",
   "execution_count": null,
   "id": "701205f9-b3a9-4a8a-961c-c46d9ce0172f",
   "metadata": {},
   "outputs": [],
   "source": [
    "folder = \"../../data/29_11_Day4/\""
   ]
  },
  {
   "cell_type": "code",
   "execution_count": null,
   "id": "20a83fdf-936e-4ed7-81fc-14c854eaed4c",
   "metadata": {},
   "outputs": [],
   "source": [
    "px_size = []\n",
    "\n",
    "for img in os.listdir(folder):\n",
    "    img, px_s = get_image_data_czi(folder + '/' + img)\n",
    "    px_size.append(px_s)"
   ]
  },
  {
   "cell_type": "code",
   "execution_count": null,
   "id": "6b35aabf-99fc-413b-ae9a-1eb2e1c335df",
   "metadata": {},
   "outputs": [],
   "source": [
    "np.unique(px_size)"
   ]
  },
  {
   "cell_type": "code",
   "execution_count": null,
   "id": "a8697455-21f7-449c-995b-9684c13a44a7",
   "metadata": {
    "tags": []
   },
   "outputs": [],
   "source": [
    "threshdold_mod_dict = {\n",
    "    \"MIX3_29_11_2.czi\":0.02,\n",
    "    \"MIX7_29_11_5.czi\":0.01,\n",
    "    \"MIX7_29_11_1.czi\":0.04,\n",
    "    \"MIX2_29_11_2.czi\":0.01,\n",
    "    \"MIX2_29_11_5.czi\":0.01,\n",
    "    \"MIX3_29_11_1.czi\":0.03,\n",
    "    \"MIX2_29_11_4.czi\":0.02,\n",
    "    \"KTD8.2_29_11_1.czi\":-0.01,\n",
    "    \"MIX7_29_11_2.czi\":0.02,\n",
    "    \"MIX6_29_11_5.czi\":0.02,\n",
    "    \"MIX6_29_11_4.czi\":0.01,\n",
    "}\n",
    "\n",
    "img_dict_d4 = {}\n",
    "img_dict_d4[folder] = get_mask_dict_from_folder(folder, +0, threshdold_mod_dict)"
   ]
  },
  {
   "cell_type": "markdown",
   "id": "12f1833c-09d5-490b-ab61-094e1aa27b37",
   "metadata": {
    "tags": []
   },
   "source": [
    "# Day 6"
   ]
  },
  {
   "cell_type": "code",
   "execution_count": null,
   "id": "550fb4e8-136b-447d-b4fb-762e17bee2b2",
   "metadata": {},
   "outputs": [],
   "source": [
    "folder = \"../../data/01.12_Day6/\""
   ]
  },
  {
   "cell_type": "code",
   "execution_count": null,
   "id": "084a41b7-06e0-4f4e-8a00-6a62a7587fbf",
   "metadata": {},
   "outputs": [],
   "source": [
    "px_size = []\n",
    "\n",
    "for img in os.listdir(folder):\n",
    "    img, px_s = get_image_data_czi(folder + '/' + img)\n",
    "    px_size.append(px_s)"
   ]
  },
  {
   "cell_type": "code",
   "execution_count": null,
   "id": "7a6ddec6-fdce-4dd3-ad56-3ed6dc75d74b",
   "metadata": {},
   "outputs": [],
   "source": [
    "np.unique(px_size)"
   ]
  },
  {
   "cell_type": "code",
   "execution_count": null,
   "id": "99499dd6-5edb-42e5-935b-38e398d2a11f",
   "metadata": {
    "tags": []
   },
   "outputs": [],
   "source": [
    "threshdold_mod_dict = {\n",
    "    \"MIX2_01_12_3.czi\":0.03,\n",
    "    \"CTL09A_01_12_5.czi\":0.02,\n",
    "    \"MIX7_01_12_2.czi\":0.02,\n",
    "    \"MIX6_01_12_4.czi\":0.04,\n",
    "    \"MIX7_01_12_3.czi\":0.03,\n",
    "    \"MIX1_01_12_2.czi\":0.02,\n",
    "    \"MIX6_01_12_5.czi\":0.02,\n",
    "    \"MIX6_01_12_2.czi\":0.02,\n",
    "    \"MIX3_01_12_3.czi\":0.05,\n",
    "    \"MIX3_01_12_1.czi\":0.05,\n",
    "    \"MIX2_01_12_5.czi\":0.02,\n",
    "    \"H1_01_12_5.czi\":0.02,\n",
    "    \"CHD2WT_01_12_2.czi\":0.02,\n",
    "    \"CTL05A_01_12_2.czi\":0.03,\n",
    "    \"CTL01A_01_12_3.czi\":0.03,\n",
    "    \"H1_01_12_1.czi\":0.03,\n",
    "    \"CTL05A_01_12_3.czi\":0.03,\n",
    "    \"MIX7_01_12_4.czi\":0.03,\n",
    "    \"MIX3_01_12_2.czi\":0.04,\n",
    "    \"MIX3_01_12_4.czi\":0.04,\n",
    "    \"MIX2_01_12_1.czi\":0.03,\n",
    "    \"MIX2_01_12_2.czi\":0.03,\n",
    "    \"MIX6_01_12_3.czi\":0.025,\n",
    "    \"MIX3_01_12_5.czi\":0.04,\n",
    "    \"MIX2_01_12_4.czi\":0.02,\n",
    "    \"MIX7_01_12_5.czi\":0.02,\n",
    "}"
   ]
  },
  {
   "cell_type": "code",
   "execution_count": null,
   "id": "6301b6c1-070d-4e1a-bc79-9a9bdc33c721",
   "metadata": {
    "tags": []
   },
   "outputs": [],
   "source": [
    "img_dict_d6 = {}\n",
    "img_dict_d6[folder] = get_mask_dict_from_folder(folder, +0.01, threshdold_mod_dict)"
   ]
  },
  {
   "cell_type": "markdown",
   "id": "d69c950f-38ba-43f0-bd0d-ca1c532916b7",
   "metadata": {
    "tags": []
   },
   "source": [
    "# Day 8"
   ]
  },
  {
   "cell_type": "code",
   "execution_count": null,
   "id": "daa41529-55d8-48be-b92e-57009bce0cae",
   "metadata": {},
   "outputs": [],
   "source": [
    "folder = \"../../data/03.12_Day8/\""
   ]
  },
  {
   "cell_type": "code",
   "execution_count": null,
   "id": "4529d511-7d61-4be5-bf10-c7b686893820",
   "metadata": {},
   "outputs": [],
   "source": [
    "px_size = []\n",
    "\n",
    "for img in os.listdir(folder):\n",
    "    img, px_s = get_image_data_czi(folder + '/' + img)\n",
    "    px_size.append(px_s)"
   ]
  },
  {
   "cell_type": "code",
   "execution_count": null,
   "id": "0025e1a4-4d50-4f3e-883a-2cfa99be8758",
   "metadata": {},
   "outputs": [],
   "source": [
    "np.unique(px_size)"
   ]
  },
  {
   "cell_type": "code",
   "execution_count": null,
   "id": "2b62995d-7b06-4fa0-b96d-781c825ea0a7",
   "metadata": {
    "tags": []
   },
   "outputs": [],
   "source": [
    "threshdold_mod_dict = {\n",
    "    \"CTL04E_03-12_5.czi\":0,\n",
    "    \"MIX2_03-12_5.czi\":0.03,\n",
    "    \"MIX2_03-12_2.czi\":0.02,\n",
    "    \"H1_03-12_5.czi\":0,\n",
    "    \"MIX2_03-12_3.czi\":0.02,\n",
    "    \"MIX6_03-12_2.czi\":0.07,\n",
    "    \"MIX3_03-12_1.czi\":0.08,\n",
    "    \"MIX2_03-12_4.czi\":-0.02,\n",
    "    \"H1_03-12_4.czi\":-0.015,\n",
    "    \"MIX7_03-12_5.czi\":0,\n",
    "    \"CTL09A_03-12_3.czi\":0.04,\n",
    "    \"MIX2_03-12_1.czi\":0.05,\n",
    "    \"MIX6_03-12_3.czi\":0.015,\n",
    "    \"CTL09A_03-12_1.czi\":0,\n",
    "\n",
    "}"
   ]
  },
  {
   "cell_type": "code",
   "execution_count": null,
   "id": "0a1ab5c3-8d47-44d8-8721-a748bdce6991",
   "metadata": {
    "tags": []
   },
   "outputs": [],
   "source": [
    "img_dict_d8 = {}\n",
    "img_dict_d8[folder] = get_mask_dict_from_folder(folder, +0.05, threshdold_mod_dict)"
   ]
  },
  {
   "cell_type": "markdown",
   "id": "cee9b009-d5a8-4a84-bfde-318c3a863ae1",
   "metadata": {
    "tags": []
   },
   "source": [
    "# Day 10"
   ]
  },
  {
   "cell_type": "code",
   "execution_count": null,
   "id": "822d74f3-e722-44a9-b5af-de1d9b99f361",
   "metadata": {},
   "outputs": [],
   "source": [
    "folder = \"../../data/05_12_Day10/\""
   ]
  },
  {
   "cell_type": "code",
   "execution_count": null,
   "id": "fa53c6e8-6fec-4ddc-bbb9-4434cef9ecb8",
   "metadata": {},
   "outputs": [],
   "source": [
    "px_size = []\n",
    "\n",
    "for img in os.listdir(folder):\n",
    "    img, px_s = get_image_data_czi(folder + '/' + img)\n",
    "    px_size.append(px_s)"
   ]
  },
  {
   "cell_type": "code",
   "execution_count": null,
   "id": "239fe009-cca2-44ca-9877-d80741ae14e8",
   "metadata": {},
   "outputs": [],
   "source": [
    "np.unique(px_size)"
   ]
  },
  {
   "cell_type": "code",
   "execution_count": null,
   "id": "26640762-8717-4b43-845e-695b069f2c3c",
   "metadata": {
    "tags": []
   },
   "outputs": [],
   "source": [
    "threshdold_mod_dict = {\n",
    "    \"MIX3_05_12_2.czi\":0.02,\n",
    "    \"MIX2_05_12_3.czi\":0.02,\n",
    "    \"MIX2_05_12_2.czi\":-0.015,\n",
    "    \"MIX8_05_12_5.czi\":0.06,\n",
    "    \"CTL09A_05_12_3.czi\":0.01,\n",
    "    \"MIX6_05_12_5.czi\":0.07,\n",
    "    \"KTD8.2_05_12_3.czi\":0.03,\n",
    "    \"CTL01A_05_12_3.czi\":0.065,\n",
    "\n",
    "}\n",
    "\n",
    "img_dict_d10 = {}\n",
    "img_dict_d10[folder] = get_mask_dict_from_folder(folder, +0.05, threshdold_mod_dict)"
   ]
  },
  {
   "cell_type": "markdown",
   "id": "4de53925-939c-43d5-8898-54449d7dd2fc",
   "metadata": {},
   "source": [
    "# Compute the measurements"
   ]
  },
  {
   "cell_type": "code",
   "execution_count": null,
   "id": "f28275b5-b8be-439a-9f31-4dfdb8701145",
   "metadata": {},
   "outputs": [],
   "source": [
    "all_dicts = [img_dict_d0, img_dict_d2, img_dict_d4, img_dict_d6, img_dict_d8, img_dict_d10]\n",
    "days = [\"0\", '2', '4', '6', '8', '10']"
   ]
  },
  {
   "cell_type": "code",
   "execution_count": null,
   "id": "3e2ed7ba-407d-4a64-94ad-8e3b194c768c",
   "metadata": {},
   "outputs": [],
   "source": [
    "properties = ['label', 'area', 'area_filled', 'area_convex', 'perimeter', 'axis_major_length', 'axis_minor_length', 'equivalent_diameter_area', 'eccentricity']\n",
    "extra_properties = [extra_prop]"
   ]
  },
  {
   "cell_type": "code",
   "execution_count": null,
   "id": "d14be721-cb4e-411f-8ce7-2eb9dc84a54f",
   "metadata": {},
   "outputs": [],
   "source": [
    "from tqdm import tqdm"
   ]
  },
  {
   "cell_type": "code",
   "execution_count": null,
   "id": "c8a29533-e6b0-48d0-a37a-28df05d4c5a1",
   "metadata": {},
   "outputs": [],
   "source": [
    "df_to_append = pd.DataFrame()\n",
    "regionprops_table_df = pd.DataFrame()\n",
    "\n",
    "with tqdm(total = 6) as t:\n",
    "    \n",
    "    for img_dict, d in zip(all_dicts, days):\n",
    "        \n",
    "        key = list(img_dict.keys())[0]\n",
    "\n",
    "        for name in img_dict[key]:\n",
    "\n",
    "            #print(name)\n",
    "\n",
    "            #i = imgs_name.index(name)\n",
    "\n",
    "            #try:\n",
    "            regionprops_table_dict = regionprops_table(img_dict[key][name][\"mask\"].astype(np.uint8), properties = properties, extra_properties=extra_properties)\n",
    "\n",
    "            regionprops_table_df = pd.DataFrame.from_dict(regionprops_table_dict)\n",
    "            \n",
    "            regionprops_table_df['Folder'] = key\n",
    "            regionprops_table_df['FileName'] = name\n",
    "            regionprops_table_df['Day'] = d\n",
    "            regionprops_table_df['PixelSize'] = img_dict[key][name]['pixel_size']\n",
    "\n",
    "\n",
    "            df_to_append = pd.concat([df_to_append, regionprops_table_df])\n",
    "\n",
    "                \n",
    "        t.update(1)"
   ]
  },
  {
   "cell_type": "code",
   "execution_count": null,
   "id": "7e628299-b748-4e9e-a806-47e77f8f5134",
   "metadata": {},
   "outputs": [],
   "source": [
    "df_to_append"
   ]
  },
  {
   "cell_type": "code",
   "execution_count": null,
   "id": "843bfd4c-b7f4-4374-9deb-89e528ca2b36",
   "metadata": {},
   "outputs": [],
   "source": [
    "df_to_append['Line'] = df_to_append['FileName'].apply(lambda x: x.split('_')[0])\n",
    "df_to_append['Replicate'] = df_to_append['FileName'].apply(lambda x: x.strip('.czi').split('_')[-1])\n",
    "df_to_append['Replicate'] = df_to_append['Replicate'].str.replace('56', '5')"
   ]
  },
  {
   "cell_type": "code",
   "execution_count": null,
   "id": "cee04abb-061d-41b3-8fcb-b4f6ebe3f5f2",
   "metadata": {},
   "outputs": [],
   "source": [
    "df_to_append[\"Area(microns)\"] = df_to_append[\"area\"] * df_to_append[\"PixelSize\"]\n",
    "df_to_append[\"Perimeter(microns)\"] = df_to_append[\"perimeter\"] * df_to_append[\"PixelSize\"]\n",
    "df_to_append[\"AreaConvex(microns)\"] = df_to_append[\"area_convex\"] * df_to_append[\"PixelSize\"]\n",
    "df_to_append[\"EquivalentDiameterArea(microns)\"] = df_to_append[\"equivalent_diameter_area\"] * df_to_append[\"PixelSize\"]"
   ]
  },
  {
   "cell_type": "code",
   "execution_count": null,
   "id": "6dd3a538-fdb9-44ef-800d-4de958bb3294",
   "metadata": {},
   "outputs": [],
   "source": [
    "df_to_append.Line.value_counts()"
   ]
  },
  {
   "cell_type": "code",
   "execution_count": null,
   "id": "380cdb12-316b-4586-afd7-abc59c1c9780",
   "metadata": {},
   "outputs": [],
   "source": [
    "for key in df_to_append.iloc[0].extra_prop.keys():\n",
    "    df_to_append[key] = [i[key][0] for i in df_to_append.extra_prop]"
   ]
  },
  {
   "cell_type": "code",
   "execution_count": null,
   "id": "eba794d0-beb0-497f-8650-9cb9b7ec7fe6",
   "metadata": {},
   "outputs": [],
   "source": [
    "df_to_append['LineRep'] = df_to_append['Line'] + '_' + df_to_append['Replicate']"
   ]
  },
  {
   "cell_type": "code",
   "execution_count": null,
   "id": "65629129-3465-4714-b4b6-eac850be286e",
   "metadata": {},
   "outputs": [],
   "source": [
    "#grouped = df_to_append.groupby('LineRep')\n",
    "\n",
    "norm_area = pd.Series()\n",
    "df_to_append.index = df_to_append.FileName\n",
    "for LR in df_to_append['LineRep'].unique():\n",
    "    \n",
    "    sub = df_to_append[df_to_append['LineRep'] == LR]    \n",
    "    prova = sub['area'] / sub[sub.Day == '0']['area'].values\n",
    "    norm_area = norm_area._append(prova)"
   ]
  },
  {
   "cell_type": "code",
   "execution_count": null,
   "id": "5250f434-1e43-46c8-b75a-0979fda31906",
   "metadata": {},
   "outputs": [],
   "source": [
    "df_to_append['AreaNorm'] = norm_area"
   ]
  },
  {
   "cell_type": "markdown",
   "id": "9483bbbd-ba9d-4ad7-a36e-3ceaff896e05",
   "metadata": {},
   "source": [
    "# Save"
   ]
  },
  {
   "cell_type": "code",
   "execution_count": null,
   "id": "9d415125-0bef-4c37-b89e-1a1dd8ffd804",
   "metadata": {},
   "outputs": [],
   "source": [
    "df_to_append.to_csv('organoidMultiplexing_growthCurves_quant.csv')"
   ]
  }
 ],
 "metadata": {
  "kernelspec": {
   "display_name": "Python 3",
   "language": "python",
   "name": "python3"
  },
  "language_info": {
   "codemirror_mode": {
    "name": "ipython",
    "version": 3
   },
   "file_extension": ".py",
   "mimetype": "text/x-python",
   "name": "python",
   "nbconvert_exporter": "python",
   "pygments_lexer": "ipython3",
   "version": "3.8.5"
  },
  "varInspector": {
   "cols": {
    "lenName": 16,
    "lenType": 16,
    "lenVar": 40
   },
   "kernels_config": {
    "python": {
     "delete_cmd_postfix": "",
     "delete_cmd_prefix": "del ",
     "library": "var_list.py",
     "varRefreshCmd": "print(var_dic_list())"
    },
    "r": {
     "delete_cmd_postfix": ") ",
     "delete_cmd_prefix": "rm(",
     "library": "var_list.r",
     "varRefreshCmd": "cat(var_dic_list()) "
    }
   },
   "types_to_exclude": [
    "module",
    "function",
    "builtin_function_or_method",
    "instance",
    "_Feature"
   ],
   "window_display": false
  }
 },
 "nbformat": 4,
 "nbformat_minor": 5
}
