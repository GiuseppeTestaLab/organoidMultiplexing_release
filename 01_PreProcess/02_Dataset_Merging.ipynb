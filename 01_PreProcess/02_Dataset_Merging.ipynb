{
 "cells": [
  {
   "cell_type": "markdown",
   "metadata": {
    "toc-hr-collapsed": false
   },
   "source": [
    "# Dataset Preprocessing"
   ]
  },
  {
   "cell_type": "markdown",
   "metadata": {
    "toc-hr-collapsed": false
   },
   "source": [
    "### Library loading"
   ]
  },
  {
   "cell_type": "code",
   "execution_count": 1,
   "metadata": {
    "execution": {
     "iopub.execute_input": "2023-07-23T09:05:17.837845Z",
     "iopub.status.busy": "2023-07-23T09:05:17.836705Z",
     "iopub.status.idle": "2023-07-23T09:05:19.154900Z",
     "shell.execute_reply": "2023-07-23T09:05:19.154336Z"
    }
   },
   "outputs": [],
   "source": [
    "import scanpy as sc, anndata as ad, numpy as np, pandas as pd\n",
    "from scipy import sparse\n",
    "from anndata import AnnData\n",
    "import warnings\n",
    "import yaml\n",
    "import os\n",
    "warnings.filterwarnings('ignore')"
   ]
  },
  {
   "cell_type": "code",
   "execution_count": 2,
   "metadata": {
    "execution": {
     "iopub.execute_input": "2023-07-23T09:05:19.157923Z",
     "iopub.status.busy": "2023-07-23T09:05:19.157605Z",
     "iopub.status.idle": "2023-07-23T09:05:19.998337Z",
     "shell.execute_reply": "2023-07-23T09:05:19.998613Z"
    }
   },
   "outputs": [
    {
     "name": "stdout",
     "output_type": "stream",
     "text": [
      "scanpy==1.8.0 anndata==0.8.0 umap==0.4.6 numpy==1.22.2 scipy==1.6.2 pandas==1.2.3 scikit-learn==0.24.1 statsmodels==0.13.5 python-igraph==0.9.1 louvain==0.7.0 leidenalg==0.8.3\n"
     ]
    }
   ],
   "source": [
    "sc.settings.verbosity = 3             # verbosity: errors (0), warnings (1), info (2), hints (3)\n",
    "sc.logging.print_header()\n",
    "sc.settings.set_figure_params(dpi=30, facecolor='white', figsize=(10,10))"
   ]
  },
  {
   "cell_type": "markdown",
   "metadata": {},
   "source": [
    "### Configure paths"
   ]
  },
  {
   "cell_type": "code",
   "execution_count": 3,
   "metadata": {
    "execution": {
     "iopub.execute_input": "2023-07-23T09:05:20.002702Z",
     "iopub.status.busy": "2023-07-23T09:05:20.001711Z",
     "iopub.status.idle": "2023-07-23T09:05:20.016421Z",
     "shell.execute_reply": "2023-07-23T09:05:20.015482Z"
    }
   },
   "outputs": [],
   "source": [
    "outdir = \"../data/output\"\n",
    "\n",
    "\n",
    "with open(\"../data/resources/iPSC_lines_map.yaml\", 'r') as f:\n",
    "    iPSC_lines_map = yaml.load(f, Loader=yaml.FullLoader)[\"lines\"]\n"
   ]
  },
  {
   "cell_type": "markdown",
   "metadata": {},
   "source": [
    "## Merge Datasets Raw"
   ]
  },
  {
   "cell_type": "code",
   "execution_count": 4,
   "metadata": {
    "execution": {
     "iopub.execute_input": "2023-07-23T09:05:20.035306Z",
     "iopub.status.busy": "2023-07-23T09:05:20.031817Z",
     "iopub.status.idle": "2023-07-23T09:05:22.390831Z",
     "shell.execute_reply": "2023-07-23T09:05:22.391171Z"
    },
    "tags": []
   },
   "outputs": [],
   "source": [
    "DownD50 = sc.read_h5ad(outdir+'/adatas/DownD50_raw.h5ad')\n",
    "UpD50 = sc.read_h5ad(outdir+'/adatas/UpD50_raw.h5ad')\n",
    "DownD100 = sc.read_h5ad(outdir+'/adatas/DownD100_raw.h5ad')\n",
    "UpD100_1 = sc.read_h5ad(outdir+'/adatas/UpD100_1_raw.h5ad')\n",
    "UpD100_2 = sc.read_h5ad(outdir+'/adatas/UpD100_2_raw.h5ad')\n",
    "DownD250 = sc.read_h5ad(outdir+'/adatas/DownD250_raw.h5ad')\n",
    "UpD300 = sc.read_h5ad(outdir+'/adatas/UpD300_raw.h5ad')\n",
    "\n"
   ]
  },
  {
   "cell_type": "code",
   "execution_count": 5,
   "metadata": {
    "execution": {
     "iopub.execute_input": "2023-07-23T09:05:22.394798Z",
     "iopub.status.busy": "2023-07-23T09:05:22.394456Z",
     "iopub.status.idle": "2023-07-23T09:05:22.820827Z",
     "shell.execute_reply": "2023-07-23T09:05:22.820399Z"
    }
   },
   "outputs": [],
   "source": [
    "D50 = ad.concat([DownD50, UpD50],join=\"inner\")\n",
    "D50.obs_names_make_unique()\n",
    "\n",
    "D100 = ad.concat([DownD100, UpD100_1, UpD100_2],join=\"inner\")\n",
    "D100.obs_names_make_unique()\n",
    "\n",
    "D250 = ad.concat([DownD250, UpD300],join=\"inner\")\n",
    "D250.obs_names_make_unique()\n",
    "\n",
    "Multiplexing = ad.concat([D250,D100,D50], join=\"outer\")"
   ]
  },
  {
   "cell_type": "code",
   "execution_count": 6,
   "metadata": {
    "execution": {
     "iopub.execute_input": "2023-07-23T09:05:22.825418Z",
     "iopub.status.busy": "2023-07-23T09:05:22.825086Z",
     "iopub.status.idle": "2023-07-23T09:05:22.832596Z",
     "shell.execute_reply": "2023-07-23T09:05:22.832260Z"
    }
   },
   "outputs": [
    {
     "data": {
      "text/plain": [
       "AAACCTGAGAGACTAT-1_DownD250    DownD250\n",
       "AAACCTGCATGGTTGT-1_DownD250    DownD250\n",
       "AAACCTGTCAGTTAGC-1_DownD250    DownD250\n",
       "AAACGGGCAGATCGGA-1_DownD250    DownD250\n",
       "AAACGGGCAGCTATTG-1_DownD250    DownD250\n",
       "                                 ...   \n",
       "TTTGTCATCGCCTGTT-1_UpD50          UpD50\n",
       "TTTGTCATCGCGTAGC-1_UpD50          UpD50\n",
       "TTTGTCATCGGTGTTA-1_UpD50          UpD50\n",
       "TTTGTCATCGTTTATC-1_UpD50          UpD50\n",
       "TTTGTCATCTCTTGAT-1_UpD50          UpD50\n",
       "Name: dataset, Length: 34249, dtype: object"
      ]
     },
     "execution_count": 1,
     "metadata": {},
     "output_type": "execute_result"
    }
   ],
   "source": [
    "Multiplexing.obs_names_make_unique()\n",
    "Multiplexing\n",
    "Multiplexing.obs.dataset"
   ]
  },
  {
   "cell_type": "code",
   "execution_count": 7,
   "metadata": {
    "execution": {
     "iopub.execute_input": "2023-07-23T09:05:22.836378Z",
     "iopub.status.busy": "2023-07-23T09:05:22.836007Z",
     "iopub.status.idle": "2023-07-23T09:05:22.843071Z",
     "shell.execute_reply": "2023-07-23T09:05:22.842815Z"
    }
   },
   "outputs": [],
   "source": [
    "Multiplexing.obs.loc[Multiplexing.obs.dataset.isin([\"DownD50\",\"UpD50\"]),\"stage\"] = \"early\"\n",
    "Multiplexing.obs.loc[Multiplexing.obs.dataset.isin([\"DownD100\",\"UpD100_1\",\"UpD100_2\"]),\"stage\"] = \"mid\"\n",
    "Multiplexing.obs.loc[Multiplexing.obs.dataset.isin([\"DownD250\",\"UpD300\"]),\"stage\"] = \"late\""
   ]
  },
  {
   "cell_type": "code",
   "execution_count": 8,
   "metadata": {
    "execution": {
     "iopub.execute_input": "2023-07-23T09:05:22.846495Z",
     "iopub.status.busy": "2023-07-23T09:05:22.845964Z",
     "iopub.status.idle": "2023-07-23T09:05:22.851414Z",
     "shell.execute_reply": "2023-07-23T09:05:22.851142Z"
    }
   },
   "outputs": [],
   "source": [
    "Multiplexing.obs.loc[Multiplexing.obs.dataset.isin([\"UpD50\",\"UpD100_1\",\"UpD100_2\",\"UpD300\"]),\"type\"] = \"upstream\"\n",
    "Multiplexing.obs.loc[Multiplexing.obs.dataset.isin([\"DownD100\",\"DownD50\",\"DownD250\"]),\"type\"] = \"downstream\"\n"
   ]
  },
  {
   "cell_type": "code",
   "execution_count": 9,
   "metadata": {
    "execution": {
     "iopub.execute_input": "2023-07-23T09:05:22.854371Z",
     "iopub.status.busy": "2023-07-23T09:05:22.854071Z",
     "iopub.status.idle": "2023-07-23T09:05:22.861688Z",
     "shell.execute_reply": "2023-07-23T09:05:22.861345Z"
    }
   },
   "outputs": [],
   "source": [
    "Multiplexing.obs[\"id_stage\"] = Multiplexing.obs[\"cellID_newName\"].astype(\"str\")+\"_\"+Multiplexing.obs[\"stage\"].astype(\"str\")"
   ]
  },
  {
   "cell_type": "markdown",
   "metadata": {},
   "source": [
    "### Configure colors"
   ]
  },
  {
   "cell_type": "code",
   "execution_count": 10,
   "metadata": {
    "execution": {
     "iopub.execute_input": "2023-07-23T09:05:22.870660Z",
     "iopub.status.busy": "2023-07-23T09:05:22.870054Z",
     "iopub.status.idle": "2023-07-23T09:05:22.943697Z",
     "shell.execute_reply": "2023-07-23T09:05:22.944083Z"
    }
   },
   "outputs": [],
   "source": [
    "cellID_colors = {}\n",
    "cellID_newName_colors = {}\n",
    "cellID_newNames = {}\n",
    "\n",
    "\n",
    "for line in iPSC_lines_map.keys():\n",
    "    cellID_colors[iPSC_lines_map[line][\"oldName\"]] = iPSC_lines_map[line][\"color\"]\n",
    "    cellID_newName_colors[iPSC_lines_map[line][\"newName\"]] = iPSC_lines_map[line][\"color\"]\n",
    "    cellID_newNames[iPSC_lines_map[line][\"oldName\"]] = iPSC_lines_map[line][\"newName\"]\n",
    "\n",
    "Multiplexing.obs[\"cellID\"] = Multiplexing.obs[\"cellID\"].astype(\"category\")\n",
    "Multiplexing.obs[\"cellID_newName\"] = Multiplexing.obs[\"cellID\"].replace(cellID_newNames, inplace=False).astype(\"category\")\n",
    "Multiplexing.uns[\"cellID_colors\"] = [cellID_colors[line] for line in Multiplexing.obs[\"cellID\"].cat.categories]\n",
    "Multiplexing.uns[\"cellID_newName_colors\"] = [cellID_newName_colors[line] for line in Multiplexing.obs[\"cellID_newName\"].cat.categories]\n",
    "\n",
    "\n",
    "stage_colors = {}\n",
    "type_colors = {}\n",
    "dataset_colors = {}\n",
    "cellID_newName_type_colors = {}\n",
    "\n",
    "with open(\"../data/resources/iPSC_lines_map.yaml\", 'r') as f:\n",
    "    stage_map = yaml.load(f, Loader=yaml.FullLoader)[\"stage\"]\n",
    "    for tpt in stage_map.keys():\n",
    "        stage_colors[tpt] = stage_map[tpt][\"color\"]\n",
    "\n",
    "\n",
    "with open(\"../data/resources/iPSC_lines_map.yaml\", 'r') as f:\n",
    "    type_map = yaml.load(f, Loader=yaml.FullLoader)[\"type\"]\n",
    "    for tpt in type_map.keys():\n",
    "        type_colors[tpt] = type_map[tpt][\"color\"]\n",
    "        \n",
    "        \n",
    "with open(\"../data/resources/iPSC_lines_map.yaml\", 'r') as f:\n",
    "    cellID_newName_type_map = yaml.load(f, Loader=yaml.FullLoader)[\"cellID_newName_type\"]\n",
    "    for tpt in cellID_newName_type_map.keys():\n",
    "        cellID_newName_type_colors[tpt] = cellID_newName_type_map[tpt][\"color\"]\n",
    "\n",
    "        \n",
    "with open(\"../data/resources/iPSC_lines_map.yaml\", 'r') as f:\n",
    "    dataset_map = yaml.load(f, Loader=yaml.FullLoader)[\"dataset\"]\n",
    "    for tpt in dataset_map.keys():\n",
    "        dataset_colors[tpt] = dataset_map[tpt][\"color\"]\n",
    "        \n",
    "Multiplexing.obs[\"type\"] = Multiplexing.obs[\"type\"].astype(\"category\")\n",
    "Multiplexing.obs[\"type\"] = Multiplexing.obs[\"type\"].cat.set_categories([\"upstream\",\"downstream\"], ordered=True)\n",
    "Multiplexing.obs[\"stage\"] = Multiplexing.obs[\"stage\"].astype(\"category\")\n",
    "Multiplexing.obs[\"stage\"] = Multiplexing.obs[\"stage\"].cat.set_categories([\"early\",\"mid\",\"late\"], ordered=True)\n",
    "Multiplexing.obs[\"dataset\"] = Multiplexing.obs[\"dataset\"].astype(\"category\")\n",
    "Multiplexing.obs[\"dataset\"] = Multiplexing.obs[\"dataset\"].cat.set_categories([\"UpD50\",\"DownD50\",\"UpD100_1\",\"UpD100_2\",\"DownD100\",\"UpD300\",\"DownD250\"], ordered=True)\n",
    "Multiplexing.obs[\"cellID_newName_type\"] = Multiplexing.obs[\"cellID_newName\"].astype(\"str\")+\"_\"+Multiplexing.obs[\"type\"].astype(\"str\")\n",
    "Multiplexing.obs[\"cellID_newName_type\"] = Multiplexing.obs[\"cellID_newName_type\"].astype(\"category\")\n",
    "Multiplexing.obs[\"cellID_newName_type\"] = Multiplexing.obs[\"cellID_newName_type\"].cat.set_categories([\"CTL04E_upstream\",\"CTL04E_downstream\",\"CTL02A_upstream\",\"CTL02A_downstream\",\"CTL08A_upstream\",\"CTL08A_downstream\",\"CTL01_upstream\",\"CTL01_downstream\"], ordered=True)\n",
    "\n",
    "\n",
    "Multiplexing.uns[\"type_colors\"] = [type_colors[type] for type in Multiplexing.obs[\"type\"].cat.categories]\n",
    "Multiplexing.uns[\"stage_colors\"] = [stage_colors[type] for type in Multiplexing.obs[\"stage\"].cat.categories]\n",
    "Multiplexing.uns[\"dataset_colors\"] = [dataset_colors[type] for type in Multiplexing.obs[\"dataset\"].cat.categories]\n",
    "Multiplexing.uns[\"cellID_newName_type_colors\"] = [cellID_newName_type_colors[type] for type in Multiplexing.obs[\"cellID_newName_type\"].cat.categories]\n",
    "\n",
    "\n"
   ]
  },
  {
   "cell_type": "code",
   "execution_count": 11,
   "metadata": {
    "execution": {
     "iopub.execute_input": "2023-07-23T09:05:22.946289Z",
     "iopub.status.busy": "2023-07-23T09:05:22.945967Z",
     "iopub.status.idle": "2023-07-23T09:05:22.947744Z",
     "shell.execute_reply": "2023-07-23T09:05:22.947462Z"
    }
   },
   "outputs": [],
   "source": [
    "#sc.pp.filter_cells(Multiplexing, min_genes=200)\n",
    "#sc.pp.filter_genes(Multiplexing, min_cells=3)\n",
    "#Multiplexing"
   ]
  },
  {
   "cell_type": "code",
   "execution_count": 12,
   "metadata": {
    "execution": {
     "iopub.execute_input": "2023-07-23T09:05:22.949862Z",
     "iopub.status.busy": "2023-07-23T09:05:22.949542Z",
     "iopub.status.idle": "2023-07-23T09:05:22.950986Z",
     "shell.execute_reply": "2023-07-23T09:05:22.951240Z"
    }
   },
   "outputs": [],
   "source": [
    "#sc.pp.normalize_total(Multiplexing)"
   ]
  },
  {
   "cell_type": "code",
   "execution_count": 13,
   "metadata": {
    "execution": {
     "iopub.execute_input": "2023-07-23T09:05:22.953199Z",
     "iopub.status.busy": "2023-07-23T09:05:22.952894Z",
     "iopub.status.idle": "2023-07-23T09:05:22.954706Z",
     "shell.execute_reply": "2023-07-23T09:05:22.954371Z"
    }
   },
   "outputs": [],
   "source": [
    "#sc.pp.log1p(Multiplexing)"
   ]
  },
  {
   "cell_type": "code",
   "execution_count": 14,
   "metadata": {
    "execution": {
     "iopub.execute_input": "2023-07-23T09:05:22.957158Z",
     "iopub.status.busy": "2023-07-23T09:05:22.956841Z",
     "iopub.status.idle": "2023-07-23T09:05:22.965346Z",
     "shell.execute_reply": "2023-07-23T09:05:22.965029Z"
    }
   },
   "outputs": [],
   "source": [
    "HVGs=pd.read_csv(outdir+\"/HVG_list_intersection_Curated.txt\", sep = \"\\t\")[\"HVG\"]\n"
   ]
  },
  {
   "cell_type": "code",
   "execution_count": 15,
   "metadata": {
    "execution": {
     "iopub.execute_input": "2023-07-23T09:05:22.969556Z",
     "iopub.status.busy": "2023-07-23T09:05:22.969056Z",
     "iopub.status.idle": "2023-07-23T09:05:22.971691Z",
     "shell.execute_reply": "2023-07-23T09:05:22.971404Z"
    }
   },
   "outputs": [
    {
     "data": {
      "text/plain": [
       "3499"
      ]
     },
     "execution_count": 1,
     "metadata": {},
     "output_type": "execute_result"
    }
   ],
   "source": [
    "Multiplexing.var[\"highly_variable\"] = Multiplexing.var_names.isin(HVGs)\n",
    "Multiplexing.var[\"highly_variable\"].sum()"
   ]
  },
  {
   "cell_type": "code",
   "execution_count": 16,
   "metadata": {
    "execution": {
     "iopub.execute_input": "2023-07-23T09:05:22.974082Z",
     "iopub.status.busy": "2023-07-23T09:05:22.973779Z",
     "iopub.status.idle": "2023-07-23T09:05:22.975987Z",
     "shell.execute_reply": "2023-07-23T09:05:22.975656Z"
    }
   },
   "outputs": [
    {
     "data": {
      "text/plain": [
       "AnnData object with n_obs × n_vars = 34249 × 33538\n",
       "    obs: 'dataset', 'cellID', 'cellID_newName', 'n_genes_by_counts', 'log1p_n_genes_by_counts', 'total_counts', 'log1p_total_counts', 'total_counts_mt', 'log1p_total_counts_mt', 'pct_counts_mt', 'total_counts_ribo', 'log1p_total_counts_ribo', 'pct_counts_ribo', 'stage', 'type', 'id_stage', 'cellID_newName_type'\n",
       "    var: 'highly_variable'\n",
       "    uns: 'cellID_colors', 'cellID_newName_colors', 'type_colors', 'stage_colors', 'dataset_colors', 'cellID_newName_type_colors'"
      ]
     },
     "execution_count": 1,
     "metadata": {},
     "output_type": "execute_result"
    }
   ],
   "source": [
    "del Multiplexing.obsm\n",
    "Multiplexing"
   ]
  },
  {
   "cell_type": "code",
   "execution_count": 17,
   "metadata": {
    "execution": {
     "iopub.execute_input": "2023-07-23T09:05:22.980599Z",
     "iopub.status.busy": "2023-07-23T09:05:22.979530Z",
     "iopub.status.idle": "2023-07-23T09:05:24.783755Z",
     "shell.execute_reply": "2023-07-23T09:05:24.783336Z"
    }
   },
   "outputs": [],
   "source": [
    "Multiplexing.write(outdir+'/adatas/MultiplexingPreprocessing_unscaled.h5ad')"
   ]
  },
  {
   "cell_type": "code",
   "execution_count": 18,
   "metadata": {
    "execution": {
     "iopub.execute_input": "2023-07-23T09:05:24.786827Z",
     "iopub.status.busy": "2023-07-23T09:05:24.786492Z",
     "iopub.status.idle": "2023-07-23T09:05:24.788781Z",
     "shell.execute_reply": "2023-07-23T09:05:24.788496Z"
    }
   },
   "outputs": [
    {
     "data": {
      "text/plain": [
       "AnnData object with n_obs × n_vars = 34249 × 33538\n",
       "    obs: 'dataset', 'cellID', 'cellID_newName', 'n_genes_by_counts', 'log1p_n_genes_by_counts', 'total_counts', 'log1p_total_counts', 'total_counts_mt', 'log1p_total_counts_mt', 'pct_counts_mt', 'total_counts_ribo', 'log1p_total_counts_ribo', 'pct_counts_ribo', 'stage', 'type', 'id_stage', 'cellID_newName_type'\n",
       "    var: 'highly_variable'\n",
       "    uns: 'cellID_colors', 'cellID_newName_colors', 'type_colors', 'stage_colors', 'dataset_colors', 'cellID_newName_type_colors'"
      ]
     },
     "execution_count": 1,
     "metadata": {},
     "output_type": "execute_result"
    }
   ],
   "source": [
    "Multiplexing"
   ]
  }
 ],
 "metadata": {
  "kernelspec": {
   "display_name": "Python 3",
   "language": "python",
   "name": "python3"
  },
  "language_info": {
   "codemirror_mode": {
    "name": "ipython",
    "version": 3
   },
   "file_extension": ".py",
   "mimetype": "text/x-python",
   "name": "python",
   "nbconvert_exporter": "python",
   "pygments_lexer": "ipython3",
   "version": "3.8.5"
  }
 },
 "nbformat": 4,
 "nbformat_minor": 4
}
