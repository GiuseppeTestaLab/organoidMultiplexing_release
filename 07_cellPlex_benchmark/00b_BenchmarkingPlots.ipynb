{
 "cells": [
  {
   "cell_type": "raw",
   "id": "952d9fb6-5b39-4a7b-a625-7789d6b455ec",
   "metadata": {},
   "source": [
    "---\n",
    "title: \"Precision and Recall plots\"\n",
    "format:\n",
    "  html:\n",
    "    theme: minty\n",
    "    highlight: pygments\n",
    "    code-fold: true\n",
    "    code-tools: true\n",
    "    toc: true\n",
    "    toc-location: left\n",
    "    number-sections: true\n",
    "    embed-resources: true\n",
    "    fontsize: 20px\n",
    "    page-layout: full\n",
    "    width: 2000\n",
    "    grid:\n",
    "      sidebar-width: 0px\n",
    "      body-width: 2000px\n",
    "      margin-width: 0px\n",
    "      gutter-width: 1.5rem\n",
    "execute:\n",
    "  enabled: false\n",
    "---"
   ]
  },
  {
   "cell_type": "code",
   "execution_count": 1,
   "id": "22c7409a-73f0-43fb-b8df-876b5fc9cba9",
   "metadata": {},
   "outputs": [],
   "source": [
    "import pandas as pd\n",
    "import seaborn as sns\n",
    "import matplotlib.pyplot as plt\n",
    "import scanpy as sc\n",
    "import yaml\n",
    "\n",
    "from os.path import dirname as up"
   ]
  },
  {
   "cell_type": "markdown",
   "id": "5a9f03d4-fd99-4837-838b-862ed9f1f463",
   "metadata": {},
   "source": [
    "# Define image parameters"
   ]
  },
  {
   "cell_type": "code",
   "execution_count": 2,
   "id": "192df17b-4711-4577-ae71-6fe896e53c48",
   "metadata": {},
   "outputs": [
    {
     "name": "stdout",
     "output_type": "stream",
     "text": [
      "scanpy==1.8.0 anndata==0.8.0 umap==0.4.6 numpy==1.22.2 scipy==1.6.2 pandas==1.2.3 scikit-learn==0.24.1 statsmodels==0.13.5 python-igraph==0.9.1 louvain==0.7.0 leidenalg==0.8.3\n",
      "figure.dpi 80\n",
      "savefig.dpi 500\n",
      "figure.figsize [10, 10]\n",
      "axes.facecolor None\n",
      "figure.facecolor None\n",
      "dotSize 20\n"
     ]
    }
   ],
   "source": [
    "sc.settings.verbosity = 3             # verbosity: errors (0), warnings (1), info (2), hints (3)\n",
    "sc.logging.print_header()\n",
    "with open(\"../data/resources/rcParams.yaml\") as f:\n",
    "    rcParamsDict = yaml.full_load(f)\n",
    "    for k in rcParamsDict[\"rcParams\"]:\n",
    "        print(\"{} {}\".format(k,rcParamsDict[\"rcParams\"][k]))\n",
    "        plt.rcParams[k] = rcParamsDict[\"rcParams\"][k]\n",
    "    for k1 in set(list(rcParamsDict)).difference(set([\"rcParams\"])):\n",
    "        print(\"{} {}\".format(k1,rcParamsDict[k1]))"
   ]
  },
  {
   "cell_type": "code",
   "execution_count": 3,
   "id": "5c29303b-c4b6-4b6e-a667-01bdc830c96f",
   "metadata": {},
   "outputs": [],
   "source": [
    "colors_dict = {\n",
    "'demux_v2_call': \"#1f77b4\",\n",
    "'scansnp_w_neg': \"#ff7f0e\",\n",
    "'souporcell_call': \"#2ca02c\",\n",
    "'vireo_call':\"#d62728\",\n",
    "'Consensus':\"#17becf\"\n",
    "              }\n",
    "\n",
    "colors_dict_ndd = {\n",
    "'demux_v2_call_no_neg_doub': \"#1f77b4\",\n",
    "'scansnp_w_neg_no_neg_doub': \"#ff7f0e\",\n",
    "'souporcell_call_no_neg_doub': \"#2ca02c\",\n",
    "'vireo_call_no_neg_doub':\"#d62728\",\n",
    "'Consensus_no_neg_doub':\"#17becf\"\n",
    "              }\n",
    "\n",
    "colors_dict_lineplot = {\n",
    "'Demuxlet': \"#1f77b4\",\n",
    "'SCanSNP': \"#ff7f0e\",\n",
    "'SoC': \"#2ca02c\",\n",
    "'Vireo':\"#d62728\",\n",
    "'Consensus':\"#17becf\"\n",
    "              }"
   ]
  },
  {
   "cell_type": "markdown",
   "id": "84b32123-762d-4dd7-8ea5-61e2ac062b08",
   "metadata": {},
   "source": [
    "# Define paths for precision, recall and doublets score data"
   ]
  },
  {
   "cell_type": "code",
   "execution_count": 4,
   "id": "ee1a8bd6-7354-4700-9179-424a2273f595",
   "metadata": {},
   "outputs": [],
   "source": [
    "precision_dfs_paths = [\"../../geneticDemultiplexing/precision_sample1.csv\",\n",
    "          \"../../geneticDemultiplexing/precision_sample2.csv\",\n",
    "          ]\n",
    "\n",
    "recall_dfs_paths = [\"../../geneticDemultiplexing/recall_sample1.csv\",\n",
    "          \"../../geneticDemultiplexing/recall_sample2.csv\",\n",
    "          ]\n",
    "\n",
    "DS_rate = [\"../../geneticDemultiplexing/sample1_DoubletSinglet_rates.csv\",\n",
    "          \"../../geneticDemultiplexing/sample2_DoubletSinglet_rates.csv\",\n",
    "          ]"
   ]
  },
  {
   "cell_type": "markdown",
   "id": "d5c22feb-95a6-4cd3-a81b-61993fdaf390",
   "metadata": {},
   "source": [
    "## Open datasets"
   ]
  },
  {
   "cell_type": "code",
   "execution_count": 5,
   "id": "ae4e6e8f-b2fd-4666-9c9b-cfd073d74c21",
   "metadata": {},
   "outputs": [],
   "source": [
    "precision_dfs = []\n",
    "for i in precision_dfs_paths:\n",
    "    precision_dfs.append(pd.read_csv(i, index_col = 0))\n",
    "    \n",
    "precision = pd.concat(precision_dfs, keys = ['sample1', 'sample2']).reset_index()\n",
    "#JI = JI.drop('demux_v1_call', axis = 1)\n",
    "\n",
    "precision.columns = ['Sample', 'Method'] + precision.columns[2:].tolist()"
   ]
  },
  {
   "cell_type": "code",
   "execution_count": 6,
   "id": "9258e03c-a1ed-4ddc-9493-ac4405158315",
   "metadata": {},
   "outputs": [],
   "source": [
    "recall_dfs = []\n",
    "for i in recall_dfs_paths:\n",
    "    recall_dfs.append(pd.read_csv(i, index_col = 0))\n",
    "    \n",
    "recall = pd.concat(recall_dfs, keys = ['sample1', 'sample2']).reset_index()\n",
    "#JI = JI.drop('demux_v1_call', axis = 1)\n",
    "\n",
    "recall.columns = ['Sample', 'Method'] + recall.columns[2:].tolist()"
   ]
  },
  {
   "cell_type": "code",
   "execution_count": 7,
   "id": "a9c14e11-3817-4ac7-a042-52ca3dc6bc98",
   "metadata": {},
   "outputs": [],
   "source": [
    "DS_dfs = []\n",
    "for i in DS_rate:\n",
    "    DS_dfs.append(pd.read_csv(i, index_col = 0))\n",
    "    \n",
    "DS = pd.concat(DS_dfs, keys = ['sample1', 'sample2']).reset_index()\n",
    "#JI = JI.drop('demux_v1_call', axis = 1)\n",
    "DS = DS.drop('level_1', axis = 1)"
   ]
  },
  {
   "cell_type": "code",
   "execution_count": 8,
   "id": "9a443223-0edf-4e9c-b84b-3cfe771a56ad",
   "metadata": {},
   "outputs": [
    {
     "data": {
      "text/html": [
       "<div>\n",
       "<style scoped>\n",
       "    .dataframe tbody tr th:only-of-type {\n",
       "        vertical-align: middle;\n",
       "    }\n",
       "\n",
       "    .dataframe tbody tr th {\n",
       "        vertical-align: top;\n",
       "    }\n",
       "\n",
       "    .dataframe thead th {\n",
       "        text-align: right;\n",
       "    }\n",
       "</style>\n",
       "<table border=\"1\" class=\"dataframe\">\n",
       "  <thead>\n",
       "    <tr style=\"text-align: right;\">\n",
       "      <th></th>\n",
       "      <th>level_0</th>\n",
       "      <th>Software</th>\n",
       "      <th>Doublet_Rate</th>\n",
       "      <th>Unassigned_rate</th>\n",
       "    </tr>\n",
       "  </thead>\n",
       "  <tbody>\n",
       "    <tr>\n",
       "      <th>0</th>\n",
       "      <td>sample1</td>\n",
       "      <td>Demuxlet</td>\n",
       "      <td>0.250671</td>\n",
       "      <td>0.000000</td>\n",
       "    </tr>\n",
       "    <tr>\n",
       "      <th>1</th>\n",
       "      <td>sample1</td>\n",
       "      <td>SCanSNP</td>\n",
       "      <td>0.107736</td>\n",
       "      <td>0.000000</td>\n",
       "    </tr>\n",
       "    <tr>\n",
       "      <th>2</th>\n",
       "      <td>sample1</td>\n",
       "      <td>SoC</td>\n",
       "      <td>0.224203</td>\n",
       "      <td>0.027923</td>\n",
       "    </tr>\n",
       "    <tr>\n",
       "      <th>3</th>\n",
       "      <td>sample1</td>\n",
       "      <td>Vireo</td>\n",
       "      <td>0.179362</td>\n",
       "      <td>0.079130</td>\n",
       "    </tr>\n",
       "    <tr>\n",
       "      <th>4</th>\n",
       "      <td>sample1</td>\n",
       "      <td>Consensus</td>\n",
       "      <td>0.176907</td>\n",
       "      <td>0.059985</td>\n",
       "    </tr>\n",
       "    <tr>\n",
       "      <th>5</th>\n",
       "      <td>sample2</td>\n",
       "      <td>Demuxlet</td>\n",
       "      <td>0.252423</td>\n",
       "      <td>0.000000</td>\n",
       "    </tr>\n",
       "    <tr>\n",
       "      <th>6</th>\n",
       "      <td>sample2</td>\n",
       "      <td>SCanSNP</td>\n",
       "      <td>0.085330</td>\n",
       "      <td>0.000000</td>\n",
       "    </tr>\n",
       "    <tr>\n",
       "      <th>7</th>\n",
       "      <td>sample2</td>\n",
       "      <td>SoC</td>\n",
       "      <td>0.195369</td>\n",
       "      <td>0.030687</td>\n",
       "    </tr>\n",
       "    <tr>\n",
       "      <th>8</th>\n",
       "      <td>sample2</td>\n",
       "      <td>Vireo</td>\n",
       "      <td>0.163025</td>\n",
       "      <td>0.086585</td>\n",
       "    </tr>\n",
       "    <tr>\n",
       "      <th>9</th>\n",
       "      <td>sample2</td>\n",
       "      <td>Consensus</td>\n",
       "      <td>0.145648</td>\n",
       "      <td>0.061775</td>\n",
       "    </tr>\n",
       "  </tbody>\n",
       "</table>\n",
       "</div>"
      ],
      "text/plain": [
       "   level_0   Software  Doublet_Rate  Unassigned_rate\n",
       "0  sample1   Demuxlet      0.250671         0.000000\n",
       "1  sample1    SCanSNP      0.107736         0.000000\n",
       "2  sample1        SoC      0.224203         0.027923\n",
       "3  sample1      Vireo      0.179362         0.079130\n",
       "4  sample1  Consensus      0.176907         0.059985\n",
       "5  sample2   Demuxlet      0.252423         0.000000\n",
       "6  sample2    SCanSNP      0.085330         0.000000\n",
       "7  sample2        SoC      0.195369         0.030687\n",
       "8  sample2      Vireo      0.163025         0.086585\n",
       "9  sample2  Consensus      0.145648         0.061775"
      ]
     },
     "execution_count": 8,
     "metadata": {},
     "output_type": "execute_result"
    }
   ],
   "source": [
    "DS"
   ]
  },
  {
   "cell_type": "code",
   "execution_count": 9,
   "id": "7a23d46a-0c53-4b87-9ef5-e0a669a93e44",
   "metadata": {},
   "outputs": [],
   "source": [
    "DS.columns = ['Sample', 'Method'] + DS.columns[2:].tolist()"
   ]
  },
  {
   "cell_type": "code",
   "execution_count": 10,
   "id": "bc1128a6-72b1-4f73-82ca-dfe5e3d70fc5",
   "metadata": {},
   "outputs": [],
   "source": [
    "total = pd.concat([precision, recall], keys = ['Precision', 'Recall']).reset_index().drop('level_1', axis = 1)\n",
    "total.columns = ['Metric'] + total.columns[1:].tolist()"
   ]
  },
  {
   "cell_type": "code",
   "execution_count": 11,
   "id": "522a927f-abad-46b7-8631-e16a81ada15c",
   "metadata": {},
   "outputs": [
    {
     "data": {
      "text/html": [
       "<div>\n",
       "<style scoped>\n",
       "    .dataframe tbody tr th:only-of-type {\n",
       "        vertical-align: middle;\n",
       "    }\n",
       "\n",
       "    .dataframe tbody tr th {\n",
       "        vertical-align: top;\n",
       "    }\n",
       "\n",
       "    .dataframe thead th {\n",
       "        text-align: right;\n",
       "    }\n",
       "</style>\n",
       "<table border=\"1\" class=\"dataframe\">\n",
       "  <thead>\n",
       "    <tr style=\"text-align: right;\">\n",
       "      <th></th>\n",
       "      <th>Metric</th>\n",
       "      <th>Sample</th>\n",
       "      <th>Method</th>\n",
       "      <th>MultiSeq</th>\n",
       "      <th>MultiSeq_no_negative</th>\n",
       "      <th>MultiSeq_no_doublet</th>\n",
       "      <th>MultiSeq_no_negative_no_doublet</th>\n",
       "      <th>CellRanger</th>\n",
       "      <th>CellRanger_no_negative</th>\n",
       "      <th>CellRanger_no_doublet</th>\n",
       "      <th>CellRanger_no_negative_no_doublet</th>\n",
       "    </tr>\n",
       "  </thead>\n",
       "  <tbody>\n",
       "    <tr>\n",
       "      <th>0</th>\n",
       "      <td>Precision</td>\n",
       "      <td>sample1</td>\n",
       "      <td>demux_v2_call</td>\n",
       "      <td>0.602939</td>\n",
       "      <td>0.845753</td>\n",
       "      <td>0.714662</td>\n",
       "      <td>0.990098</td>\n",
       "      <td>0.580696</td>\n",
       "      <td>0.903620</td>\n",
       "      <td>0.634876</td>\n",
       "      <td>0.989900</td>\n",
       "    </tr>\n",
       "    <tr>\n",
       "      <th>1</th>\n",
       "      <td>Precision</td>\n",
       "      <td>sample1</td>\n",
       "      <td>souporcell_call</td>\n",
       "      <td>0.757949</td>\n",
       "      <td>0.857290</td>\n",
       "      <td>0.906670</td>\n",
       "      <td>0.993050</td>\n",
       "      <td>0.782638</td>\n",
       "      <td>0.909624</td>\n",
       "      <td>0.857020</td>\n",
       "      <td>0.992642</td>\n",
       "    </tr>\n",
       "    <tr>\n",
       "      <th>2</th>\n",
       "      <td>Precision</td>\n",
       "      <td>sample1</td>\n",
       "      <td>vireo_call</td>\n",
       "      <td>0.785375</td>\n",
       "      <td>0.875336</td>\n",
       "      <td>0.917461</td>\n",
       "      <td>0.994841</td>\n",
       "      <td>0.798672</td>\n",
       "      <td>0.920708</td>\n",
       "      <td>0.869744</td>\n",
       "      <td>0.995158</td>\n",
       "    </tr>\n",
       "    <tr>\n",
       "      <th>3</th>\n",
       "      <td>Precision</td>\n",
       "      <td>sample1</td>\n",
       "      <td>scansnp_w_neg</td>\n",
       "      <td>0.844940</td>\n",
       "      <td>0.919724</td>\n",
       "      <td>0.895254</td>\n",
       "      <td>0.994071</td>\n",
       "      <td>0.809094</td>\n",
       "      <td>0.952597</td>\n",
       "      <td>0.857407</td>\n",
       "      <td>0.993941</td>\n",
       "    </tr>\n",
       "    <tr>\n",
       "      <th>4</th>\n",
       "      <td>Precision</td>\n",
       "      <td>sample1</td>\n",
       "      <td>Consensus</td>\n",
       "      <td>0.743397</td>\n",
       "      <td>0.848713</td>\n",
       "      <td>0.824473</td>\n",
       "      <td>0.984600</td>\n",
       "      <td>0.740735</td>\n",
       "      <td>0.901989</td>\n",
       "      <td>0.793566</td>\n",
       "      <td>0.982886</td>\n",
       "    </tr>\n",
       "  </tbody>\n",
       "</table>\n",
       "</div>"
      ],
      "text/plain": [
       "      Metric   Sample           Method  MultiSeq  MultiSeq_no_negative  \\\n",
       "0  Precision  sample1    demux_v2_call  0.602939              0.845753   \n",
       "1  Precision  sample1  souporcell_call  0.757949              0.857290   \n",
       "2  Precision  sample1       vireo_call  0.785375              0.875336   \n",
       "3  Precision  sample1    scansnp_w_neg  0.844940              0.919724   \n",
       "4  Precision  sample1        Consensus  0.743397              0.848713   \n",
       "\n",
       "   MultiSeq_no_doublet  MultiSeq_no_negative_no_doublet  CellRanger  \\\n",
       "0             0.714662                         0.990098    0.580696   \n",
       "1             0.906670                         0.993050    0.782638   \n",
       "2             0.917461                         0.994841    0.798672   \n",
       "3             0.895254                         0.994071    0.809094   \n",
       "4             0.824473                         0.984600    0.740735   \n",
       "\n",
       "   CellRanger_no_negative  CellRanger_no_doublet  \\\n",
       "0                0.903620               0.634876   \n",
       "1                0.909624               0.857020   \n",
       "2                0.920708               0.869744   \n",
       "3                0.952597               0.857407   \n",
       "4                0.901989               0.793566   \n",
       "\n",
       "   CellRanger_no_negative_no_doublet  \n",
       "0                           0.989900  \n",
       "1                           0.992642  \n",
       "2                           0.995158  \n",
       "3                           0.993941  \n",
       "4                           0.982886  "
      ]
     },
     "execution_count": 11,
     "metadata": {},
     "output_type": "execute_result"
    }
   ],
   "source": [
    "total.head()"
   ]
  },
  {
   "cell_type": "code",
   "execution_count": 12,
   "id": "b3a87e1f-1741-4d62-8548-9f7cd38ff50c",
   "metadata": {},
   "outputs": [],
   "source": [
    "methods_complete = ['demux_v2_call', 'souporcell_call', 'vireo_call', 'scansnp_w_neg']\n",
    "references_complete = ['MultiSeq', 'CellRanger']\n",
    "methods_no_neg_no_d = ['demux_v2_call_no_neg_doub','souporcell_call_no_neg_doub',\n",
    "        'vireo_call_no_neg_doub', \n",
    "       'scansnp_w_neg_no_neg_doub']\n",
    "references_no_neg_no_d = ['MultiSeq_no_negative_no_doublet', 'CellRanger_no_negative_no_doublet']\n",
    "complete_data = total.loc[total.Method.isin(methods_complete), ['Metric', 'Method'] + references_complete]\n",
    "no_neg_no_d_data = total.loc[total.Method.isin(methods_no_neg_no_d), ['Metric', 'Method'] + references_no_neg_no_d]"
   ]
  },
  {
   "cell_type": "markdown",
   "id": "aaec6f57-242c-4e55-a10d-cb314216e301",
   "metadata": {},
   "source": [
    "# Plot Precision and Recall"
   ]
  },
  {
   "cell_type": "code",
   "execution_count": 13,
   "id": "56a4aae2-7c48-4b83-90cf-581def08dcf8",
   "metadata": {},
   "outputs": [],
   "source": [
    "labels = ['demux v2', 'Souporcell', 'Vireo',  'ScanSNP', 'Consensus']\n",
    "labels_nnd = ['demux v2', 'Souporcell', 'Vireo',  'ScanSNP', 'Consensus']"
   ]
  },
  {
   "cell_type": "code",
   "execution_count": 14,
   "id": "4d914702-bdeb-40a7-853e-e4734836f179",
   "metadata": {},
   "outputs": [
    {
     "data": {
      "image/png": "[encoded data removed]",
      "text/plain": [
       "<Figure size 1200x720 with 2 Axes>"
      ]
     },
     "metadata": {
      "needs_background": "light"
     },
     "output_type": "display_data"
    }
   ],
   "source": [
    "fig, ax = plt.subplots(1,2, figsize = (15,9), gridspec_kw={'wspace': 0.3})\n",
    "\n",
    "sns.set_theme(style = 'whitegrid')\n",
    "\n",
    "sns.boxplot(data = complete_data, x = 'Metric', y = 'CellRanger', hue = 'Method', ax=ax[0], palette=colors_dict)\n",
    "sns.boxplot(data = no_neg_no_d_data, x = 'Metric', y = 'CellRanger_no_negative_no_doublet', hue = 'Method', ax=ax[1], palette = colors_dict_ndd)\n",
    "xlabels = ['Precision', 'Recall']\n",
    "ax[0].set_xticklabels(xlabels, rotation=90)\n",
    "ax[0].set_title('Evaluation against Cellranger \\n(complete)', fontsize = 20)\n",
    "ax[1].set_xticklabels(xlabels, rotation=90)\n",
    "\n",
    "ax[1].set_title('Evaluation against Cellranger \\n(no low quality and doublets)', fontsize = 20)\n",
    "handles, _ = ax[0].get_legend_handles_labels()\n",
    "handles_nnd, _ = ax[1].get_legend_handles_labels()\n",
    "_ = ax[0].legend('')\n",
    "_ = ax[1].legend(handles_nnd, labels_nnd, fontsize = 15, bbox_to_anchor = (1,1))\n",
    "\n",
    "_ = ax[0].set_ylim(0,1.1)\n",
    "ax[0].tick_params(axis='both', which='major', labelsize=20)\n",
    "ax[1].tick_params(axis='both', which='major', labelsize=20)\n",
    "_ = ax[0].set_ylabel('Metric score', fontsize = 20)\n",
    "_ = ax[1].set_ylabel('Metric score', fontsize = 20)\n",
    "_ = ax[0].set_xlabel('Metric', fontsize = 20)\n",
    "_ = ax[1].set_xlabel('Metric', fontsize = 20)\n",
    "\n",
    "plt.savefig('./figures/PrecisionRecall_noConsensus.svg', bbox_inches = 'tight')"
   ]
  },
  {
   "cell_type": "markdown",
   "id": "d8592de1-cb2c-413c-85cb-88cd1214661d",
   "metadata": {},
   "source": [
    "# Plot doublets rate"
   ]
  },
  {
   "cell_type": "code",
   "execution_count": 15,
   "id": "84f236e0-fc21-4454-a2bd-4f228d05f38b",
   "metadata": {},
   "outputs": [],
   "source": [
    "labels = ['sample1', 'sample2']"
   ]
  },
  {
   "cell_type": "code",
   "execution_count": 16,
   "id": "762f4260-5718-4c5e-b8fd-34ba72c5e3c4",
   "metadata": {},
   "outputs": [
    {
     "data": {
      "text/html": [
       "<div>\n",
       "<style scoped>\n",
       "    .dataframe tbody tr th:only-of-type {\n",
       "        vertical-align: middle;\n",
       "    }\n",
       "\n",
       "    .dataframe tbody tr th {\n",
       "        vertical-align: top;\n",
       "    }\n",
       "\n",
       "    .dataframe thead th {\n",
       "        text-align: right;\n",
       "    }\n",
       "</style>\n",
       "<table border=\"1\" class=\"dataframe\">\n",
       "  <thead>\n",
       "    <tr style=\"text-align: right;\">\n",
       "      <th></th>\n",
       "      <th>Sample</th>\n",
       "      <th>Method</th>\n",
       "      <th>Doublet_Rate</th>\n",
       "      <th>Unassigned_rate</th>\n",
       "    </tr>\n",
       "  </thead>\n",
       "  <tbody>\n",
       "    <tr>\n",
       "      <th>0</th>\n",
       "      <td>sample1</td>\n",
       "      <td>Demuxlet</td>\n",
       "      <td>0.250671</td>\n",
       "      <td>0.000000</td>\n",
       "    </tr>\n",
       "    <tr>\n",
       "      <th>1</th>\n",
       "      <td>sample1</td>\n",
       "      <td>SCanSNP</td>\n",
       "      <td>0.107736</td>\n",
       "      <td>0.000000</td>\n",
       "    </tr>\n",
       "    <tr>\n",
       "      <th>2</th>\n",
       "      <td>sample1</td>\n",
       "      <td>SoC</td>\n",
       "      <td>0.224203</td>\n",
       "      <td>0.027923</td>\n",
       "    </tr>\n",
       "    <tr>\n",
       "      <th>3</th>\n",
       "      <td>sample1</td>\n",
       "      <td>Vireo</td>\n",
       "      <td>0.179362</td>\n",
       "      <td>0.079130</td>\n",
       "    </tr>\n",
       "    <tr>\n",
       "      <th>4</th>\n",
       "      <td>sample1</td>\n",
       "      <td>Consensus</td>\n",
       "      <td>0.176907</td>\n",
       "      <td>0.059985</td>\n",
       "    </tr>\n",
       "    <tr>\n",
       "      <th>5</th>\n",
       "      <td>sample2</td>\n",
       "      <td>Demuxlet</td>\n",
       "      <td>0.252423</td>\n",
       "      <td>0.000000</td>\n",
       "    </tr>\n",
       "    <tr>\n",
       "      <th>6</th>\n",
       "      <td>sample2</td>\n",
       "      <td>SCanSNP</td>\n",
       "      <td>0.085330</td>\n",
       "      <td>0.000000</td>\n",
       "    </tr>\n",
       "    <tr>\n",
       "      <th>7</th>\n",
       "      <td>sample2</td>\n",
       "      <td>SoC</td>\n",
       "      <td>0.195369</td>\n",
       "      <td>0.030687</td>\n",
       "    </tr>\n",
       "    <tr>\n",
       "      <th>8</th>\n",
       "      <td>sample2</td>\n",
       "      <td>Vireo</td>\n",
       "      <td>0.163025</td>\n",
       "      <td>0.086585</td>\n",
       "    </tr>\n",
       "    <tr>\n",
       "      <th>9</th>\n",
       "      <td>sample2</td>\n",
       "      <td>Consensus</td>\n",
       "      <td>0.145648</td>\n",
       "      <td>0.061775</td>\n",
       "    </tr>\n",
       "  </tbody>\n",
       "</table>\n",
       "</div>"
      ],
      "text/plain": [
       "    Sample     Method  Doublet_Rate  Unassigned_rate\n",
       "0  sample1   Demuxlet      0.250671         0.000000\n",
       "1  sample1    SCanSNP      0.107736         0.000000\n",
       "2  sample1        SoC      0.224203         0.027923\n",
       "3  sample1      Vireo      0.179362         0.079130\n",
       "4  sample1  Consensus      0.176907         0.059985\n",
       "5  sample2   Demuxlet      0.252423         0.000000\n",
       "6  sample2    SCanSNP      0.085330         0.000000\n",
       "7  sample2        SoC      0.195369         0.030687\n",
       "8  sample2      Vireo      0.163025         0.086585\n",
       "9  sample2  Consensus      0.145648         0.061775"
      ]
     },
     "execution_count": 16,
     "metadata": {},
     "output_type": "execute_result"
    }
   ],
   "source": [
    "DS"
   ]
  },
  {
   "cell_type": "code",
   "execution_count": 17,
   "id": "1a9c9023-748d-4d66-a1d6-cc41d736c3fe",
   "metadata": {},
   "outputs": [
    {
     "name": "stderr",
     "output_type": "stream",
     "text": [
      "<ipython-input-17-8eb50ae73dda>:15: UserWarning: FixedFormatter should only be used together with FixedLocator\n",
      "  _ = ax[0].set_xticklabels(labels, rotation=90, fontsize = 20)\n",
      "<ipython-input-17-8eb50ae73dda>:16: UserWarning: FixedFormatter should only be used together with FixedLocator\n",
      "  _ = ax[1].set_xticklabels(labels, rotation=90, fontsize = 20)\n"
     ]
    },
    {
     "data": {
      "image/png": "[encoded data removed]",
      "text/plain": [
       "<Figure size 1600x400 with 2 Axes>"
      ]
     },
     "metadata": {},
     "output_type": "display_data"
    }
   ],
   "source": [
    "fig, ax = plt.subplots(1,2, figsize = (20,5))\n",
    "\n",
    "sns.lineplot(data = DS, x = 'Sample', y = 'Doublet_Rate', hue = 'Method', ax = ax[0], marker='o', palette=colors_dict_lineplot)\n",
    "sns.lineplot(data = DS, x = 'Sample', y = 'Unassigned_rate', hue = 'Method', ax = ax[1], marker='o', palette=colors_dict_lineplot)\n",
    "\n",
    "ax[0].set_xlabel('Dataset', fontsize = 20)\n",
    "ax[0].set_ylabel('Doublet Rate', fontsize = 20)\n",
    "ax[0].set_ylim(-0.1,0.5)\n",
    "_ = ax[0].legend('')\n",
    "\n",
    "ax[1].set_xlabel('Dataset', fontsize = 20)\n",
    "ax[1].set_ylabel('Unassigned Rate', fontsize = 20)\n",
    "ax[1].set_ylim(-0.1,0.5)\n",
    "ax[1].legend(loc='upper left', fontsize = 15, bbox_to_anchor = (1,1))\n",
    "_ = ax[0].set_xticklabels(labels, rotation=90, fontsize = 20)\n",
    "_ = ax[1].set_xticklabels(labels, rotation=90, fontsize = 20)\n",
    "\n",
    "ax[0].tick_params(axis='both', which='major', labelsize=20)\n",
    "ax[1].tick_params(axis='both', which='major', labelsize=20)\n",
    "\n",
    "plt.savefig('./figures/DS_Rates.svg', bbox_inches = 'tight')"
   ]
  },
  {
   "cell_type": "markdown",
   "id": "af8db113-43ca-4755-9566-f5ec4e8ea527",
   "metadata": {},
   "source": [
    "# Plot SoupX results"
   ]
  },
  {
   "cell_type": "code",
   "execution_count": 18,
   "id": "96bbc3b8-5867-43fb-a3ed-d66e30112499",
   "metadata": {},
   "outputs": [],
   "source": [
    "soupx = pd.read_csv('../../SoupX.csv', index_col = 0)\n",
    "soupx['Sample'] = ['sample1', 'sample2']\n",
    "\n",
    "soupx = soupx[soupx.Sample.isin(['sample1', 'sample2'])]"
   ]
  },
  {
   "cell_type": "code",
   "execution_count": 19,
   "id": "096d32bf-2312-4029-9195-832ec412478a",
   "metadata": {},
   "outputs": [
    {
     "data": {
      "image/png": "[encoded data removed]",
      "text/plain": [
       "<Figure size 400x560 with 1 Axes>"
      ]
     },
     "metadata": {},
     "output_type": "display_data"
    }
   ],
   "source": [
    "sns.set_theme(style = 'whitegrid')\n",
    "\n",
    "fig, ax = plt.subplots( figsize = (5,7))\n",
    "\n",
    "sns.barplot(data = soupx, x = 'Sample', y = 'contamination', ax = ax, palette = 'Set2')\n",
    "\n",
    "ax.set_ylabel('AmbientRNA (SoupX)', fontsize = 20)\n",
    "ax.set_xlabel('Dataset', fontsize = 20)\n",
    "\n",
    "ax.tick_params(axis='both', which='major', labelsize=20)\n",
    "\n",
    "plt.savefig('./figures/SoupX.svg', bbox_inches = 'tight')"
   ]
  },
  {
   "cell_type": "markdown",
   "id": "4b2bc12e-2bfb-45c2-a301-2e5ddf9b5953",
   "metadata": {},
   "source": [
    "# Plot log1p of total counts"
   ]
  },
  {
   "cell_type": "code",
   "execution_count": 20,
   "id": "2761de80-d737-4c08-ab3b-c9b5318d7412",
   "metadata": {},
   "outputs": [],
   "source": [
    "log1p_df = pd.read_csv('../../log1p_tot_counts.csv', index_col = 0)"
   ]
  },
  {
   "cell_type": "code",
   "execution_count": 21,
   "id": "61875998-c828-476a-93c1-dd36f6ec2eac",
   "metadata": {},
   "outputs": [
    {
     "data": {
      "text/html": [
       "<div>\n",
       "<style scoped>\n",
       "    .dataframe tbody tr th:only-of-type {\n",
       "        vertical-align: middle;\n",
       "    }\n",
       "\n",
       "    .dataframe tbody tr th {\n",
       "        vertical-align: top;\n",
       "    }\n",
       "\n",
       "    .dataframe thead th {\n",
       "        text-align: right;\n",
       "    }\n",
       "</style>\n",
       "<table border=\"1\" class=\"dataframe\">\n",
       "  <thead>\n",
       "    <tr style=\"text-align: right;\">\n",
       "      <th></th>\n",
       "      <th>index</th>\n",
       "      <th>variable</th>\n",
       "      <th>value</th>\n",
       "    </tr>\n",
       "  </thead>\n",
       "  <tbody>\n",
       "    <tr>\n",
       "      <th>0</th>\n",
       "      <td>sample1</td>\n",
       "      <td>0</td>\n",
       "      <td>9.391244</td>\n",
       "    </tr>\n",
       "    <tr>\n",
       "      <th>1</th>\n",
       "      <td>sample2</td>\n",
       "      <td>0</td>\n",
       "      <td>7.003974</td>\n",
       "    </tr>\n",
       "    <tr>\n",
       "      <th>2</th>\n",
       "      <td>sample1</td>\n",
       "      <td>1</td>\n",
       "      <td>9.595534</td>\n",
       "    </tr>\n",
       "    <tr>\n",
       "      <th>3</th>\n",
       "      <td>sample2</td>\n",
       "      <td>1</td>\n",
       "      <td>8.107118</td>\n",
       "    </tr>\n",
       "    <tr>\n",
       "      <th>4</th>\n",
       "      <td>sample1</td>\n",
       "      <td>2</td>\n",
       "      <td>10.135947</td>\n",
       "    </tr>\n",
       "    <tr>\n",
       "      <th>...</th>\n",
       "      <td>...</td>\n",
       "      <td>...</td>\n",
       "      <td>...</td>\n",
       "    </tr>\n",
       "    <tr>\n",
       "      <th>43437</th>\n",
       "      <td>sample2</td>\n",
       "      <td>21718</td>\n",
       "      <td>NaN</td>\n",
       "    </tr>\n",
       "    <tr>\n",
       "      <th>43438</th>\n",
       "      <td>sample1</td>\n",
       "      <td>21719</td>\n",
       "      <td>7.100852</td>\n",
       "    </tr>\n",
       "    <tr>\n",
       "      <th>43439</th>\n",
       "      <td>sample2</td>\n",
       "      <td>21719</td>\n",
       "      <td>NaN</td>\n",
       "    </tr>\n",
       "    <tr>\n",
       "      <th>43440</th>\n",
       "      <td>sample1</td>\n",
       "      <td>21720</td>\n",
       "      <td>8.010692</td>\n",
       "    </tr>\n",
       "    <tr>\n",
       "      <th>43441</th>\n",
       "      <td>sample2</td>\n",
       "      <td>21720</td>\n",
       "      <td>NaN</td>\n",
       "    </tr>\n",
       "  </tbody>\n",
       "</table>\n",
       "<p>43442 rows × 3 columns</p>\n",
       "</div>"
      ],
      "text/plain": [
       "         index variable      value\n",
       "0      sample1        0   9.391244\n",
       "1      sample2        0   7.003974\n",
       "2      sample1        1   9.595534\n",
       "3      sample2        1   8.107118\n",
       "4      sample1        2  10.135947\n",
       "...        ...      ...        ...\n",
       "43437  sample2    21718        NaN\n",
       "43438  sample1    21719   7.100852\n",
       "43439  sample2    21719        NaN\n",
       "43440  sample1    21720   8.010692\n",
       "43441  sample2    21720        NaN\n",
       "\n",
       "[43442 rows x 3 columns]"
      ]
     },
     "execution_count": 21,
     "metadata": {},
     "output_type": "execute_result"
    }
   ],
   "source": [
    "log1p_df = log1p_df.reset_index().melt(id_vars='index')\n",
    "log1p_df"
   ]
  },
  {
   "cell_type": "code",
   "execution_count": 22,
   "id": "d09f327e-370f-450d-9ddd-25f66597a4ab",
   "metadata": {},
   "outputs": [
    {
     "data": {
      "image/png": "[encoded data removed]",
      "text/plain": [
       "<Figure size 400x560 with 1 Axes>"
      ]
     },
     "metadata": {},
     "output_type": "display_data"
    }
   ],
   "source": [
    "sns.set_theme(style = 'whitegrid')\n",
    "\n",
    "fig, ax = plt.subplots( figsize = (5,7))\n",
    "\n",
    "sns.boxplot(data = log1p_df, x = 'index', y = 'value', ax = ax, palette = 'Set2')\n",
    "\n",
    "ax.set_ylabel('log1p Total Counts', fontsize = 20)\n",
    "ax.set_xlabel('Dataset', fontsize = 20)\n",
    "\n",
    "ax.tick_params(axis='both', which='major', labelsize=20)\n",
    "\n",
    "plt.savefig('./figures/log1p_tot_counts.svg', bbox_inches = 'tight')"
   ]
  }
 ],
 "metadata": {
  "kernelspec": {
   "display_name": "Python 3",
   "language": "python",
   "name": "python3"
  },
  "language_info": {
   "codemirror_mode": {
    "name": "ipython",
    "version": 3
   },
   "file_extension": ".py",
   "mimetype": "text/x-python",
   "name": "python",
   "nbconvert_exporter": "python",
   "pygments_lexer": "ipython3",
   "version": "3.8.5"
  }
 },
 "nbformat": 4,
 "nbformat_minor": 5
}
