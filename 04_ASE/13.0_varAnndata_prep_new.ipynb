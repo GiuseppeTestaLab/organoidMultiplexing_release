{
 "cells": [
  {
   "cell_type": "markdown",
   "id": "f301f4ff-fbeb-4db8-9252-e0f50a69d74f",
   "metadata": {},
   "source": [
    "# Env setupu"
   ]
  },
  {
   "cell_type": "code",
   "execution_count": 1,
   "id": "589ab976-3212-4c32-940a-e02fe1ba1bc7",
   "metadata": {},
   "outputs": [],
   "source": [
    "import scanpy as sc, anndata as ad, numpy as np, pandas as pd\n",
    "from scipy import sparse\n",
    "from anndata import AnnData\n",
    "from matplotlib import pylab\n",
    "import warnings\n",
    "import networkx as nx\n",
    "import socket\n",
    "import scvelo as scv\n",
    "import yaml\n",
    "import itertools\n",
    "import seaborn as sns\n",
    "import os\n",
    "import sys\n",
    "\n",
    "warnings.filterwarnings('ignore')"
   ]
  },
  {
   "cell_type": "code",
   "execution_count": 2,
   "id": "d0a50bc9-eb62-4774-afb8-747f3a4f307e",
   "metadata": {},
   "outputs": [
    {
     "name": "stdout",
     "output_type": "stream",
     "text": [
      "scanpy==1.8.0 anndata==0.8.0 umap==0.4.6 numpy==1.22.2 scipy==1.6.2 pandas==1.2.3 scikit-learn==0.24.1 statsmodels==0.13.5 python-igraph==0.9.1 louvain==0.7.0 leidenalg==0.8.3\n"
     ]
    }
   ],
   "source": [
    "sc.settings.verbosity = 4   \n",
    "# verbosity: errors (0), warnings (1), info (2), hints (3)\n",
    "sc.logging.print_header()\n"
   ]
  },
  {
   "cell_type": "markdown",
   "id": "d8144243-5b45-4a86-8a50-4227d0cf0b1a",
   "metadata": {},
   "source": [
    "# Configure paths"
   ]
  },
  {
   "cell_type": "code",
   "execution_count": 3,
   "id": "c4d8f95d-8bc9-49af-9430-b70e80e71d03",
   "metadata": {},
   "outputs": [],
   "source": [
    "outdir = \"../data/output\""
   ]
  },
  {
   "cell_type": "code",
   "execution_count": 8,
   "id": "e4d3cc4d-4326-4bab-8abc-550e8ee5e41b",
   "metadata": {},
   "outputs": [
    {
     "data": {
      "text/plain": [
       "'../data/output/adatas/adataPaga.h5ad'"
      ]
     },
     "execution_count": 8,
     "metadata": {},
     "output_type": "execute_result"
    }
   ],
   "source": [
    "outdir+\"/adatas/adataPaga.h5ad\""
   ]
  },
  {
   "cell_type": "markdown",
   "id": "7c78661b-09aa-49bb-ad74-f7ba78611321",
   "metadata": {},
   "source": [
    "# Paga adata"
   ]
  },
  {
   "cell_type": "code",
   "execution_count": 4,
   "id": "bef4b84f-46ae-4b8d-80e2-67e5f7fe84af",
   "metadata": {},
   "outputs": [],
   "source": [
    "adataPaga = sc.read_h5ad(outdir+\"/adatas/adataPaga.h5ad\")\n",
    "adataPaga\n",
    "\n",
    "allbarcodes = adataPaga.obs_names.tolist()"
   ]
  },
  {
   "cell_type": "markdown",
   "id": "dea857f0-732d-4d94-82c3-9583eb0dce0a",
   "metadata": {},
   "source": [
    "# varAdatas"
   ]
  },
  {
   "cell_type": "code",
   "execution_count": 5,
   "id": "ca158549-d7c0-44ab-9202-c4f6e1236c60",
   "metadata": {},
   "outputs": [
    {
     "data": {
      "text/plain": [
       "View of AnnData object with n_obs × n_vars = 14913 × 83430\n",
       "    layers: 'AltReads', 'RefReads'"
      ]
     },
     "execution_count": 5,
     "metadata": {},
     "output_type": "execute_result"
    }
   ],
   "source": [
    "\n",
    "VarAdataDict = {\n",
    "\"UpD50\" : \"../data/Sample_S20272_157/varAdata.h5ad\",\n",
    "\"DownD50\" : \"../data/Sample_S20273_158/varAdata.h5ad\",\n",
    "\"UpD100_1\" : \"../data/Sample_S20812_258/varAdata.h5ad\",\n",
    "\"UpD100_2\" : \"../data/Sample_S20813_259/varAdata.h5ad\",\n",
    "\"DownD250\" : \"../data/Sample_S20814_260/varAdata.h5ad\",\n",
    "\"DownD100\" : \"../data/Sample_S31807_MET6/varAdata.h5ad\",\n",
    "\"UpD300\" : \"../data/Sample_S33846_C_GEX/varAdata.h5ad\"\n",
    "}\n",
    "\n",
    "for k in list(VarAdataDict.keys()):\n",
    "    VarAdataDict[k] = sc.read_h5ad(VarAdataDict[k])\n",
    "    VarAdataDict[k].obs_names = [bc +\"_\"+str(k) for bc in VarAdataDict[k].obs_names.tolist() ]\n",
    "    \n",
    "    \n",
    "    \n",
    "varAdata = ad.concat(list(VarAdataDict.values()), join = \"outer\")[allbarcodes]\n",
    "varAdata"
   ]
  },
  {
   "cell_type": "code",
   "execution_count": 6,
   "id": "d1d61c66-20c0-4b65-932d-becdf9f65482",
   "metadata": {},
   "outputs": [],
   "source": [
    "varAdata.obs = pd.concat([varAdata.obs, adataPaga.obs[[\"dataset\",\"cellID_newName\",\"leidenAnnotated\",\"stage\",\"type\"]]], axis = 1)\n",
    "varAdata.obs.type.replace({\"downstream\":\"non_chimeric\",\"upstream\":\"chimeric\"}, inplace=True)"
   ]
  },
  {
   "cell_type": "code",
   "execution_count": 7,
   "id": "f3a6284b-b903-499b-b490-6f96ee285bc4",
   "metadata": {},
   "outputs": [],
   "source": [
    "varAdata.write_h5ad(outdir+\"/adatas/VarAnndata_complete.h5ad\")"
   ]
  }
 ],
 "metadata": {
  "kernelspec": {
   "display_name": "Python 3",
   "language": "python",
   "name": "python3"
  },
  "language_info": {
   "codemirror_mode": {
    "name": "ipython",
    "version": 3
   },
   "file_extension": ".py",
   "mimetype": "text/x-python",
   "name": "python",
   "nbconvert_exporter": "python",
   "pygments_lexer": "ipython3",
   "version": "3.8.5"
  }
 },
 "nbformat": 4,
 "nbformat_minor": 5
}
