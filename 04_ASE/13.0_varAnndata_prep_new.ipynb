{
 "cells": [
  {
   "cell_type": "markdown",
   "id": "f301f4ff-fbeb-4db8-9252-e0f50a69d74f",
   "metadata": {},
   "source": [
    "# Env setupu"
   ]
  },
  {
   "cell_type": "code",
   "execution_count": 1,
   "id": "589ab976-3212-4c32-940a-e02fe1ba1bc7",
   "metadata": {
    "execution": {
     "iopub.execute_input": "2023-07-23T17:55:00.932283Z",
     "iopub.status.busy": "2023-07-23T17:55:00.930225Z",
     "iopub.status.idle": "2023-07-23T17:55:02.625056Z",
     "shell.execute_reply": "2023-07-23T17:55:02.625377Z"
    }
   },
   "outputs": [],
   "source": [
    "import scanpy as sc, anndata as ad, numpy as np, pandas as pd\n",
    "from scipy import sparse\n",
    "from anndata import AnnData\n",
    "from matplotlib import pylab\n",
    "import warnings\n",
    "import networkx as nx\n",
    "import socket\n",
    "import scvelo as scv\n",
    "import yaml\n",
    "import itertools\n",
    "import seaborn as sns\n",
    "import os\n",
    "import sys\n",
    "\n",
    "warnings.filterwarnings('ignore')"
   ]
  },
  {
   "cell_type": "code",
   "execution_count": 2,
   "id": "d0a50bc9-eb62-4774-afb8-747f3a4f307e",
   "metadata": {
    "execution": {
     "iopub.execute_input": "2023-07-23T17:55:02.628334Z",
     "iopub.status.busy": "2023-07-23T17:55:02.628025Z",
     "iopub.status.idle": "2023-07-23T17:55:03.372395Z",
     "shell.execute_reply": "2023-07-23T17:55:03.371511Z"
    }
   },
   "outputs": [
    {
     "name": "stdout",
     "output_type": "stream",
     "text": [
      "scanpy==1.8.0 anndata==0.8.0 umap==0.4.6 numpy==1.22.2 scipy==1.6.2 pandas==1.2.3 scikit-learn==0.24.1 statsmodels==0.13.5 python-igraph==0.9.1 louvain==0.7.0 leidenalg==0.8.3\n"
     ]
    }
   ],
   "source": [
    "sc.settings.verbosity = 4   \n",
    "# verbosity: errors (0), warnings (1), info (2), hints (3)\n",
    "sc.logging.print_header()\n"
   ]
  },
  {
   "cell_type": "markdown",
   "id": "d8144243-5b45-4a86-8a50-4227d0cf0b1a",
   "metadata": {},
   "source": [
    "# Configure paths"
   ]
  },
  {
   "cell_type": "code",
   "execution_count": 3,
   "id": "c4d8f95d-8bc9-49af-9430-b70e80e71d03",
   "metadata": {
    "execution": {
     "iopub.execute_input": "2023-07-23T17:55:03.375727Z",
     "iopub.status.busy": "2023-07-23T17:55:03.375409Z",
     "iopub.status.idle": "2023-07-23T17:55:03.378945Z",
     "shell.execute_reply": "2023-07-23T17:55:03.377930Z"
    }
   },
   "outputs": [],
   "source": [
    "outdir = \"../data/output\""
   ]
  },
  {
   "cell_type": "markdown",
   "id": "20aa1fa6-9e9f-4d53-8455-03f5ab120961",
   "metadata": {},
   "source": [
    "# DPT adatas"
   ]
  },
  {
   "cell_type": "code",
   "execution_count": 4,
   "id": "dd05c2f4-9985-4bae-87c9-77c647750783",
   "metadata": {
    "execution": {
     "iopub.execute_input": "2023-07-23T17:55:03.433862Z",
     "iopub.status.busy": "2023-07-23T17:55:03.433535Z",
     "iopub.status.idle": "2023-07-23T17:55:24.815650Z",
     "shell.execute_reply": "2023-07-23T17:55:24.816109Z"
    }
   },
   "outputs": [],
   "source": [
    "\n",
    "# We load refined lineages anndata to store final barcodelists and branch specific dpts \n",
    "# Note: we are doing this since from adataPaga further branch-specific refined was performed (Notebooks 03/Trajectories/*lineage*.ipynb) and after that branch-specific dpt was computed\n",
    "\n",
    "adataTags = [\"AdataLineage.Migrating.h5ad\",\n",
    "\"AdataLineage.Astro.h5ad\",\n",
    "\"AdataLineage.Cajal.h5ad\",\n",
    "\"AdataLineage.Exc_early.h5ad\",\n",
    "\"AdataLineage.Exc_late.h5ad\",\n",
    "\"AdataLineage.Interneurons.h5ad\"]\n",
    "\n",
    "adataLineagesDict = dict(zip(\n",
    "    [\"Migrating\",\"Astro\",\"Cajal\",\"Exc_early\",\"Exc_late\",\"Interneurons\"],\n",
    "    [\"/adatas/\".join(l) for l in list(itertools.product([outdir],adataTags))]\n",
    "))\n",
    "\n",
    "for k in adataLineagesDict.keys():\n",
    "    adataLineagesDict[k] = sc.read_h5ad(adataLineagesDict[k])\n",
    "\n",
    "    \n",
    "tmpadata = ad.concat(list(adataLineagesDict.values()), join = \"outer\")\n",
    "allbarcodes = list(set(tmpadata.obs_names))\n",
    "del tmpadata"
   ]
  },
  {
   "cell_type": "markdown",
   "id": "7c78661b-09aa-49bb-ad74-f7ba78611321",
   "metadata": {},
   "source": [
    "# Paga adata"
   ]
  },
  {
   "cell_type": "code",
   "execution_count": 5,
   "id": "bef4b84f-46ae-4b8d-80e2-67e5f7fe84af",
   "metadata": {
    "execution": {
     "iopub.execute_input": "2023-07-23T17:55:24.884062Z",
     "iopub.status.busy": "2023-07-23T17:55:24.883702Z",
     "iopub.status.idle": "2023-07-23T17:55:29.339004Z",
     "shell.execute_reply": "2023-07-23T17:55:29.338694Z"
    }
   },
   "outputs": [
    {
     "data": {
      "text/plain": [
       "View of AnnData object with n_obs × n_vars = 13850 × 3499\n",
       "    obs: 'dataset', 'cellID', 'cellID_newName', 'n_genes_by_counts', 'log1p_n_genes_by_counts', 'total_counts', 'log1p_total_counts', 'total_counts_mt', 'log1p_total_counts_mt', 'pct_counts_mt', 'total_counts_ribo', 'log1p_total_counts_ribo', 'pct_counts_ribo', 'stage', 'type', 'id_stage', 'cellID_newName_type', 'S_score', 'G2M_score', 'phase', 'leidenAnnotated', 'leiden_1.2', 'endpoint_GlutamatergicNeurons_late', 'endpoint_GlutamatergicNeurons_early', 'endpoint_MigratingNeurons', 'endpoint_OuterRadialGliaAstrocytes', 'endpoint_Interneurons', 'endpoint_Interneurons_GAD2', 'endpoint_CajalR_like', 'Exc_Lineage', 'endpoint_GlutamatergicNeurons_both'\n",
       "    var: 'highly_variable', 'mean', 'std'\n",
       "    uns: 'Exc_Lineage_colors', 'cellID_colors', 'cellID_newName_colors', 'cellID_newName_type_colors', 'cluster_colors', 'dataset_colors', 'diffmap_evals', 'draw_graph', 'leiden', 'leidenAnnotated_colors', 'leiden_1.2_colors', 'leiden_1.2_sizes', 'leiden_Filt_colors', 'leiden_colors', 'neighbors', 'paga', 'pca', 'phase_colors', 'score_filt', 'stage_colors', 'type_colors', 'umap'\n",
       "    obsm: 'X_diffmap', 'X_draw_graph_fa', 'X_pca', 'X_umap'\n",
       "    varm: 'PCs'\n",
       "    obsp: 'connectivities', 'distances'"
      ]
     },
     "execution_count": 1,
     "metadata": {},
     "output_type": "execute_result"
    }
   ],
   "source": [
    "adataPaga = sc.read_h5ad(outdir+\"/adatas/adataPaga.h5ad\")[allbarcodes]\n",
    "adataPaga"
   ]
  },
  {
   "cell_type": "markdown",
   "id": "dea857f0-732d-4d94-82c3-9583eb0dce0a",
   "metadata": {},
   "source": [
    "# varAdatas"
   ]
  },
  {
   "cell_type": "code",
   "execution_count": 6,
   "id": "ca158549-d7c0-44ab-9202-c4f6e1236c60",
   "metadata": {
    "execution": {
     "iopub.execute_input": "2023-07-23T17:55:29.395733Z",
     "iopub.status.busy": "2023-07-23T17:55:29.365734Z",
     "iopub.status.idle": "2023-07-23T17:56:01.784092Z",
     "shell.execute_reply": "2023-07-23T17:56:01.783736Z"
    }
   },
   "outputs": [
    {
     "data": {
      "text/plain": [
       "View of AnnData object with n_obs × n_vars = 13850 × 83430\n",
       "    layers: 'AltReads', 'RefReads'"
      ]
     },
     "execution_count": 1,
     "metadata": {},
     "output_type": "execute_result"
    }
   ],
   "source": [
    "\n",
    "VarAdataDict = {\n",
    "\"UpD50\" : \"../data/Sample_S20272_157/varAdata.h5ad\",\n",
    "\"DownD50\" : \"../data/Sample_S20273_158/varAdata.h5ad\",\n",
    "\"UpD100_1\" : \"../data/Sample_S20812_258/varAdata.h5ad\",\n",
    "\"UpD100_2\" : \"../data/Sample_S20813_259/varAdata.h5ad\",\n",
    "\"DownD250\" : \"../data/Sample_S20814_260/varAdata.h5ad\",\n",
    "\"DownD100\" : \"../data/Sample_S31807_MET6/varAdata.h5ad\",\n",
    "\"UpD300\" : \"../data/Sample_S33846_C_GEX/varAdata.h5ad\"\n",
    "}\n",
    "\n",
    "for k in list(VarAdataDict.keys()):\n",
    "    VarAdataDict[k] = sc.read_h5ad(VarAdataDict[k])\n",
    "    VarAdataDict[k].obs_names = [bc +\"_\"+str(k) for bc in VarAdataDict[k].obs_names.tolist() ]\n",
    "    \n",
    "    \n",
    "    \n",
    "varAdata = ad.concat(list(VarAdataDict.values()), join = \"outer\")[allbarcodes]\n",
    "varAdata"
   ]
  },
  {
   "cell_type": "markdown",
   "id": "9c5b3159-b5c3-48fd-9c78-48f78d6aa64a",
   "metadata": {},
   "source": [
    "# Branch membership ad lineage specific dpt transfer"
   ]
  },
  {
   "cell_type": "code",
   "execution_count": 7,
   "id": "476b4c66-ac17-460e-9446-9dbddce454d1",
   "metadata": {
    "execution": {
     "iopub.execute_input": "2023-07-23T17:56:01.787022Z",
     "iopub.status.busy": "2023-07-23T17:56:01.786720Z",
     "iopub.status.idle": "2023-07-23T17:56:01.789045Z",
     "shell.execute_reply": "2023-07-23T17:56:01.788788Z"
    }
   },
   "outputs": [
    {
     "data": {
      "text/plain": [
       "dict_keys(['Migrating', 'Astro', 'Cajal', 'Exc_early', 'Exc_late', 'Interneurons'])"
      ]
     },
     "execution_count": 1,
     "metadata": {},
     "output_type": "execute_result"
    }
   ],
   "source": [
    "adataLineagesDict.keys()"
   ]
  },
  {
   "cell_type": "code",
   "execution_count": 8,
   "id": "e9aa6df9-c549-4dd4-93a3-c2eb18cb0eed",
   "metadata": {
    "execution": {
     "iopub.execute_input": "2023-07-23T17:56:01.791843Z",
     "iopub.status.busy": "2023-07-23T17:56:01.791506Z",
     "iopub.status.idle": "2023-07-23T17:56:01.925289Z",
     "shell.execute_reply": "2023-07-23T17:56:01.924850Z"
    }
   },
   "outputs": [],
   "source": [
    "for k in list(adataLineagesDict.keys()):\n",
    "    varAdata.obs[k+\"_pseudotime\"] = np.nan\n",
    "    varAdata.obs.loc[adataLineagesDict[k].obs_names,k+\"_pseudotime\"] = adataLineagesDict[k].obs[\"dpt_pseudotime\"].copy()\n",
    "\n",
    "        "
   ]
  },
  {
   "cell_type": "code",
   "execution_count": 9,
   "id": "d6c97a23-acfb-4115-a268-6e0cee0a5a9b",
   "metadata": {
    "execution": {
     "iopub.execute_input": "2023-07-23T17:56:01.930201Z",
     "iopub.status.busy": "2023-07-23T17:56:01.929885Z",
     "iopub.status.idle": "2023-07-23T17:56:01.940061Z",
     "shell.execute_reply": "2023-07-23T17:56:01.939736Z"
    }
   },
   "outputs": [
    {
     "data": {
      "text/html": [
       "<div>\n",
       "<style scoped>\n",
       "    .dataframe tbody tr th:only-of-type {\n",
       "        vertical-align: middle;\n",
       "    }\n",
       "\n",
       "    .dataframe tbody tr th {\n",
       "        vertical-align: top;\n",
       "    }\n",
       "\n",
       "    .dataframe thead th {\n",
       "        text-align: right;\n",
       "    }\n",
       "</style>\n",
       "<table border=\"1\" class=\"dataframe\">\n",
       "  <thead>\n",
       "    <tr style=\"text-align: right;\">\n",
       "      <th></th>\n",
       "      <th>Migrating_pseudotime</th>\n",
       "      <th>Astro_pseudotime</th>\n",
       "      <th>Cajal_pseudotime</th>\n",
       "      <th>Exc_early_pseudotime</th>\n",
       "      <th>Exc_late_pseudotime</th>\n",
       "      <th>Interneurons_pseudotime</th>\n",
       "    </tr>\n",
       "  </thead>\n",
       "  <tbody>\n",
       "    <tr>\n",
       "      <th>ATCATGGCACCCAGTG-1_DownD50</th>\n",
       "      <td>NaN</td>\n",
       "      <td>NaN</td>\n",
       "      <td>0.544692</td>\n",
       "      <td>NaN</td>\n",
       "      <td>NaN</td>\n",
       "      <td>NaN</td>\n",
       "    </tr>\n",
       "    <tr>\n",
       "      <th>TTCCCAGTCGATCCCT-1_UpD50</th>\n",
       "      <td>0.368105</td>\n",
       "      <td>NaN</td>\n",
       "      <td>NaN</td>\n",
       "      <td>0.697228</td>\n",
       "      <td>NaN</td>\n",
       "      <td>NaN</td>\n",
       "    </tr>\n",
       "    <tr>\n",
       "      <th>TAGGCATGTAAGGATT-1_DownD50</th>\n",
       "      <td>0.384284</td>\n",
       "      <td>NaN</td>\n",
       "      <td>NaN</td>\n",
       "      <td>0.729012</td>\n",
       "      <td>NaN</td>\n",
       "      <td>NaN</td>\n",
       "    </tr>\n",
       "    <tr>\n",
       "      <th>TGAGCATAGGCATTGG-1_DownD100</th>\n",
       "      <td>NaN</td>\n",
       "      <td>NaN</td>\n",
       "      <td>NaN</td>\n",
       "      <td>0.904658</td>\n",
       "      <td>NaN</td>\n",
       "      <td>NaN</td>\n",
       "    </tr>\n",
       "    <tr>\n",
       "      <th>ACAGCTATCCAGGGCT-1_DownD100</th>\n",
       "      <td>0.386297</td>\n",
       "      <td>NaN</td>\n",
       "      <td>NaN</td>\n",
       "      <td>0.724688</td>\n",
       "      <td>NaN</td>\n",
       "      <td>NaN</td>\n",
       "    </tr>\n",
       "    <tr>\n",
       "      <th>...</th>\n",
       "      <td>...</td>\n",
       "      <td>...</td>\n",
       "      <td>...</td>\n",
       "      <td>...</td>\n",
       "      <td>...</td>\n",
       "      <td>...</td>\n",
       "    </tr>\n",
       "    <tr>\n",
       "      <th>TCAGGTATCCCACTTG-1_UpD50</th>\n",
       "      <td>NaN</td>\n",
       "      <td>NaN</td>\n",
       "      <td>NaN</td>\n",
       "      <td>0.890487</td>\n",
       "      <td>NaN</td>\n",
       "      <td>NaN</td>\n",
       "    </tr>\n",
       "    <tr>\n",
       "      <th>GCTGCGATCTTAGCCC-1_DownD250</th>\n",
       "      <td>NaN</td>\n",
       "      <td>NaN</td>\n",
       "      <td>NaN</td>\n",
       "      <td>NaN</td>\n",
       "      <td>NaN</td>\n",
       "      <td>0.934203</td>\n",
       "    </tr>\n",
       "    <tr>\n",
       "      <th>CCGTTCAGTACTCTCC-1_DownD50</th>\n",
       "      <td>0.459232</td>\n",
       "      <td>NaN</td>\n",
       "      <td>NaN</td>\n",
       "      <td>0.778597</td>\n",
       "      <td>NaN</td>\n",
       "      <td>NaN</td>\n",
       "    </tr>\n",
       "    <tr>\n",
       "      <th>AGTTGGTCACGGTAGA-1_DownD250</th>\n",
       "      <td>NaN</td>\n",
       "      <td>NaN</td>\n",
       "      <td>NaN</td>\n",
       "      <td>NaN</td>\n",
       "      <td>0.785716</td>\n",
       "      <td>NaN</td>\n",
       "    </tr>\n",
       "    <tr>\n",
       "      <th>TCATTACAGATAGCAT-1_UpD50</th>\n",
       "      <td>0.262173</td>\n",
       "      <td>NaN</td>\n",
       "      <td>0.304087</td>\n",
       "      <td>0.519746</td>\n",
       "      <td>NaN</td>\n",
       "      <td>0.412663</td>\n",
       "    </tr>\n",
       "  </tbody>\n",
       "</table>\n",
       "<p>13850 rows × 6 columns</p>\n",
       "</div>"
      ],
      "text/plain": [
       "                             Migrating_pseudotime  Astro_pseudotime  \\\n",
       "ATCATGGCACCCAGTG-1_DownD50                    NaN               NaN   \n",
       "TTCCCAGTCGATCCCT-1_UpD50                 0.368105               NaN   \n",
       "TAGGCATGTAAGGATT-1_DownD50               0.384284               NaN   \n",
       "TGAGCATAGGCATTGG-1_DownD100                   NaN               NaN   \n",
       "ACAGCTATCCAGGGCT-1_DownD100              0.386297               NaN   \n",
       "...                                           ...               ...   \n",
       "TCAGGTATCCCACTTG-1_UpD50                      NaN               NaN   \n",
       "GCTGCGATCTTAGCCC-1_DownD250                   NaN               NaN   \n",
       "CCGTTCAGTACTCTCC-1_DownD50               0.459232               NaN   \n",
       "AGTTGGTCACGGTAGA-1_DownD250                   NaN               NaN   \n",
       "TCATTACAGATAGCAT-1_UpD50                 0.262173               NaN   \n",
       "\n",
       "                             Cajal_pseudotime  Exc_early_pseudotime  \\\n",
       "ATCATGGCACCCAGTG-1_DownD50           0.544692                   NaN   \n",
       "TTCCCAGTCGATCCCT-1_UpD50                  NaN              0.697228   \n",
       "TAGGCATGTAAGGATT-1_DownD50                NaN              0.729012   \n",
       "TGAGCATAGGCATTGG-1_DownD100               NaN              0.904658   \n",
       "ACAGCTATCCAGGGCT-1_DownD100               NaN              0.724688   \n",
       "...                                       ...                   ...   \n",
       "TCAGGTATCCCACTTG-1_UpD50                  NaN              0.890487   \n",
       "GCTGCGATCTTAGCCC-1_DownD250               NaN                   NaN   \n",
       "CCGTTCAGTACTCTCC-1_DownD50                NaN              0.778597   \n",
       "AGTTGGTCACGGTAGA-1_DownD250               NaN                   NaN   \n",
       "TCATTACAGATAGCAT-1_UpD50             0.304087              0.519746   \n",
       "\n",
       "                             Exc_late_pseudotime  Interneurons_pseudotime  \n",
       "ATCATGGCACCCAGTG-1_DownD50                   NaN                      NaN  \n",
       "TTCCCAGTCGATCCCT-1_UpD50                     NaN                      NaN  \n",
       "TAGGCATGTAAGGATT-1_DownD50                   NaN                      NaN  \n",
       "TGAGCATAGGCATTGG-1_DownD100                  NaN                      NaN  \n",
       "ACAGCTATCCAGGGCT-1_DownD100                  NaN                      NaN  \n",
       "...                                          ...                      ...  \n",
       "TCAGGTATCCCACTTG-1_UpD50                     NaN                      NaN  \n",
       "GCTGCGATCTTAGCCC-1_DownD250                  NaN                 0.934203  \n",
       "CCGTTCAGTACTCTCC-1_DownD50                   NaN                      NaN  \n",
       "AGTTGGTCACGGTAGA-1_DownD250             0.785716                      NaN  \n",
       "TCATTACAGATAGCAT-1_UpD50                     NaN                 0.412663  \n",
       "\n",
       "[13850 rows x 6 columns]"
      ]
     },
     "execution_count": 1,
     "metadata": {},
     "output_type": "execute_result"
    }
   ],
   "source": [
    "varAdata.obs"
   ]
  },
  {
   "cell_type": "markdown",
   "id": "6894298f-aaba-48fc-a54b-cadb5afc1a15",
   "metadata": {},
   "source": [
    "# Transfering other metadata"
   ]
  },
  {
   "cell_type": "code",
   "execution_count": 10,
   "id": "d1d61c66-20c0-4b65-932d-becdf9f65482",
   "metadata": {
    "execution": {
     "iopub.execute_input": "2023-07-23T17:56:01.943511Z",
     "iopub.status.busy": "2023-07-23T17:56:01.943181Z",
     "iopub.status.idle": "2023-07-23T17:56:01.954458Z",
     "shell.execute_reply": "2023-07-23T17:56:01.954138Z"
    }
   },
   "outputs": [],
   "source": [
    "varAdata.obs = pd.concat([varAdata.obs, adataPaga.obs[[\"dataset\",\"cellID_newName\",\"leidenAnnotated\",\"stage\",\"type\"]]], axis = 1)\n",
    "varAdata.obs.type.replace({\"downstream\":\"non_chimeric\",\"upstream\":\"chimeric\"}, inplace=True)"
   ]
  },
  {
   "cell_type": "code",
   "execution_count": 11,
   "id": "f3a6284b-b903-499b-b490-6f96ee285bc4",
   "metadata": {
    "execution": {
     "iopub.execute_input": "2023-07-23T17:56:01.959199Z",
     "iopub.status.busy": "2023-07-23T17:56:01.958872Z",
     "iopub.status.idle": "2023-07-23T17:56:02.767775Z",
     "shell.execute_reply": "2023-07-23T17:56:02.767407Z"
    }
   },
   "outputs": [],
   "source": [
    "varAdata.write_h5ad(outdir+\"/adatas/VarAnndata_complete.h5ad\")"
   ]
  },
  {
   "cell_type": "code",
   "execution_count": null,
   "id": "83953fa4-de1d-455b-9528-64242eeb8c72",
   "metadata": {},
   "outputs": [],
   "source": []
  }
 ],
 "metadata": {
  "kernelspec": {
   "display_name": "Python 3",
   "language": "python",
   "name": "python3"
  },
  "language_info": {
   "codemirror_mode": {
    "name": "ipython",
    "version": 3
   },
   "file_extension": ".py",
   "mimetype": "text/x-python",
   "name": "python",
   "nbconvert_exporter": "python",
   "pygments_lexer": "ipython3",
   "version": "3.8.5"
  }
 },
 "nbformat": 4,
 "nbformat_minor": 5
}
